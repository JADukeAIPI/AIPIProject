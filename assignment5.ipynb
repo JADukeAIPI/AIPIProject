{
  "cells": [
    {
      "cell_type": "markdown",
      "metadata": {
        "id": "view-in-github",
        "colab_type": "text"
      },
      "source": [
        "<a href=\"https://colab.research.google.com/github/JADukeAIPI/AIPIProject/blob/main/assignment5.ipynb\" target=\"_parent\"><img src=\"https://colab.research.google.com/assets/colab-badge.svg\" alt=\"Open In Colab\"/></a>"
      ]
    },
    {
      "cell_type": "markdown",
      "id": "e1290806",
      "metadata": {
        "id": "e1290806"
      },
      "source": [
        "Before you turn this problem in, make sure everything runs as expected. First, **restart the kernel** (in the menubar, select Kernel$\\rightarrow$Restart) and then **run all cells** (in the menubar, select Cell$\\rightarrow$Run All).\n",
        "\n",
        "Make sure you fill in any place that says `YOUR CODE HERE` or \"YOUR ANSWER HERE\", as well as your name and collaborators below:"
      ]
    },
    {
      "cell_type": "code",
      "execution_count": 113,
      "id": "457f9619",
      "metadata": {
        "id": "457f9619"
      },
      "outputs": [],
      "source": [
        "NAME = \"Chad Miller\"\n",
        "COLLABORATORS = \"\""
      ]
    },
    {
      "cell_type": "markdown",
      "id": "51c55494",
      "metadata": {
        "id": "51c55494"
      },
      "source": [
        "---"
      ]
    },
    {
      "cell_type": "markdown",
      "id": "a2b78b7e",
      "metadata": {
        "deletable": false,
        "editable": false,
        "nbgrader": {
          "cell_type": "markdown",
          "checksum": "4c0738f546be393d0b27f3b63dd93231",
          "grade": false,
          "grade_id": "cell-e0e011b4d743cf23",
          "locked": true,
          "schema_version": 3,
          "solution": false,
          "task": false
        },
        "id": "a2b78b7e"
      },
      "source": [
        "<a href='https://ai.meng.duke.edu'> = <img align=\"left\" style=\"padding-top:10px;\" src=https://storage.googleapis.com/aipi_datasets/Duke-AIPI-Logo.png>"
      ]
    },
    {
      "cell_type": "markdown",
      "id": "a01fd390",
      "metadata": {
        "deletable": false,
        "editable": false,
        "nbgrader": {
          "cell_type": "markdown",
          "checksum": "4429e9a6c8cb6ce40769b3da111e7277",
          "grade": false,
          "grade_id": "cell-d3481f00ef752c00",
          "locked": true,
          "schema_version": 3,
          "solution": false,
          "task": false
        },
        "id": "a01fd390"
      },
      "source": [
        "# Assignment 5"
      ]
    },
    {
      "cell_type": "code",
      "execution_count": 114,
      "id": "75f17a74",
      "metadata": {
        "deletable": false,
        "editable": false,
        "nbgrader": {
          "cell_type": "code",
          "checksum": "544a5f91fbcdca595853c598927cd97a",
          "grade": false,
          "grade_id": "cell-4ae5bf4b07cb2639",
          "locked": true,
          "schema_version": 3,
          "solution": false,
          "task": false
        },
        "id": "75f17a74"
      },
      "outputs": [],
      "source": [
        "# Run this before any other code cell\n",
        "# This downloads the csv data files into the same directory where you have saved this notebook\n",
        "\n",
        "import urllib.request\n",
        "from pathlib import Path\n",
        "import os\n",
        "path = Path()\n",
        "\n",
        "# Dictionary of file names and download links\n",
        "files = {'forestfires.csv':'https://storage.googleapis.com/aipi_datasets/forestfires.csv',\n",
        "        'Heart.csv':'https://storage.googleapis.com/aipi_datasets/Heart.csv'}\n",
        "\n",
        "# Download each file\n",
        "for key,value in files.items():\n",
        "    filename = path/key\n",
        "    url = value\n",
        "    # If the file does not already exist in the directory, download it\n",
        "    if not os.path.exists(filename):\n",
        "        urllib.request.urlretrieve(url,filename)"
      ]
    },
    {
      "cell_type": "code",
      "execution_count": 115,
      "id": "9fa692f3",
      "metadata": {
        "deletable": false,
        "editable": false,
        "nbgrader": {
          "cell_type": "code",
          "checksum": "bcea23248081645a04369a99bc37a531",
          "grade": false,
          "grade_id": "cell-3ad1bad7fc9b4356",
          "locked": true,
          "schema_version": 3,
          "solution": false,
          "task": false
        },
        "id": "9fa692f3"
      },
      "outputs": [],
      "source": [
        "import pandas as pd\n",
        "import numpy as np\n",
        "import matplotlib.pyplot as plt\n",
        "from sklearn.tree import DecisionTreeClassifier, DecisionTreeRegressor, plot_tree\n",
        "from sklearn.ensemble import RandomForestClassifier,AdaBoostClassifier, RandomForestRegressor\n",
        "from sklearn.model_selection import train_test_split,cross_val_score,GridSearchCV\n",
        "from sklearn.preprocessing import OrdinalEncoder\n",
        "from pandas.api.types import is_numeric_dtype\n",
        "from sklearn.cluster import AgglomerativeClustering\n",
        "from sklearn.metrics import silhouette_score, adjusted_rand_score\n",
        "from sklearn.decomposition import PCA\n",
        "from sklearn.metrics import pairwise_distances_argmin\n",
        "\n",
        "import warnings\n",
        "warnings.filterwarnings(\"ignore\")"
      ]
    },
    {
      "cell_type": "markdown",
      "id": "887616ca",
      "metadata": {
        "deletable": false,
        "editable": false,
        "nbgrader": {
          "cell_type": "markdown",
          "checksum": "779687ceb25e7ff964fdda3c2299f7c0",
          "grade": false,
          "grade_id": "cell-d0fe0ba12b147668",
          "locked": true,
          "schema_version": 3,
          "solution": false,
          "task": false
        },
        "id": "887616ca"
      },
      "source": [
        "### Question 1 [30 points]\n",
        "For this exercise you are going to implement a decision tree from scratch in pure Python.  You may NOT use any pandas or scikit-learn in your code (only in the code I have provided to read in and process the data)."
      ]
    },
    {
      "cell_type": "code",
      "execution_count": 116,
      "id": "d538e241",
      "metadata": {
        "deletable": false,
        "editable": false,
        "nbgrader": {
          "cell_type": "code",
          "checksum": "2361537a0034fd5ee6e0143e0aa885c4",
          "grade": false,
          "grade_id": "cell-8d5f84901506e643",
          "locked": true,
          "schema_version": 3,
          "solution": false,
          "task": false
        },
        "colab": {
          "base_uri": "https://localhost:8080/",
          "height": 204
        },
        "id": "d538e241",
        "outputId": "4f31fefd-a040-4246-dd37-5d35fae03835"
      },
      "outputs": [
        {
          "output_type": "execute_result",
          "data": {
            "text/plain": [
              "   Age Sex     ChestPain  RestBP  Chol  Fbs  RestECG  MaxHR ExAng  Oldpeak  \\\n",
              "1   63   1       typical     145   233    1        2    150     0      2.3   \n",
              "2   67   1  asymptomatic     160   286    0        2    108     1      1.5   \n",
              "3   67   1  asymptomatic     120   229    0        2    129     1      2.6   \n",
              "4   37   1    nonanginal     130   250    0        0    187     0      3.5   \n",
              "5   41   0    nontypical     130   204    0        2    172     0      1.4   \n",
              "\n",
              "  Slope   Ca        Thal  AHD  \n",
              "1     3  0.0       fixed    0  \n",
              "2     2  3.0      normal    1  \n",
              "3     2  2.0  reversable    1  \n",
              "4     3  0.0      normal    0  \n",
              "5     1  0.0      normal    0  "
            ],
            "text/html": [
              "\n",
              "  <div id=\"df-f992af6c-07c2-464b-ab31-ecc68decefdd\">\n",
              "    <div class=\"colab-df-container\">\n",
              "      <div>\n",
              "<style scoped>\n",
              "    .dataframe tbody tr th:only-of-type {\n",
              "        vertical-align: middle;\n",
              "    }\n",
              "\n",
              "    .dataframe tbody tr th {\n",
              "        vertical-align: top;\n",
              "    }\n",
              "\n",
              "    .dataframe thead th {\n",
              "        text-align: right;\n",
              "    }\n",
              "</style>\n",
              "<table border=\"1\" class=\"dataframe\">\n",
              "  <thead>\n",
              "    <tr style=\"text-align: right;\">\n",
              "      <th></th>\n",
              "      <th>Age</th>\n",
              "      <th>Sex</th>\n",
              "      <th>ChestPain</th>\n",
              "      <th>RestBP</th>\n",
              "      <th>Chol</th>\n",
              "      <th>Fbs</th>\n",
              "      <th>RestECG</th>\n",
              "      <th>MaxHR</th>\n",
              "      <th>ExAng</th>\n",
              "      <th>Oldpeak</th>\n",
              "      <th>Slope</th>\n",
              "      <th>Ca</th>\n",
              "      <th>Thal</th>\n",
              "      <th>AHD</th>\n",
              "    </tr>\n",
              "  </thead>\n",
              "  <tbody>\n",
              "    <tr>\n",
              "      <th>1</th>\n",
              "      <td>63</td>\n",
              "      <td>1</td>\n",
              "      <td>typical</td>\n",
              "      <td>145</td>\n",
              "      <td>233</td>\n",
              "      <td>1</td>\n",
              "      <td>2</td>\n",
              "      <td>150</td>\n",
              "      <td>0</td>\n",
              "      <td>2.3</td>\n",
              "      <td>3</td>\n",
              "      <td>0.0</td>\n",
              "      <td>fixed</td>\n",
              "      <td>0</td>\n",
              "    </tr>\n",
              "    <tr>\n",
              "      <th>2</th>\n",
              "      <td>67</td>\n",
              "      <td>1</td>\n",
              "      <td>asymptomatic</td>\n",
              "      <td>160</td>\n",
              "      <td>286</td>\n",
              "      <td>0</td>\n",
              "      <td>2</td>\n",
              "      <td>108</td>\n",
              "      <td>1</td>\n",
              "      <td>1.5</td>\n",
              "      <td>2</td>\n",
              "      <td>3.0</td>\n",
              "      <td>normal</td>\n",
              "      <td>1</td>\n",
              "    </tr>\n",
              "    <tr>\n",
              "      <th>3</th>\n",
              "      <td>67</td>\n",
              "      <td>1</td>\n",
              "      <td>asymptomatic</td>\n",
              "      <td>120</td>\n",
              "      <td>229</td>\n",
              "      <td>0</td>\n",
              "      <td>2</td>\n",
              "      <td>129</td>\n",
              "      <td>1</td>\n",
              "      <td>2.6</td>\n",
              "      <td>2</td>\n",
              "      <td>2.0</td>\n",
              "      <td>reversable</td>\n",
              "      <td>1</td>\n",
              "    </tr>\n",
              "    <tr>\n",
              "      <th>4</th>\n",
              "      <td>37</td>\n",
              "      <td>1</td>\n",
              "      <td>nonanginal</td>\n",
              "      <td>130</td>\n",
              "      <td>250</td>\n",
              "      <td>0</td>\n",
              "      <td>0</td>\n",
              "      <td>187</td>\n",
              "      <td>0</td>\n",
              "      <td>3.5</td>\n",
              "      <td>3</td>\n",
              "      <td>0.0</td>\n",
              "      <td>normal</td>\n",
              "      <td>0</td>\n",
              "    </tr>\n",
              "    <tr>\n",
              "      <th>5</th>\n",
              "      <td>41</td>\n",
              "      <td>0</td>\n",
              "      <td>nontypical</td>\n",
              "      <td>130</td>\n",
              "      <td>204</td>\n",
              "      <td>0</td>\n",
              "      <td>2</td>\n",
              "      <td>172</td>\n",
              "      <td>0</td>\n",
              "      <td>1.4</td>\n",
              "      <td>1</td>\n",
              "      <td>0.0</td>\n",
              "      <td>normal</td>\n",
              "      <td>0</td>\n",
              "    </tr>\n",
              "  </tbody>\n",
              "</table>\n",
              "</div>\n",
              "      <button class=\"colab-df-convert\" onclick=\"convertToInteractive('df-f992af6c-07c2-464b-ab31-ecc68decefdd')\"\n",
              "              title=\"Convert this dataframe to an interactive table.\"\n",
              "              style=\"display:none;\">\n",
              "        \n",
              "  <svg xmlns=\"http://www.w3.org/2000/svg\" height=\"24px\"viewBox=\"0 0 24 24\"\n",
              "       width=\"24px\">\n",
              "    <path d=\"M0 0h24v24H0V0z\" fill=\"none\"/>\n",
              "    <path d=\"M18.56 5.44l.94 2.06.94-2.06 2.06-.94-2.06-.94-.94-2.06-.94 2.06-2.06.94zm-11 1L8.5 8.5l.94-2.06 2.06-.94-2.06-.94L8.5 2.5l-.94 2.06-2.06.94zm10 10l.94 2.06.94-2.06 2.06-.94-2.06-.94-.94-2.06-.94 2.06-2.06.94z\"/><path d=\"M17.41 7.96l-1.37-1.37c-.4-.4-.92-.59-1.43-.59-.52 0-1.04.2-1.43.59L10.3 9.45l-7.72 7.72c-.78.78-.78 2.05 0 2.83L4 21.41c.39.39.9.59 1.41.59.51 0 1.02-.2 1.41-.59l7.78-7.78 2.81-2.81c.8-.78.8-2.07 0-2.86zM5.41 20L4 18.59l7.72-7.72 1.47 1.35L5.41 20z\"/>\n",
              "  </svg>\n",
              "      </button>\n",
              "      \n",
              "  <style>\n",
              "    .colab-df-container {\n",
              "      display:flex;\n",
              "      flex-wrap:wrap;\n",
              "      gap: 12px;\n",
              "    }\n",
              "\n",
              "    .colab-df-convert {\n",
              "      background-color: #E8F0FE;\n",
              "      border: none;\n",
              "      border-radius: 50%;\n",
              "      cursor: pointer;\n",
              "      display: none;\n",
              "      fill: #1967D2;\n",
              "      height: 32px;\n",
              "      padding: 0 0 0 0;\n",
              "      width: 32px;\n",
              "    }\n",
              "\n",
              "    .colab-df-convert:hover {\n",
              "      background-color: #E2EBFA;\n",
              "      box-shadow: 0px 1px 2px rgba(60, 64, 67, 0.3), 0px 1px 3px 1px rgba(60, 64, 67, 0.15);\n",
              "      fill: #174EA6;\n",
              "    }\n",
              "\n",
              "    [theme=dark] .colab-df-convert {\n",
              "      background-color: #3B4455;\n",
              "      fill: #D2E3FC;\n",
              "    }\n",
              "\n",
              "    [theme=dark] .colab-df-convert:hover {\n",
              "      background-color: #434B5C;\n",
              "      box-shadow: 0px 1px 3px 1px rgba(0, 0, 0, 0.15);\n",
              "      filter: drop-shadow(0px 1px 2px rgba(0, 0, 0, 0.3));\n",
              "      fill: #FFFFFF;\n",
              "    }\n",
              "  </style>\n",
              "\n",
              "      <script>\n",
              "        const buttonEl =\n",
              "          document.querySelector('#df-f992af6c-07c2-464b-ab31-ecc68decefdd button.colab-df-convert');\n",
              "        buttonEl.style.display =\n",
              "          google.colab.kernel.accessAllowed ? 'block' : 'none';\n",
              "\n",
              "        async function convertToInteractive(key) {\n",
              "          const element = document.querySelector('#df-f992af6c-07c2-464b-ab31-ecc68decefdd');\n",
              "          const dataTable =\n",
              "            await google.colab.kernel.invokeFunction('convertToInteractive',\n",
              "                                                     [key], {});\n",
              "          if (!dataTable) return;\n",
              "\n",
              "          const docLinkHtml = 'Like what you see? Visit the ' +\n",
              "            '<a target=\"_blank\" href=https://colab.research.google.com/notebooks/data_table.ipynb>data table notebook</a>'\n",
              "            + ' to learn more about interactive tables.';\n",
              "          element.innerHTML = '';\n",
              "          dataTable['output_type'] = 'display_data';\n",
              "          await google.colab.output.renderOutput(dataTable, element);\n",
              "          const docLink = document.createElement('div');\n",
              "          docLink.innerHTML = docLinkHtml;\n",
              "          element.appendChild(docLink);\n",
              "        }\n",
              "      </script>\n",
              "    </div>\n",
              "  </div>\n",
              "  "
            ]
          },
          "metadata": {},
          "execution_count": 116
        }
      ],
      "source": [
        "# Read in the data from csv\n",
        "heart_df = pd.read_csv('Heart.csv',index_col=0)\n",
        "# Clean up the dataframe\n",
        "heart_df = heart_df.dropna()\n",
        "heart_df['Sex'] = heart_df['Sex'].astype(str)\n",
        "heart_df['Slope'] = heart_df['Slope'].astype(str)\n",
        "heart_df['ExAng'] = heart_df['ExAng'].astype(str)\n",
        "heart_df['AHD'] = (heart_df['AHD']=='Yes').astype(int)\n",
        "heart_df.head()"
      ]
    },
    {
      "cell_type": "code",
      "execution_count": 117,
      "id": "d5611702",
      "metadata": {
        "deletable": false,
        "editable": false,
        "nbgrader": {
          "cell_type": "code",
          "checksum": "a68eb3f3a94bb1e8cc211c97da0a897c",
          "grade": false,
          "grade_id": "cell-4c4425f183981f40",
          "locked": true,
          "schema_version": 3,
          "solution": false,
          "task": false
        },
        "id": "d5611702"
      },
      "outputs": [],
      "source": [
        "X = np.array(heart_df.drop(labels='AHD',axis=1))\n",
        "y = np.array(heart_df['AHD'])\n",
        "\n",
        "# Let's set aside a test set and use the remainder for training and cross-validation\n",
        "X_train,X_test,y_train,y_test = train_test_split(X, y, random_state=0,test_size=0.1)\n",
        "\n",
        "# Convert the X and y arrays into lists (or lists of lists)\n",
        "X_train = X_train.tolist()\n",
        "X_test = X_test.tolist()\n",
        "y_train = y_train.tolist()\n",
        "y_test = y_test.tolist()"
      ]
    },
    {
      "cell_type": "code",
      "source": [
        "print(X_train[0])"
      ],
      "metadata": {
        "colab": {
          "base_uri": "https://localhost:8080/"
        },
        "id": "9dblWu4j-11i",
        "outputId": "990efa52-6776-45d0-ce82-ded7cbc5f0ce"
      },
      "id": "9dblWu4j-11i",
      "execution_count": 118,
      "outputs": [
        {
          "output_type": "stream",
          "name": "stdout",
          "text": [
            "[63, '1', 'asymptomatic', 130, 254, 0, 2, 147, '0', 1.4, '2', 1.0, 'reversable']\n"
          ]
        }
      ]
    },
    {
      "cell_type": "markdown",
      "id": "30bd335d",
      "metadata": {
        "deletable": false,
        "editable": false,
        "nbgrader": {
          "cell_type": "markdown",
          "checksum": "98e447685efc86336e2d6662494551ed",
          "grade": false,
          "grade_id": "cell-d6c9ffa106f529df",
          "locked": true,
          "schema_version": 3,
          "solution": false,
          "task": false
        },
        "id": "30bd335d"
      },
      "source": [
        "### Q1.1 [5 points]\n",
        "First let's write a function to calculate the entropy of a list of samples based on how mixed their class values are."
      ]
    },
    {
      "cell_type": "code",
      "execution_count": 119,
      "id": "5d9c8d0c",
      "metadata": {
        "deletable": false,
        "nbgrader": {
          "cell_type": "code",
          "checksum": "06cbbf4ed39322dcf3921a622368a636",
          "grade": false,
          "grade_id": "cell-cf69fd91f5263c62",
          "locked": false,
          "schema_version": 3,
          "solution": true,
          "task": false
        },
        "id": "5d9c8d0c"
      },
      "outputs": [],
      "source": [
        "def entropy(y):\n",
        "    '''\n",
        "    Computes the entropy for a list of classes (y)\n",
        "\n",
        "    Inputs:\n",
        "        y(list): list of targets\n",
        "        \n",
        "    Returns:\n",
        "        entropy(float): calculated entropy\n",
        "    '''\n",
        "\n",
        "    # YOUR CODE HERE\n",
        "    classes=set(y)\n",
        "    a = [y.count(x)/len(y) for x in classes]\n",
        "    entropy = -np.sum(a * np.log2(a))\n",
        "    #print(f'The entropy is {round(entropy,3)}')\n",
        "    return(entropy)\n",
        "\n",
        "\n",
        "    raise NotImplementedError()"
      ]
    },
    {
      "cell_type": "code",
      "execution_count": 120,
      "id": "e67dfb0e",
      "metadata": {
        "deletable": false,
        "editable": false,
        "nbgrader": {
          "cell_type": "code",
          "checksum": "68157e5b81a537c24615e879fa34b226",
          "grade": true,
          "grade_id": "cell-61794c89ccd25ae4",
          "locked": true,
          "points": 5,
          "schema_version": 3,
          "solution": false,
          "task": false
        },
        "id": "e67dfb0e"
      },
      "outputs": [],
      "source": [
        "# Test cell for entropy()\n",
        "impure_ys = [0,0,0,1,1,1,1,1,1]\n",
        "entropy_val = entropy(impure_ys)\n",
        "assert np.round(entropy_val,2) == 0.92\n",
        "\n",
        "pure_ys1 = [0,0,0,0]\n",
        "entropy_val = entropy(pure_ys1)\n",
        "assert entropy_val == 0\n",
        "\n",
        "pure_ys2 = [1,1,1,1,1,1,1,1]\n",
        "entropy_val = entropy(pure_ys2)\n",
        "assert entropy_val == 0\n"
      ]
    },
    {
      "cell_type": "markdown",
      "id": "eaa3ed1b",
      "metadata": {
        "deletable": false,
        "editable": false,
        "nbgrader": {
          "cell_type": "markdown",
          "checksum": "f101ca527c5bd3cc93483fe6f369e372",
          "grade": false,
          "grade_id": "cell-3297cd8e37f16637",
          "locked": true,
          "schema_version": 3,
          "solution": false,
          "task": false
        },
        "id": "eaa3ed1b"
      },
      "source": [
        "### Q1.2 [5 points]\n",
        "Now let's write a function to calculate the information gain of a possible split.  Information gain of a split is the entropy of the parent node minus the weighted average of the entropy of the left and right children nodes, weighted by the number of samples on the left and on the right."
      ]
    },
    {
      "cell_type": "code",
      "execution_count": 121,
      "id": "330677b5",
      "metadata": {
        "deletable": false,
        "nbgrader": {
          "cell_type": "code",
          "checksum": "1ee45ff7b61d00d9a7c99a3d15541b01",
          "grade": false,
          "grade_id": "cell-a5680adf41d7cdb6",
          "locked": false,
          "schema_version": 3,
          "solution": true,
          "task": false
        },
        "id": "330677b5"
      },
      "outputs": [],
      "source": [
        "def information_gain(parent_y, children_ys):\n",
        "    '''\n",
        "    Computes the information gain of a possible split using the target values of the parent and the resulting children\n",
        "\n",
        "    Inputs:\n",
        "        parent_y(list): list of the parent node targets\n",
        "        children_ys(list): list containing two lists - one for each the left child and right child. Each list contains the resulting target values of the child\n",
        "\n",
        "    Returns:\n",
        "        info_gain(float): information gain of the split based on entropy of parent minus weighted average entropy of children\n",
        "    '''\n",
        "    # Inputs:\n",
        "    #   previous_y: the distribution of original labels (0's and 1's)\n",
        "    #   current_y:  the distribution of labels after splitting based on a particular\n",
        "    #               split attribute and split value\n",
        "    \n",
        "    # YOUR CODE HERE\n",
        "    informationGain=0\n",
        "    split1 = children_ys[0]\n",
        "    split2 = children_ys[1]\n",
        "    fraction1 = len(split1)/len(parent_y)\n",
        "    fraction2 = len(split2)/len(parent_y)\n",
        "\n",
        "    #print(fraction1, fraction2)\n",
        "\n",
        "    informationGain = entropy(parent_y)-(fraction1 * entropy(split1) + fraction2 * entropy(split2))\n",
        "    #print(f'IG value is {informationGain}')\n",
        "\n",
        "    return informationGain\n",
        "\n",
        "\n",
        "    raise NotImplementedError()"
      ]
    },
    {
      "cell_type": "code",
      "execution_count": 122,
      "id": "cb09cb03",
      "metadata": {
        "deletable": false,
        "editable": false,
        "nbgrader": {
          "cell_type": "code",
          "checksum": "f778783045e885a1fa16cfb7d55874e8",
          "grade": true,
          "grade_id": "cell-507941fd98a8bcc6",
          "locked": true,
          "points": 5,
          "schema_version": 3,
          "solution": false,
          "task": false
        },
        "id": "cb09cb03"
      },
      "outputs": [],
      "source": [
        "# Test cell for information_gain()\n",
        "parent_ys = [0,0,0,1,1,1]\n",
        "children_ys = [[0,0], [1,1,1,0]]\n",
        "info_gain = information_gain(parent_ys,children_ys)\n",
        "\n",
        "assert np.round(info_gain,3) == 0.459"
      ]
    },
    {
      "cell_type": "markdown",
      "id": "e2e0d214",
      "metadata": {
        "deletable": false,
        "editable": false,
        "nbgrader": {
          "cell_type": "markdown",
          "checksum": "d4661a1af055b64b71a7a0c64a9c8e57",
          "grade": false,
          "grade_id": "cell-49c8e521d447d5f8",
          "locked": true,
          "schema_version": 3,
          "solution": false,
          "task": false
        },
        "id": "e2e0d214"
      },
      "source": [
        "### Q1.3 [20 points]\n",
        "Now let's complete two more functions we need in order to train a decision tree.  The `partition_classes()` function executes the split of the data based on an input split_attribute and split_va.  The `best_split()` function finds the optimal split_attribute and split_val at a node in the tree."
      ]
    },
    {
      "cell_type": "code",
      "execution_count": 123,
      "id": "006e6ee3",
      "metadata": {
        "deletable": false,
        "nbgrader": {
          "cell_type": "code",
          "checksum": "601f918cae69fc581ae9abb878a66d6e",
          "grade": false,
          "grade_id": "cell-8a22c5777d875f59",
          "locked": false,
          "schema_version": 3,
          "solution": true,
          "task": false
        },
        "id": "006e6ee3"
      },
      "outputs": [],
      "source": [
        "def partition_classes(X, y, split_attribute, split_val):\n",
        "    '''\n",
        "    Splits the X and y data at a node using the input split_attribute and split_val.  \n",
        "    \n",
        "    Numeric split attribute:\n",
        "      Split the data X into two lists(X_left and X_right) where the first list has all\n",
        "      the rows where the split attribute is less than or equal to the split value, and the \n",
        "      second list has all the rows where the split attribute is greater than the split \n",
        "      value. Also create two lists(y_left and y_right) with the corresponding y labels.\n",
        "\n",
        "    Categorical Split Attribute:\n",
        "      Split the data X into two lists(X_left and X_right) where the first list has all \n",
        "      the rows where the split attribute is equal to the split value, and the second list\n",
        "      has all the rows where the split attribute is not equal to the split value.\n",
        "      Also create two lists(y_left and y_right) with the corresponding y labels.\n",
        "\n",
        "    Inputs:\n",
        "        X(list): list containing the observations (each a list)\n",
        "        y(list): list of the corresponding target labels\n",
        "        split_attribute(int): column index of the feature to split on\n",
        "        split_val(float, int or str): numerical or categorical value to divide the data on\n",
        "\n",
        "    Returns:\n",
        "        X_left(list): list of observations (each a list) included in the left child of the split per the above splitting rules\n",
        "        X_right(list): list of observations (each a list) included in the right child of the split per the above splitting rules\n",
        "        y_left(list): list of corresponding target values of observations included in the left child\n",
        "        y_right(list): list of corresponding target values of observations included in the right child\n",
        "    '''\n",
        "    \n",
        "    # YOUR CODE HERE\n",
        "    X_left = []\n",
        "    X_right = []\n",
        "    y_left = []\n",
        "    y_right = []\n",
        "\n",
        "    for idx in range(len(X)):\n",
        "      #print(idx, X[idx], X[idx][split_attribute])\n",
        "      if isinstance(X[idx][split_attribute], str):\n",
        "        if X[idx][split_attribute]==split_val:\n",
        "          X_right.append(X[idx])\n",
        "          y_right.append(y[idx])\n",
        "        else:\n",
        "          X_left.append(X[idx])\n",
        "          y_left.append(y[idx])\n",
        "      else:\n",
        "        if X[idx][split_attribute] <= split_val:\n",
        "          X_left.append(X[idx])\n",
        "          y_left.append(y[idx])\n",
        "        else: \n",
        "          X_right.append(X[idx])\n",
        "          y_right.append(y[idx])\n",
        "    \n",
        "    #print(len(X_left), len(X_right), len(y_left), len(y_right))\n",
        "\n",
        "    return X_left, X_right, y_left, y_right\n",
        "\n",
        "\n",
        "    raise NotImplementedError()"
      ]
    },
    {
      "cell_type": "code",
      "source": [
        "Xsplit_left, Xsplit_right, ysplit_left, ysplit_right = partition_classes(X_train, y_train, 2, 'asymptomatic')\n",
        "print(ysplit_left, ysplit_right)\n",
        "\n",
        "result = information_gain(y_train, [ysplit_left, ysplit_right])\n",
        "print(result)"
      ],
      "metadata": {
        "colab": {
          "base_uri": "https://localhost:8080/"
        },
        "id": "wQC1KI56G1pD",
        "outputId": "8cc5c4eb-4f63-4024-82a4-ed7883c8b04b"
      },
      "id": "wQC1KI56G1pD",
      "execution_count": 124,
      "outputs": [
        {
          "output_type": "stream",
          "name": "stdout",
          "text": [
            "[1, 0, 0, 0, 0, 1, 0, 1, 1, 0, 0, 0, 1, 0, 0, 0, 0, 0, 0, 0, 1, 0, 0, 1, 0, 0, 0, 0, 0, 0, 0, 1, 0, 0, 1, 1, 0, 1, 0, 0, 0, 1, 1, 0, 0, 0, 0, 0, 0, 0, 0, 0, 0, 0, 0, 0, 0, 1, 0, 0, 1, 0, 0, 0, 0, 0, 0, 0, 0, 1, 0, 0, 0, 0, 0, 0, 0, 0, 0, 0, 0, 1, 0, 1, 1, 0, 1, 0, 0, 0, 0, 1, 0, 0, 0, 0, 0, 0, 0, 1, 0, 0, 1, 0, 1, 0, 0, 0, 0, 0, 1, 0, 0, 0, 0, 0, 0, 0, 0, 0, 1, 0, 1, 0, 0, 0, 0, 0, 0, 0, 0, 0, 0, 0, 0, 0, 0, 0] [1, 1, 1, 1, 1, 1, 1, 0, 0, 1, 1, 1, 1, 0, 1, 0, 1, 1, 0, 1, 1, 0, 1, 0, 0, 1, 1, 1, 1, 1, 1, 1, 1, 0, 1, 1, 1, 0, 1, 1, 0, 1, 1, 1, 1, 1, 1, 1, 1, 1, 0, 1, 1, 1, 1, 1, 1, 1, 1, 0, 1, 0, 0, 1, 0, 1, 1, 1, 1, 0, 1, 1, 1, 1, 1, 1, 0, 0, 1, 1, 1, 1, 1, 1, 1, 1, 1, 1, 1, 1, 1, 0, 1, 1, 0, 1, 0, 1, 1, 1, 1, 1, 0, 1, 0, 1, 1, 0, 0, 0, 1, 1, 1, 0, 1, 0, 0, 1, 1, 0, 0, 1, 1, 1, 0, 1, 1, 1, 1]\n",
            "0.2305848994101336\n"
          ]
        }
      ]
    },
    {
      "cell_type": "code",
      "execution_count": 125,
      "id": "eb5705bb",
      "metadata": {
        "deletable": false,
        "nbgrader": {
          "cell_type": "code",
          "checksum": "65e6147216e313ed692c7e6a302bee9a",
          "grade": false,
          "grade_id": "cell-db0e2d7b26909a13",
          "locked": false,
          "schema_version": 3,
          "solution": true,
          "task": false
        },
        "id": "eb5705bb"
      },
      "outputs": [],
      "source": [
        "def best_split(X, y):\n",
        "    '''\n",
        "    Finds the best feature (split_attribute) and value to split on (split_value) for a node in the tree.\n",
        "\n",
        "    The function should evaluate evaluate ALL features to determine the optimal splitting feature.  For each feature, evaluate ALL possible values\n",
        "    (numeric or categorical) of the feature as the split_value.  If the type of the feature values is numeric (float or int), it should be considered \n",
        "    as a numeric split attribute (per the instructions above in the partition_classes() function).  If the type is not numeric (string, object etc), \n",
        "    it should be considered as a categorical split attribute.\n",
        "\n",
        "    Inputs:\n",
        "        X(list): list containing the observations (each a list)\n",
        "        y(list): list of the corresponding target labels\n",
        "\n",
        "    Returns:\n",
        "        node_dict(dict): dictionary containing the following 4 keys/values for the node:\n",
        "            'split_attribute': (int) column index of the feature to split on\n",
        "            'split_value': (float, int or str) numerical or categorical value to divide the data on\n",
        "            'left': (list) list containing two lists: X_left (data going to left side of split), y_left (corresponding targets going to left side)\n",
        "            'right': (list) list containing two lists: X_right (data going to right side of split), y_right (corresponding targets going to right side)\n",
        "    '''\n",
        "\n",
        "    # YOUR CODE HERE\n",
        "    #get feature set which is a list of lists\n",
        "    features = []\n",
        "    #print(len(X[0]))\n",
        "    for idx in range(len(X[0])):\n",
        "      #print(idx, X[0][idx])\n",
        "      features.append(list(set([x[idx] for x in X])))\n",
        "      \n",
        "    best_IG= 0\n",
        "    node_dict = {'split_attribute':0, 'split_value':'', 'left': [], 'right': []}\n",
        "    for idx in range(len(X[0])):\n",
        "      for feature_val in features[idx]:\n",
        "        X_left, X_right, y_left, y_right = partition_classes(X, y, idx, feature_val)\n",
        "        #print(f'for feature_val {feature_val} the split is {len(X_left), len(X_right)}')\n",
        "        result = information_gain(y, [y_left, y_right])\n",
        "        if result > best_IG:\n",
        "          node_dict['split_attribute']=idx\n",
        "          node_dict['split_value']=feature_val\n",
        "          node_dict['left']=[X_left, y_left]\n",
        "          node_dict['right']=[X_right, y_right]\n",
        "          best_IG = result\n",
        "\n",
        "    print(f'highest IG value is {best_IG}')\n",
        "    return node_dict\n",
        "\n",
        "    raise NotImplementedError()"
      ]
    },
    {
      "cell_type": "code",
      "source": [
        "node1 = best_split(X_train, y_train)\n",
        "print(node1['split_attribute'])\n",
        "print(node1['split_value'])\n",
        "print(node1['left'])"
      ],
      "metadata": {
        "colab": {
          "base_uri": "https://localhost:8080/"
        },
        "id": "Jjx7wp6-P9s4",
        "outputId": "b5c14aaa-b67e-438c-97c7-2b717da73618"
      },
      "id": "Jjx7wp6-P9s4",
      "execution_count": 126,
      "outputs": [
        {
          "output_type": "stream",
          "name": "stdout",
          "text": [
            "highest IG value is 0.2305848994101336\n",
            "2\n",
            "asymptomatic\n",
            "[[[47, '1', 'nonanginal', 108, 243, 0, 0, 152, '0', 0.0, '1', 0.0, 'normal'], [39, '0', 'nonanginal', 94, 199, 0, 0, 179, '0', 0.0, '1', 0.0, 'normal'], [56, '1', 'nontypical', 120, 236, 0, 0, 178, '0', 0.8, '1', 0.0, 'normal'], [55, '1', 'nontypical', 130, 262, 0, 0, 155, '0', 0.0, '1', 0.0, 'normal'], [70, '1', 'nontypical', 156, 245, 0, 2, 143, '0', 0.0, '1', 0.0, 'normal'], [59, '1', 'typical', 134, 204, 0, 0, 162, '0', 0.8, '1', 2.0, 'normal'], [68, '0', 'nonanginal', 120, 211, 0, 2, 115, '0', 1.5, '2', 0.0, 'normal'], [58, '1', 'nonanginal', 112, 230, 0, 2, 165, '0', 2.5, '2', 1.0, 'reversable'], [49, '1', 'nonanginal', 120, 188, 0, 0, 139, '0', 2.0, '2', 3.0, 'reversable'], [42, '1', 'nontypical', 120, 295, 0, 0, 162, '0', 0.0, '1', 0.0, 'normal'], [54, '0', 'nonanginal', 110, 214, 0, 0, 158, '0', 1.6, '2', 0.0, 'normal'], [58, '0', 'nonanginal', 120, 340, 0, 0, 172, '0', 0.0, '1', 0.0, 'normal'], [60, '1', 'nonanginal', 140, 185, 0, 2, 155, '0', 3.0, '2', 0.0, 'normal'], [52, '0', 'nonanginal', 136, 196, 0, 2, 169, '0', 0.1, '2', 0.0, 'normal'], [51, '1', 'typical', 125, 213, 0, 2, 125, '1', 1.4, '1', 1.0, 'normal'], [41, '1', 'nontypical', 120, 157, 0, 0, 182, '0', 0.0, '1', 0.0, 'normal'], [41, '1', 'nonanginal', 112, 250, 0, 0, 179, '0', 0.0, '1', 0.0, 'normal'], [41, '0', 'nonanginal', 112, 268, 0, 2, 172, '1', 0.0, '1', 0.0, 'normal'], [64, '1', 'typical', 110, 211, 0, 2, 144, '1', 1.8, '2', 0.0, 'normal'], [51, '1', 'nonanginal', 110, 175, 0, 0, 123, '0', 0.6, '1', 0.0, 'normal'], [49, '1', 'nonanginal', 118, 149, 0, 2, 126, '0', 0.8, '1', 3.0, 'normal'], [66, '0', 'typical', 150, 226, 0, 0, 114, '0', 2.6, '3', 0.0, 'normal'], [54, '0', 'nonanginal', 108, 267, 0, 2, 167, '0', 0.0, '1', 0.0, 'normal'], [57, '1', 'nontypical', 124, 261, 0, 0, 141, '0', 0.3, '1', 0.0, 'reversable'], [44, '0', 'nonanginal', 108, 141, 0, 0, 175, '0', 0.6, '2', 0.0, 'normal'], [46, '1', 'nontypical', 101, 197, 1, 0, 156, '0', 0.0, '1', 0.0, 'reversable'], [34, '0', 'nontypical', 118, 210, 0, 0, 192, '0', 0.7, '1', 0.0, 'normal'], [45, '0', 'nontypical', 112, 160, 0, 0, 138, '0', 0.0, '2', 0.0, 'normal'], [52, '1', 'nontypical', 134, 201, 0, 0, 158, '0', 0.8, '1', 1.0, 'normal'], [41, '0', 'nontypical', 126, 306, 0, 0, 163, '0', 0.0, '1', 0.0, 'normal'], [59, '1', 'typical', 178, 270, 0, 2, 145, '0', 4.2, '3', 0.0, 'reversable'], [70, '1', 'nonanginal', 160, 269, 0, 0, 112, '1', 2.9, '2', 1.0, 'reversable'], [48, '0', 'nonanginal', 130, 275, 0, 0, 139, '0', 0.2, '1', 0.0, 'normal'], [50, '1', 'nonanginal', 129, 196, 0, 0, 163, '0', 0.0, '1', 0.0, 'normal'], [61, '1', 'typical', 134, 234, 0, 0, 145, '0', 2.6, '2', 2.0, 'normal'], [67, '1', 'nonanginal', 152, 212, 0, 2, 150, '0', 0.8, '2', 0.0, 'reversable'], [60, '0', 'typical', 150, 240, 0, 0, 171, '0', 0.9, '1', 0.0, 'normal'], [68, '1', 'nonanginal', 180, 274, 1, 2, 150, '1', 1.6, '2', 0.0, 'reversable'], [54, '1', 'nonanginal', 120, 258, 0, 2, 147, '0', 0.4, '2', 0.0, 'reversable'], [58, '0', 'typical', 150, 283, 1, 2, 162, '0', 1.0, '1', 0.0, 'normal'], [37, '0', 'nonanginal', 120, 215, 0, 0, 170, '0', 0.0, '1', 0.0, 'normal'], [48, '1', 'nontypical', 110, 229, 0, 0, 168, '0', 1.0, '3', 0.0, 'reversable'], [50, '1', 'nonanginal', 140, 233, 0, 0, 163, '0', 0.6, '2', 1.0, 'reversable'], [65, '0', 'nonanginal', 160, 360, 0, 2, 151, '0', 0.8, '1', 0.0, 'normal'], [45, '0', 'nontypical', 130, 234, 0, 2, 175, '0', 0.6, '2', 0.0, 'normal'], [68, '1', 'nonanginal', 118, 277, 0, 0, 151, '0', 1.0, '1', 1.0, 'reversable'], [42, '0', 'nonanginal', 120, 209, 0, 0, 173, '0', 0.0, '2', 0.0, 'normal'], [41, '0', 'nontypical', 130, 204, 0, 2, 172, '0', 1.4, '1', 0.0, 'normal'], [66, '0', 'nonanginal', 146, 278, 0, 2, 152, '0', 0.0, '2', 1.0, 'normal'], [46, '0', 'nonanginal', 142, 177, 0, 2, 160, '1', 1.4, '3', 0.0, 'normal'], [54, '1', 'nonanginal', 150, 232, 0, 2, 165, '0', 1.6, '1', 0.0, 'reversable'], [55, '0', 'nontypical', 135, 250, 0, 2, 161, '0', 1.4, '2', 0.0, 'normal'], [44, '1', 'nontypical', 120, 263, 0, 0, 173, '0', 0.0, '1', 0.0, 'reversable'], [56, '1', 'nontypical', 130, 221, 0, 2, 163, '0', 0.0, '1', 0.0, 'reversable'], [37, '1', 'nonanginal', 130, 250, 0, 0, 187, '0', 3.5, '3', 0.0, 'normal'], [69, '0', 'typical', 140, 239, 0, 0, 151, '0', 1.8, '1', 2.0, 'normal'], [51, '0', 'nonanginal', 140, 308, 0, 2, 142, '0', 1.5, '1', 1.0, 'normal'], [57, '1', 'nontypical', 154, 232, 0, 2, 164, '0', 0.0, '1', 1.0, 'normal'], [44, '0', 'nonanginal', 118, 242, 0, 0, 149, '0', 0.3, '2', 1.0, 'normal'], [49, '1', 'nontypical', 130, 266, 0, 0, 171, '0', 0.6, '1', 0.0, 'normal'], [59, '1', 'nonanginal', 126, 218, 1, 0, 134, '0', 2.2, '2', 1.0, 'fixed'], [74, '0', 'nontypical', 120, 269, 0, 2, 121, '1', 0.2, '1', 1.0, 'normal'], [54, '1', 'nontypical', 108, 309, 0, 0, 156, '0', 0.0, '1', 0.0, 'reversable'], [43, '1', 'nonanginal', 130, 315, 0, 0, 162, '0', 1.9, '1', 1.0, 'normal'], [47, '1', 'nonanginal', 138, 257, 0, 2, 156, '0', 0.0, '1', 0.0, 'normal'], [54, '1', 'nonanginal', 125, 273, 0, 2, 152, '0', 0.5, '3', 1.0, 'normal'], [40, '1', 'typical', 140, 199, 0, 0, 178, '1', 1.4, '1', 0.0, 'reversable'], [52, '1', 'nonanginal', 172, 199, 1, 0, 162, '0', 0.5, '1', 0.0, 'reversable'], [41, '0', 'nontypical', 105, 198, 0, 0, 168, '0', 0.0, '1', 1.0, 'normal'], [65, '1', 'typical', 138, 282, 1, 2, 174, '0', 1.4, '2', 1.0, 'normal'], [42, '1', 'nonanginal', 120, 240, 1, 0, 194, '0', 0.8, '3', 0.0, 'reversable'], [51, '1', 'nonanginal', 94, 227, 0, 0, 154, '1', 0.0, '1', 1.0, 'reversable'], [41, '1', 'nonanginal', 130, 214, 0, 2, 168, '0', 2.0, '2', 0.0, 'normal'], [59, '1', 'nonanginal', 150, 212, 1, 0, 157, '0', 1.6, '1', 0.0, 'normal'], [41, '1', 'nontypical', 135, 203, 0, 0, 132, '0', 0.0, '2', 0.0, 'fixed'], [51, '1', 'nonanginal', 125, 245, 1, 2, 166, '0', 2.4, '2', 0.0, 'normal'], [46, '0', 'nontypical', 105, 204, 0, 0, 172, '0', 0.0, '1', 0.0, 'normal'], [52, '1', 'typical', 152, 298, 1, 0, 178, '0', 1.2, '2', 0.0, 'reversable'], [56, '1', 'typical', 120, 193, 0, 2, 162, '0', 1.9, '2', 0.0, 'reversable'], [63, '0', 'nonanginal', 135, 252, 0, 2, 172, '0', 0.0, '1', 0.0, 'normal'], [64, '0', 'nonanginal', 140, 313, 0, 0, 133, '0', 0.2, '1', 0.0, 'reversable'], [62, '0', 'nonanginal', 130, 263, 0, 0, 97, '0', 1.2, '2', 1.0, 'reversable'], [63, '1', 'typical', 145, 233, 1, 2, 150, '0', 2.3, '3', 0.0, 'fixed'], [45, '1', 'typical', 110, 264, 0, 0, 132, '0', 1.2, '2', 0.0, 'reversable'], [58, '0', 'nontypical', 136, 319, 1, 2, 152, '0', 0.0, '1', 2.0, 'normal'], [49, '0', 'nontypical', 134, 271, 0, 0, 162, '0', 0.0, '2', 0.0, 'normal'], [46, '1', 'nonanginal', 150, 231, 0, 0, 147, '0', 3.6, '2', 0.0, 'normal'], [53, '1', 'nonanginal', 130, 197, 1, 2, 152, '0', 1.2, '3', 0.0, 'normal'], [65, '0', 'nonanginal', 140, 417, 1, 2, 157, '0', 0.8, '1', 1.0, 'normal'], [44, '1', 'nonanginal', 140, 235, 0, 2, 180, '0', 0.0, '1', 0.0, 'normal'], [52, '1', 'nontypical', 128, 205, 1, 0, 184, '0', 0.0, '1', 0.0, 'normal'], [58, '1', 'nonanginal', 132, 224, 0, 2, 173, '0', 3.2, '1', 2.0, 'reversable'], [60, '0', 'nonanginal', 120, 178, 1, 0, 96, '0', 0.0, '1', 0.0, 'normal'], [60, '0', 'nonanginal', 102, 318, 0, 0, 160, '0', 0.0, '1', 1.0, 'normal'], [58, '1', 'nonanginal', 105, 240, 0, 2, 154, '1', 0.6, '2', 0.0, 'reversable'], [48, '1', 'nontypical', 130, 245, 0, 2, 180, '0', 0.2, '2', 0.0, 'normal'], [42, '1', 'typical', 148, 244, 0, 2, 178, '0', 0.8, '1', 2.0, 'normal'], [34, '1', 'typical', 118, 182, 0, 2, 174, '0', 0.0, '1', 0.0, 'normal'], [29, '1', 'nontypical', 130, 204, 0, 2, 202, '0', 0.0, '1', 0.0, 'normal'], [59, '1', 'typical', 160, 273, 0, 2, 125, '0', 0.0, '1', 0.0, 'normal'], [52, '1', 'nontypical', 120, 325, 0, 0, 172, '0', 0.2, '1', 0.0, 'normal'], [51, '1', 'nonanginal', 100, 222, 0, 0, 143, '1', 1.2, '2', 0.0, 'normal'], [59, '1', 'typical', 170, 288, 0, 2, 159, '0', 0.2, '2', 0.0, 'reversable'], [64, '1', 'typical', 170, 227, 0, 2, 155, '0', 0.6, '2', 0.0, 'reversable'], [64, '1', 'nonanginal', 125, 309, 0, 0, 131, '1', 1.8, '2', 0.0, 'reversable'], [62, '1', 'nonanginal', 130, 231, 0, 0, 146, '0', 1.8, '2', 3.0, 'reversable'], [39, '1', 'nonanginal', 140, 321, 0, 2, 182, '0', 0.0, '1', 0.0, 'normal'], [56, '0', 'nontypical', 140, 294, 0, 2, 153, '0', 1.3, '2', 0.0, 'normal'], [71, '0', 'nonanginal', 110, 265, 1, 2, 130, '0', 0.0, '1', 1.0, 'normal'], [54, '0', 'nonanginal', 160, 201, 0, 0, 163, '0', 0.0, '1', 1.0, 'normal'], [54, '1', 'nontypical', 192, 283, 0, 2, 195, '0', 0.0, '1', 1.0, 'reversable'], [71, '0', 'nontypical', 160, 302, 0, 0, 162, '0', 0.4, '1', 2.0, 'normal'], [44, '1', 'nonanginal', 120, 226, 0, 0, 169, '0', 0.0, '1', 0.0, 'normal'], [43, '0', 'nonanginal', 122, 213, 0, 0, 165, '0', 0.2, '2', 0.0, 'normal'], [44, '1', 'nontypical', 130, 219, 0, 2, 188, '0', 0.0, '1', 0.0, 'normal'], [76, '0', 'nonanginal', 140, 197, 0, 1, 116, '0', 1.1, '2', 0.0, 'normal'], [44, '1', 'nonanginal', 130, 233, 0, 0, 179, '1', 0.4, '1', 0.0, 'normal'], [63, '0', 'nontypical', 140, 195, 0, 0, 179, '0', 0.0, '1', 2.0, 'normal'], [48, '1', 'nonanginal', 124, 255, 1, 0, 175, '0', 0.0, '1', 2.0, 'normal'], [67, '0', 'nonanginal', 115, 564, 0, 2, 160, '0', 1.6, '2', 0.0, 'reversable'], [64, '1', 'nonanginal', 140, 335, 0, 0, 158, '0', 0.0, '1', 0.0, 'normal'], [44, '1', 'nontypical', 120, 220, 0, 0, 170, '0', 0.0, '1', 0.0, 'normal'], [66, '1', 'nontypical', 160, 246, 0, 0, 120, '1', 0.0, '2', 3.0, 'fixed'], [45, '1', 'nontypical', 128, 308, 0, 2, 170, '0', 0.0, '1', 0.0, 'normal'], [39, '0', 'nonanginal', 138, 220, 0, 0, 152, '0', 0.0, '2', 0.0, 'normal'], [53, '1', 'nonanginal', 130, 246, 1, 2, 173, '0', 0.0, '1', 3.0, 'normal'], [58, '1', 'nonanginal', 140, 211, 1, 2, 165, '0', 0.0, '1', 0.0, 'normal'], [42, '1', 'nonanginal', 130, 180, 0, 0, 150, '0', 0.0, '1', 0.0, 'normal'], [50, '0', 'nonanginal', 120, 219, 0, 0, 158, '0', 1.6, '2', 0.0, 'normal'], [54, '0', 'nontypical', 132, 288, 1, 2, 159, '1', 0.0, '1', 1.0, 'normal'], [56, '1', 'nontypical', 120, 240, 0, 0, 169, '0', 0.0, '3', 0.0, 'normal'], [55, '0', 'nontypical', 132, 342, 0, 0, 166, '0', 1.2, '1', 0.0, 'normal'], [61, '1', 'nonanginal', 150, 243, 1, 0, 137, '1', 1.0, '2', 0.0, 'normal'], [69, '1', 'typical', 160, 234, 1, 2, 131, '0', 0.1, '2', 1.0, 'normal'], [51, '0', 'nonanginal', 130, 256, 0, 2, 149, '0', 0.5, '1', 0.0, 'normal'], [65, '0', 'nonanginal', 155, 269, 0, 0, 148, '0', 0.8, '1', 0.0, 'normal'], [47, '1', 'nonanginal', 130, 253, 0, 0, 179, '0', 0.0, '1', 0.0, 'normal'], [50, '0', 'nontypical', 120, 244, 0, 0, 162, '0', 1.1, '1', 0.0, 'normal']], [1, 0, 0, 0, 0, 1, 0, 1, 1, 0, 0, 0, 1, 0, 0, 0, 0, 0, 0, 0, 1, 0, 0, 1, 0, 0, 0, 0, 0, 0, 0, 1, 0, 0, 1, 1, 0, 1, 0, 0, 0, 1, 1, 0, 0, 0, 0, 0, 0, 0, 0, 0, 0, 0, 0, 0, 0, 1, 0, 0, 1, 0, 0, 0, 0, 0, 0, 0, 0, 1, 0, 0, 0, 0, 0, 0, 0, 0, 0, 0, 0, 1, 0, 1, 1, 0, 1, 0, 0, 0, 0, 1, 0, 0, 0, 0, 0, 0, 0, 1, 0, 0, 1, 0, 1, 0, 0, 0, 0, 0, 1, 0, 0, 0, 0, 0, 0, 0, 0, 0, 1, 0, 1, 0, 0, 0, 0, 0, 0, 0, 0, 0, 0, 0, 0, 0, 0, 0]]\n"
          ]
        }
      ]
    },
    {
      "cell_type": "markdown",
      "id": "f38693bd",
      "metadata": {
        "deletable": false,
        "editable": false,
        "nbgrader": {
          "cell_type": "markdown",
          "checksum": "633d4297bb8a77b959d45cdbe6d71b2b",
          "grade": false,
          "grade_id": "cell-bf02cb48301e06a8",
          "locked": true,
          "schema_version": 3,
          "solution": false,
          "task": false
        },
        "id": "f38693bd"
      },
      "source": [
        "Now we have everything we need to implement the tree in a class.  Complete the `fit()` and `predict()` methods of the `MyDecisionTree` class below.  The `fit()` method should train the tree (using the above functions you've written).  The `predict()` method should use the trained tree to generate predictions for new data."
      ]
    },
    {
      "cell_type": "code",
      "execution_count": 127,
      "id": "5d469dab",
      "metadata": {
        "deletable": false,
        "nbgrader": {
          "cell_type": "code",
          "checksum": "dd1fb29efee6e8fc7fb553f6b9824e14",
          "grade": false,
          "grade_id": "cell-58a61c65376166b1",
          "locked": false,
          "schema_version": 3,
          "solution": true,
          "task": false
        },
        "id": "5d469dab",
        "colab": {
          "base_uri": "https://localhost:8080/",
          "height": 130
        },
        "outputId": "93220370-174b-4952-9f99-e9e5785bfde2"
      },
      "outputs": [
        {
          "output_type": "error",
          "ename": "SyntaxError",
          "evalue": "ignored",
          "traceback": [
            "\u001b[0;36m  File \u001b[0;32m\"<ipython-input-127-fb55c1be34ed>\"\u001b[0;36m, line \u001b[0;32m80\u001b[0m\n\u001b[0;31m    return ())\u001b[0m\n\u001b[0m             ^\u001b[0m\n\u001b[0;31mSyntaxError\u001b[0m\u001b[0;31m:\u001b[0m invalid syntax\n"
          ]
        }
      ],
      "source": [
        "class MyDecisionTree(object):\n",
        "    def __init__(self, max_depth=10,min_leafsize=1):\n",
        "        # Initializing the tree as an empty dictionary or list, as preferred\n",
        "        self.tree = {}\n",
        "        self.max_depth = max_depth\n",
        "        self.min_leafsize = min_leafsize\n",
        "        pass\n",
        "    \t\n",
        "    def fit(self, X, y, depth=0):\n",
        "        '''\n",
        "        Trains the tree using the input X and y\n",
        "\n",
        "        To train the tree you might follow a process such as:\n",
        "            - Create the first node using best_split()\n",
        "            - Check if the data can be split further (check depth and min_leafsize)\n",
        "            - Process left side of node recursively using self.fit()\n",
        "            - Process right size of node recursively using self.fit()\n",
        "            - Terminate the tree when max_depth is reached or leaf sizes reach min_leafsize\n",
        "\n",
        "        Inputs:\n",
        "            X(list): list containing the observations (each a list of feature values)\n",
        "            y(list): list of the corresponding target labels\n",
        "            par_node(dict): dictionary corresponding to node (output of best_split() function).  Used to recursively call fit() for each tree node\n",
        "\n",
        "        Returns:\n",
        "            par_node(dict): dictionary containing the tree, with the following keys/values:\n",
        "                'split_attribute': (int) column index of the splitting feature for the node\n",
        "                'split_value': (float, int or str) numerical or categorical splitting value of the node\n",
        "                'left': (dict) dictionary containing the keys/values of par_node for the left side children nodes\n",
        "                'right': (dict) dictionary containing the keys/values of par_node for the right side children nodes\n",
        "\n",
        "        '''\n",
        "\n",
        "        # YOUR CODE HERE\n",
        "        current_node = best_split(X,y)\n",
        "        if depth==0:\n",
        "          self.tree=current_node\n",
        "\n",
        "        if ((len(X)>self.min_leafsize) and (depth<self.max_depth)):\n",
        "          current_node['left'] = self.fit(current_node['left'][0], current_node['left'][1] , depth+1)\n",
        "          current_node['right'] = self.fit(current_node['right'][0], current_node['right'][1], depth+1)\n",
        "          depth=depth+1\n",
        "       \n",
        "        else:\n",
        "         current_node['left'] = None\n",
        "         current_node['right'] = None\n",
        "        #self.tree = current_node\n",
        "        return current_node\n",
        "        \n",
        "       # self.tree=current_node\n",
        "\n",
        "        raise NotImplementedError()\n",
        "\n",
        "\n",
        "    def predict(self, X):\n",
        "        '''\n",
        "        Uses the tree to generate predictions for new data \n",
        "\n",
        "        Inputs:\n",
        "            X(list): list of observations, with each observation being a list of feature values\n",
        "\n",
        "        Returns:\n",
        "            preds(list): list of predictions (0 or 1)\n",
        "        '''\n",
        "        \n",
        "        # YOUR CODE HERE\n",
        "        tree = self.tree\n",
        "        preds = []\n",
        "\n",
        "        print(tree)\n",
        "\n",
        "        def make_comparison(x, current_node):\n",
        "          current_split_attribute = current_node['split_attribute']\n",
        "          current_split_value = current_node['split_value']\n",
        "          \n",
        "          if x[current_split_attribute] <= current_split_value:\n",
        "            if current_node['left']:\n",
        "              return make_comparison(x, current_node['left'])          \n",
        "            else:\n",
        "              return ())\n",
        "\n",
        "          if x[current_split_attribute] > current_split_value:\n",
        "            if current_node['right'] == None:\n",
        "              return \n",
        "            else: \n",
        "              return make_comparison(x, current_node['right'])\n",
        "\n",
        "\n",
        "        for x in X:\n",
        "          current_pred = make_comparison(x, tree)\n",
        "          preds.append(current_pred)\n",
        "          \n",
        "        return preds\n",
        "\n",
        "        raise NotImplementedError()"
      ]
    },
    {
      "cell_type": "code",
      "execution_count": null,
      "id": "35d2e136",
      "metadata": {
        "deletable": false,
        "editable": false,
        "nbgrader": {
          "cell_type": "code",
          "checksum": "a71335a6236d7a3a45cc0060cab279a5",
          "grade": true,
          "grade_id": "cell-c7906587220cd75c",
          "locked": true,
          "points": 20,
          "schema_version": 3,
          "solution": false,
          "task": false
        },
        "id": "35d2e136"
      },
      "outputs": [],
      "source": [
        "tree = MyDecisionTree(max_depth=3,min_leafsize=1)\n",
        "treedict = tree.fit(X_train,y_train)\n",
        "print(treedict)\n",
        "assert type(treedict) == dict\n",
        "\n",
        "test_preds = tree.predict(X_test)\n",
        "assert len(test_preds) == len(y_test)\n",
        "\n",
        "errors = []\n",
        "accuracy = sum(1 for pred,act in zip(test_preds,y_test) if pred==act) / len(test_preds)\n",
        "print('Accuracy: {:.3f}'.format(accuracy))\n",
        "assert accuracy >= 0.7\n"
      ]
    },
    {
      "cell_type": "code",
      "source": [],
      "metadata": {
        "id": "I24u954YnXYe"
      },
      "id": "I24u954YnXYe",
      "execution_count": 127,
      "outputs": []
    },
    {
      "cell_type": "markdown",
      "id": "51fec291",
      "metadata": {
        "deletable": false,
        "editable": false,
        "nbgrader": {
          "cell_type": "markdown",
          "checksum": "8c1fd774234707cad4936ec41be837c8",
          "grade": false,
          "grade_id": "cell-70c9b1dd7db6c29b",
          "locked": true,
          "schema_version": 3,
          "solution": false,
          "task": false
        },
        "id": "51fec291"
      },
      "source": [
        "## Question 2 [25 points]\n",
        "In this questions we will work with a dataset on forest fires.  We have some data which has been compiled about different fire situations (e.g. weather, location) and we are trying to build a model to predict the area of forest which burned.  Full details about the dataset can be found at https://archive.ics.uci.edu/ml/datasets/Forest+Fires.  The dataset provided has been modified from the original to remove 100 rows with 0 acres burned.\n",
        "\n",
        "Description of columns:\n",
        "1. X - x-axis spatial coordinate within the Montesinho park map: 1 to 9 \n",
        "2. Y - y-axis spatial coordinate within the Montesinho park map: 2 to 9 \n",
        "3. month - month of the year: 'jan' to 'dec' \n",
        "4. day - day of the week: 'mon' to 'sun' \n",
        "5. FFMC - FFMC index from the FWI system: 18.7 to 96.20 \n",
        "6. DMC - DMC index from the FWI system: 1.1 to 291.3 \n",
        "7. DC - DC index from the FWI system: 7.9 to 860.6 \n",
        "8. ISI - ISI index from the FWI system: 0.0 to 56.10 \n",
        "9. temp - temperature in Celsius degrees: 2.2 to 33.30 \n",
        "10. RH - relative humidity in %: 15.0 to 100 \n",
        "11. wind - wind speed in km/h: 0.40 to 9.40 \n",
        "12. rain - outside rain in mm/m2 : 0.0 to 6.4 \n",
        "13. area - the burned area of the forest (in ha): 0.00 to 1090.84 "
      ]
    },
    {
      "cell_type": "code",
      "execution_count": 128,
      "id": "ca24c314",
      "metadata": {
        "deletable": false,
        "editable": false,
        "nbgrader": {
          "cell_type": "code",
          "checksum": "55e8c3604715846fe7cbb62aee3567ab",
          "grade": false,
          "grade_id": "cell-bdea37c6a01b4b22",
          "locked": true,
          "schema_version": 3,
          "solution": false,
          "task": false
        },
        "id": "ca24c314",
        "colab": {
          "base_uri": "https://localhost:8080/",
          "height": 204
        },
        "outputId": "72ae1f04-35d8-4cfb-963d-d69b183c6375"
      },
      "outputs": [
        {
          "output_type": "execute_result",
          "data": {
            "text/plain": [
              "   X  Y month  day  FFMC    DMC     DC   ISI  temp  RH  wind  rain  area\n",
              "0  3  4   aug  sun  91.4  142.4  601.4  10.6  19.8  39   5.4   0.0   0.0\n",
              "1  3  4   aug  sun  91.4  142.4  601.4  10.6  19.8  39   5.4   0.0   0.0\n",
              "2  3  4   aug  tue  88.8  147.3  614.5   9.0  14.4  66   5.4   0.0   0.0\n",
              "3  2  4   aug  tue  94.8  108.3  647.1  17.0  20.1  40   4.0   0.0   0.0\n",
              "4  2  4   sep  sat  92.5  121.1  674.4   8.6  24.1  29   4.5   0.0   0.0"
            ],
            "text/html": [
              "\n",
              "  <div id=\"df-2f88b69a-b272-4163-a548-3cbe57b54d57\">\n",
              "    <div class=\"colab-df-container\">\n",
              "      <div>\n",
              "<style scoped>\n",
              "    .dataframe tbody tr th:only-of-type {\n",
              "        vertical-align: middle;\n",
              "    }\n",
              "\n",
              "    .dataframe tbody tr th {\n",
              "        vertical-align: top;\n",
              "    }\n",
              "\n",
              "    .dataframe thead th {\n",
              "        text-align: right;\n",
              "    }\n",
              "</style>\n",
              "<table border=\"1\" class=\"dataframe\">\n",
              "  <thead>\n",
              "    <tr style=\"text-align: right;\">\n",
              "      <th></th>\n",
              "      <th>X</th>\n",
              "      <th>Y</th>\n",
              "      <th>month</th>\n",
              "      <th>day</th>\n",
              "      <th>FFMC</th>\n",
              "      <th>DMC</th>\n",
              "      <th>DC</th>\n",
              "      <th>ISI</th>\n",
              "      <th>temp</th>\n",
              "      <th>RH</th>\n",
              "      <th>wind</th>\n",
              "      <th>rain</th>\n",
              "      <th>area</th>\n",
              "    </tr>\n",
              "  </thead>\n",
              "  <tbody>\n",
              "    <tr>\n",
              "      <th>0</th>\n",
              "      <td>3</td>\n",
              "      <td>4</td>\n",
              "      <td>aug</td>\n",
              "      <td>sun</td>\n",
              "      <td>91.4</td>\n",
              "      <td>142.4</td>\n",
              "      <td>601.4</td>\n",
              "      <td>10.6</td>\n",
              "      <td>19.8</td>\n",
              "      <td>39</td>\n",
              "      <td>5.4</td>\n",
              "      <td>0.0</td>\n",
              "      <td>0.0</td>\n",
              "    </tr>\n",
              "    <tr>\n",
              "      <th>1</th>\n",
              "      <td>3</td>\n",
              "      <td>4</td>\n",
              "      <td>aug</td>\n",
              "      <td>sun</td>\n",
              "      <td>91.4</td>\n",
              "      <td>142.4</td>\n",
              "      <td>601.4</td>\n",
              "      <td>10.6</td>\n",
              "      <td>19.8</td>\n",
              "      <td>39</td>\n",
              "      <td>5.4</td>\n",
              "      <td>0.0</td>\n",
              "      <td>0.0</td>\n",
              "    </tr>\n",
              "    <tr>\n",
              "      <th>2</th>\n",
              "      <td>3</td>\n",
              "      <td>4</td>\n",
              "      <td>aug</td>\n",
              "      <td>tue</td>\n",
              "      <td>88.8</td>\n",
              "      <td>147.3</td>\n",
              "      <td>614.5</td>\n",
              "      <td>9.0</td>\n",
              "      <td>14.4</td>\n",
              "      <td>66</td>\n",
              "      <td>5.4</td>\n",
              "      <td>0.0</td>\n",
              "      <td>0.0</td>\n",
              "    </tr>\n",
              "    <tr>\n",
              "      <th>3</th>\n",
              "      <td>2</td>\n",
              "      <td>4</td>\n",
              "      <td>aug</td>\n",
              "      <td>tue</td>\n",
              "      <td>94.8</td>\n",
              "      <td>108.3</td>\n",
              "      <td>647.1</td>\n",
              "      <td>17.0</td>\n",
              "      <td>20.1</td>\n",
              "      <td>40</td>\n",
              "      <td>4.0</td>\n",
              "      <td>0.0</td>\n",
              "      <td>0.0</td>\n",
              "    </tr>\n",
              "    <tr>\n",
              "      <th>4</th>\n",
              "      <td>2</td>\n",
              "      <td>4</td>\n",
              "      <td>sep</td>\n",
              "      <td>sat</td>\n",
              "      <td>92.5</td>\n",
              "      <td>121.1</td>\n",
              "      <td>674.4</td>\n",
              "      <td>8.6</td>\n",
              "      <td>24.1</td>\n",
              "      <td>29</td>\n",
              "      <td>4.5</td>\n",
              "      <td>0.0</td>\n",
              "      <td>0.0</td>\n",
              "    </tr>\n",
              "  </tbody>\n",
              "</table>\n",
              "</div>\n",
              "      <button class=\"colab-df-convert\" onclick=\"convertToInteractive('df-2f88b69a-b272-4163-a548-3cbe57b54d57')\"\n",
              "              title=\"Convert this dataframe to an interactive table.\"\n",
              "              style=\"display:none;\">\n",
              "        \n",
              "  <svg xmlns=\"http://www.w3.org/2000/svg\" height=\"24px\"viewBox=\"0 0 24 24\"\n",
              "       width=\"24px\">\n",
              "    <path d=\"M0 0h24v24H0V0z\" fill=\"none\"/>\n",
              "    <path d=\"M18.56 5.44l.94 2.06.94-2.06 2.06-.94-2.06-.94-.94-2.06-.94 2.06-2.06.94zm-11 1L8.5 8.5l.94-2.06 2.06-.94-2.06-.94L8.5 2.5l-.94 2.06-2.06.94zm10 10l.94 2.06.94-2.06 2.06-.94-2.06-.94-.94-2.06-.94 2.06-2.06.94z\"/><path d=\"M17.41 7.96l-1.37-1.37c-.4-.4-.92-.59-1.43-.59-.52 0-1.04.2-1.43.59L10.3 9.45l-7.72 7.72c-.78.78-.78 2.05 0 2.83L4 21.41c.39.39.9.59 1.41.59.51 0 1.02-.2 1.41-.59l7.78-7.78 2.81-2.81c.8-.78.8-2.07 0-2.86zM5.41 20L4 18.59l7.72-7.72 1.47 1.35L5.41 20z\"/>\n",
              "  </svg>\n",
              "      </button>\n",
              "      \n",
              "  <style>\n",
              "    .colab-df-container {\n",
              "      display:flex;\n",
              "      flex-wrap:wrap;\n",
              "      gap: 12px;\n",
              "    }\n",
              "\n",
              "    .colab-df-convert {\n",
              "      background-color: #E8F0FE;\n",
              "      border: none;\n",
              "      border-radius: 50%;\n",
              "      cursor: pointer;\n",
              "      display: none;\n",
              "      fill: #1967D2;\n",
              "      height: 32px;\n",
              "      padding: 0 0 0 0;\n",
              "      width: 32px;\n",
              "    }\n",
              "\n",
              "    .colab-df-convert:hover {\n",
              "      background-color: #E2EBFA;\n",
              "      box-shadow: 0px 1px 2px rgba(60, 64, 67, 0.3), 0px 1px 3px 1px rgba(60, 64, 67, 0.15);\n",
              "      fill: #174EA6;\n",
              "    }\n",
              "\n",
              "    [theme=dark] .colab-df-convert {\n",
              "      background-color: #3B4455;\n",
              "      fill: #D2E3FC;\n",
              "    }\n",
              "\n",
              "    [theme=dark] .colab-df-convert:hover {\n",
              "      background-color: #434B5C;\n",
              "      box-shadow: 0px 1px 3px 1px rgba(0, 0, 0, 0.15);\n",
              "      filter: drop-shadow(0px 1px 2px rgba(0, 0, 0, 0.3));\n",
              "      fill: #FFFFFF;\n",
              "    }\n",
              "  </style>\n",
              "\n",
              "      <script>\n",
              "        const buttonEl =\n",
              "          document.querySelector('#df-2f88b69a-b272-4163-a548-3cbe57b54d57 button.colab-df-convert');\n",
              "        buttonEl.style.display =\n",
              "          google.colab.kernel.accessAllowed ? 'block' : 'none';\n",
              "\n",
              "        async function convertToInteractive(key) {\n",
              "          const element = document.querySelector('#df-2f88b69a-b272-4163-a548-3cbe57b54d57');\n",
              "          const dataTable =\n",
              "            await google.colab.kernel.invokeFunction('convertToInteractive',\n",
              "                                                     [key], {});\n",
              "          if (!dataTable) return;\n",
              "\n",
              "          const docLinkHtml = 'Like what you see? Visit the ' +\n",
              "            '<a target=\"_blank\" href=https://colab.research.google.com/notebooks/data_table.ipynb>data table notebook</a>'\n",
              "            + ' to learn more about interactive tables.';\n",
              "          element.innerHTML = '';\n",
              "          dataTable['output_type'] = 'display_data';\n",
              "          await google.colab.output.renderOutput(dataTable, element);\n",
              "          const docLink = document.createElement('div');\n",
              "          docLink.innerHTML = docLinkHtml;\n",
              "          element.appendChild(docLink);\n",
              "        }\n",
              "      </script>\n",
              "    </div>\n",
              "  </div>\n",
              "  "
            ]
          },
          "metadata": {},
          "execution_count": 128
        }
      ],
      "source": [
        "# Read in the data from csv\n",
        "fire_data = pd.read_csv('forestfires.csv')\n",
        "feats = list(fire_data.columns)\n",
        "feats.remove('area')\n",
        "fire_data.head()\n"
      ]
    },
    {
      "cell_type": "code",
      "source": [
        "print(fire_data.area.value_counts())"
      ],
      "metadata": {
        "id": "SeS5Dh-n8ZAy",
        "colab": {
          "base_uri": "https://localhost:8080/"
        },
        "outputId": "2137bd52-2b59-4dff-e52b-eb076a24643c"
      },
      "id": "SeS5Dh-n8ZAy",
      "execution_count": 129,
      "outputs": [
        {
          "output_type": "stream",
          "name": "stdout",
          "text": [
            "0.00      148\n",
            "1.94        3\n",
            "0.52        2\n",
            "3.71        2\n",
            "0.68        2\n",
            "         ... \n",
            "105.66      1\n",
            "154.88      1\n",
            "196.48      1\n",
            "200.94      1\n",
            "11.16       1\n",
            "Name: area, Length: 251, dtype: int64\n"
          ]
        }
      ]
    },
    {
      "cell_type": "markdown",
      "id": "58c38d8c",
      "metadata": {
        "deletable": false,
        "editable": false,
        "nbgrader": {
          "cell_type": "markdown",
          "checksum": "7fd2b93aaf1b7c7c5727fc8be822af96",
          "grade": false,
          "grade_id": "cell-71d70906aef905fa",
          "locked": true,
          "schema_version": 3,
          "solution": false,
          "task": false
        },
        "id": "58c38d8c"
      },
      "source": [
        "### Q2.1 [5 points]\n",
        "We first need to prepare our data for modeling.  Complete the below function `prepare_data()` which takes as input the `fire_data` dataframe and performs the following:  \n",
        "- Remove any rows where 'area' is 0 (there is no area burned)  \n",
        "- Separate the data into an X dataframe containing all original columns except 'area', and a y dataframe containing a single column 'area' (the variable we are trying to predict). \n",
        "- Split the data using `train_test_split` into training and test sets, using 20% of the data for the test set.  Be sure to set `random_state=0`.  \n",
        "- Use ordinal encoding (`OrdinalEncoder(handle_unknown='use_encoded_value', unknown_value=-1)`) to encode the categorical columns 'month' and 'day'.  Be sure to use `fit_transform` while encoding the training set and only `transform` to encode the test set.  \n",
        "\n",
        "Your function should return `X_train,X_test,y_train,y_test` in order"
      ]
    },
    {
      "cell_type": "code",
      "execution_count": 130,
      "id": "01e5a925",
      "metadata": {
        "deletable": false,
        "nbgrader": {
          "cell_type": "code",
          "checksum": "371732008b0e02bdc0b291706c67ac6c",
          "grade": false,
          "grade_id": "cell-85e9b1cdb64fe7b0",
          "locked": false,
          "schema_version": 3,
          "solution": true,
          "task": false
        },
        "id": "01e5a925"
      },
      "outputs": [],
      "source": [
        "def prepare_data(df):\n",
        "    '''\n",
        "    Prepares data for modeling per the above instructions\n",
        "\n",
        "    Inputs:\n",
        "        df(pd.DataFrame): dataframe containing the raw data\n",
        "\n",
        "    Returns:\n",
        "        X_train(pd.DataFrame): training data inputs\n",
        "        X_test(pd.DataFrame): test set inputs\n",
        "        y_train(pd.Series): training set target labels\n",
        "        y_test(pd.Series): test set target labels\n",
        "\n",
        "    '''\n",
        "    # YOUR CODE HERE\n",
        "    df1 = df.copy()\n",
        "    df1=df1[df1.area!=0.0]\n",
        "    #print(df1.shape)\n",
        "    y = df1.area \n",
        "    X = df1.drop('area', axis=1)\n",
        "    X_train, X_test, y_train, y_test = train_test_split(X,y, test_size=0.2, random_state=0)\n",
        "\n",
        "\n",
        "    X_ord_enc = OrdinalEncoder(handle_unknown='use_encoded_value', unknown_value=-1)\n",
        "    X_train[['month', 'day']] = X_ord_enc.fit_transform(X_train[['month', 'day']])\n",
        "    X_test[['month', 'day']]= X_ord_enc.transform(X_test[['month', 'day']])\n",
        "\n",
        "\n",
        "   \n",
        "\n",
        "    return X_train, X_test, y_train, y_test\n",
        "\n",
        "\n",
        "    raise NotImplementedError()"
      ]
    },
    {
      "cell_type": "code",
      "execution_count": 131,
      "id": "4d6fa64e",
      "metadata": {
        "deletable": false,
        "editable": false,
        "nbgrader": {
          "cell_type": "code",
          "checksum": "0944ffcd1606dea6c515c23e0dfe9aaf",
          "grade": true,
          "grade_id": "cell-8c6c1b48fd61934d",
          "locked": true,
          "points": 5,
          "schema_version": 3,
          "solution": false,
          "task": false
        },
        "id": "4d6fa64e",
        "colab": {
          "base_uri": "https://localhost:8080/",
          "height": 204
        },
        "outputId": "1857e3d0-6cab-4431-aceb-b945a818348d"
      },
      "outputs": [
        {
          "output_type": "display_data",
          "data": {
            "text/plain": [
              "     X  Y  month  day  FFMC    DMC     DC  ISI  temp  RH  wind  rain\n",
              "44   1  2    4.0  2.0  90.0   51.3  296.3  8.7  16.6  53   5.4   0.0\n",
              "61   7  4    6.0  1.0  90.1   39.7   86.6  6.2  16.1  29   3.1   0.0\n",
              "291  7  4    3.0  1.0  84.7    9.5   58.3  4.1   7.5  71   6.3   0.0\n",
              "154  7  4    1.0  4.0  91.9  109.2  565.5  8.0  21.4  38   2.7   0.0\n",
              "51   6  5    5.0  0.0  92.5   56.4  433.3  7.1  23.2  39   5.4   0.0"
            ],
            "text/html": [
              "\n",
              "  <div id=\"df-0fb05866-8e10-4020-b196-015fec8cd521\">\n",
              "    <div class=\"colab-df-container\">\n",
              "      <div>\n",
              "<style scoped>\n",
              "    .dataframe tbody tr th:only-of-type {\n",
              "        vertical-align: middle;\n",
              "    }\n",
              "\n",
              "    .dataframe tbody tr th {\n",
              "        vertical-align: top;\n",
              "    }\n",
              "\n",
              "    .dataframe thead th {\n",
              "        text-align: right;\n",
              "    }\n",
              "</style>\n",
              "<table border=\"1\" class=\"dataframe\">\n",
              "  <thead>\n",
              "    <tr style=\"text-align: right;\">\n",
              "      <th></th>\n",
              "      <th>X</th>\n",
              "      <th>Y</th>\n",
              "      <th>month</th>\n",
              "      <th>day</th>\n",
              "      <th>FFMC</th>\n",
              "      <th>DMC</th>\n",
              "      <th>DC</th>\n",
              "      <th>ISI</th>\n",
              "      <th>temp</th>\n",
              "      <th>RH</th>\n",
              "      <th>wind</th>\n",
              "      <th>rain</th>\n",
              "    </tr>\n",
              "  </thead>\n",
              "  <tbody>\n",
              "    <tr>\n",
              "      <th>44</th>\n",
              "      <td>1</td>\n",
              "      <td>2</td>\n",
              "      <td>4.0</td>\n",
              "      <td>2.0</td>\n",
              "      <td>90.0</td>\n",
              "      <td>51.3</td>\n",
              "      <td>296.3</td>\n",
              "      <td>8.7</td>\n",
              "      <td>16.6</td>\n",
              "      <td>53</td>\n",
              "      <td>5.4</td>\n",
              "      <td>0.0</td>\n",
              "    </tr>\n",
              "    <tr>\n",
              "      <th>61</th>\n",
              "      <td>7</td>\n",
              "      <td>4</td>\n",
              "      <td>6.0</td>\n",
              "      <td>1.0</td>\n",
              "      <td>90.1</td>\n",
              "      <td>39.7</td>\n",
              "      <td>86.6</td>\n",
              "      <td>6.2</td>\n",
              "      <td>16.1</td>\n",
              "      <td>29</td>\n",
              "      <td>3.1</td>\n",
              "      <td>0.0</td>\n",
              "    </tr>\n",
              "    <tr>\n",
              "      <th>291</th>\n",
              "      <td>7</td>\n",
              "      <td>4</td>\n",
              "      <td>3.0</td>\n",
              "      <td>1.0</td>\n",
              "      <td>84.7</td>\n",
              "      <td>9.5</td>\n",
              "      <td>58.3</td>\n",
              "      <td>4.1</td>\n",
              "      <td>7.5</td>\n",
              "      <td>71</td>\n",
              "      <td>6.3</td>\n",
              "      <td>0.0</td>\n",
              "    </tr>\n",
              "    <tr>\n",
              "      <th>154</th>\n",
              "      <td>7</td>\n",
              "      <td>4</td>\n",
              "      <td>1.0</td>\n",
              "      <td>4.0</td>\n",
              "      <td>91.9</td>\n",
              "      <td>109.2</td>\n",
              "      <td>565.5</td>\n",
              "      <td>8.0</td>\n",
              "      <td>21.4</td>\n",
              "      <td>38</td>\n",
              "      <td>2.7</td>\n",
              "      <td>0.0</td>\n",
              "    </tr>\n",
              "    <tr>\n",
              "      <th>51</th>\n",
              "      <td>6</td>\n",
              "      <td>5</td>\n",
              "      <td>5.0</td>\n",
              "      <td>0.0</td>\n",
              "      <td>92.5</td>\n",
              "      <td>56.4</td>\n",
              "      <td>433.3</td>\n",
              "      <td>7.1</td>\n",
              "      <td>23.2</td>\n",
              "      <td>39</td>\n",
              "      <td>5.4</td>\n",
              "      <td>0.0</td>\n",
              "    </tr>\n",
              "  </tbody>\n",
              "</table>\n",
              "</div>\n",
              "      <button class=\"colab-df-convert\" onclick=\"convertToInteractive('df-0fb05866-8e10-4020-b196-015fec8cd521')\"\n",
              "              title=\"Convert this dataframe to an interactive table.\"\n",
              "              style=\"display:none;\">\n",
              "        \n",
              "  <svg xmlns=\"http://www.w3.org/2000/svg\" height=\"24px\"viewBox=\"0 0 24 24\"\n",
              "       width=\"24px\">\n",
              "    <path d=\"M0 0h24v24H0V0z\" fill=\"none\"/>\n",
              "    <path d=\"M18.56 5.44l.94 2.06.94-2.06 2.06-.94-2.06-.94-.94-2.06-.94 2.06-2.06.94zm-11 1L8.5 8.5l.94-2.06 2.06-.94-2.06-.94L8.5 2.5l-.94 2.06-2.06.94zm10 10l.94 2.06.94-2.06 2.06-.94-2.06-.94-.94-2.06-.94 2.06-2.06.94z\"/><path d=\"M17.41 7.96l-1.37-1.37c-.4-.4-.92-.59-1.43-.59-.52 0-1.04.2-1.43.59L10.3 9.45l-7.72 7.72c-.78.78-.78 2.05 0 2.83L4 21.41c.39.39.9.59 1.41.59.51 0 1.02-.2 1.41-.59l7.78-7.78 2.81-2.81c.8-.78.8-2.07 0-2.86zM5.41 20L4 18.59l7.72-7.72 1.47 1.35L5.41 20z\"/>\n",
              "  </svg>\n",
              "      </button>\n",
              "      \n",
              "  <style>\n",
              "    .colab-df-container {\n",
              "      display:flex;\n",
              "      flex-wrap:wrap;\n",
              "      gap: 12px;\n",
              "    }\n",
              "\n",
              "    .colab-df-convert {\n",
              "      background-color: #E8F0FE;\n",
              "      border: none;\n",
              "      border-radius: 50%;\n",
              "      cursor: pointer;\n",
              "      display: none;\n",
              "      fill: #1967D2;\n",
              "      height: 32px;\n",
              "      padding: 0 0 0 0;\n",
              "      width: 32px;\n",
              "    }\n",
              "\n",
              "    .colab-df-convert:hover {\n",
              "      background-color: #E2EBFA;\n",
              "      box-shadow: 0px 1px 2px rgba(60, 64, 67, 0.3), 0px 1px 3px 1px rgba(60, 64, 67, 0.15);\n",
              "      fill: #174EA6;\n",
              "    }\n",
              "\n",
              "    [theme=dark] .colab-df-convert {\n",
              "      background-color: #3B4455;\n",
              "      fill: #D2E3FC;\n",
              "    }\n",
              "\n",
              "    [theme=dark] .colab-df-convert:hover {\n",
              "      background-color: #434B5C;\n",
              "      box-shadow: 0px 1px 3px 1px rgba(0, 0, 0, 0.15);\n",
              "      filter: drop-shadow(0px 1px 2px rgba(0, 0, 0, 0.3));\n",
              "      fill: #FFFFFF;\n",
              "    }\n",
              "  </style>\n",
              "\n",
              "      <script>\n",
              "        const buttonEl =\n",
              "          document.querySelector('#df-0fb05866-8e10-4020-b196-015fec8cd521 button.colab-df-convert');\n",
              "        buttonEl.style.display =\n",
              "          google.colab.kernel.accessAllowed ? 'block' : 'none';\n",
              "\n",
              "        async function convertToInteractive(key) {\n",
              "          const element = document.querySelector('#df-0fb05866-8e10-4020-b196-015fec8cd521');\n",
              "          const dataTable =\n",
              "            await google.colab.kernel.invokeFunction('convertToInteractive',\n",
              "                                                     [key], {});\n",
              "          if (!dataTable) return;\n",
              "\n",
              "          const docLinkHtml = 'Like what you see? Visit the ' +\n",
              "            '<a target=\"_blank\" href=https://colab.research.google.com/notebooks/data_table.ipynb>data table notebook</a>'\n",
              "            + ' to learn more about interactive tables.';\n",
              "          element.innerHTML = '';\n",
              "          dataTable['output_type'] = 'display_data';\n",
              "          await google.colab.output.renderOutput(dataTable, element);\n",
              "          const docLink = document.createElement('div');\n",
              "          docLink.innerHTML = docLinkHtml;\n",
              "          element.appendChild(docLink);\n",
              "        }\n",
              "      </script>\n",
              "    </div>\n",
              "  </div>\n",
              "  "
            ]
          },
          "metadata": {}
        }
      ],
      "source": [
        "# Test cell for prepare_data()\n",
        "X_train,X_test,y_train,y_test = prepare_data(fire_data)\n",
        "display(X_train.head())\n",
        "\n",
        "assert X_train.shape==(216,12)\n",
        "assert X_test.shape==(54,12)\n",
        "for col in feats:\n",
        "    assert is_numeric_dtype(X_train[col])"
      ]
    },
    {
      "cell_type": "markdown",
      "id": "ee1fdaab",
      "metadata": {
        "deletable": false,
        "editable": false,
        "nbgrader": {
          "cell_type": "markdown",
          "checksum": "e6fe05a799ad27294e0c55b4f72cb02e",
          "grade": false,
          "grade_id": "cell-4a0877328276ca30",
          "locked": true,
          "schema_version": 3,
          "solution": false,
          "task": false
        },
        "id": "ee1fdaab"
      },
      "source": [
        "### Q2.2 [10 points]\n",
        "Complete the below function `optimize_tree_model()` which takes the training and test sets as input as well as a list of values for the `max_depth` of the tree to evaluate.  Your function should use cross-validation with 5 folds (set `shuffle=False`) and MSE as the metric to compare the performance of decision tree models using the `max_depth` values listed in the input `tree_depths` list.\n",
        "\n",
        "After comparing the models using cross-validation, you should instantiate a model using the optimal `max_depth` that you found and then train it on the full training set.  Then, calculate the MSE on both the training and test sets.  "
      ]
    },
    {
      "cell_type": "code",
      "execution_count": 132,
      "id": "70d609ca",
      "metadata": {
        "deletable": false,
        "nbgrader": {
          "cell_type": "code",
          "checksum": "10023cb33d66787e5a54af7d7d9718d5",
          "grade": false,
          "grade_id": "cell-471ad3b1c9b7a25f",
          "locked": false,
          "schema_version": 3,
          "solution": true,
          "task": false
        },
        "id": "70d609ca"
      },
      "outputs": [],
      "source": [
        "def optimize_tree_model(X_train,X_test,y_train,y_test,tree_depths):\n",
        "    '''\n",
        "    Finds the optimal max_depth for the tree using cross validation with 5 folds and MSE as the metric\n",
        "\n",
        "    Inputs:\n",
        "        X_train(pd.DataFrame): training data inputs\n",
        "        X_test(pd.DataFrame): test set inputs\n",
        "        y_train(pd.Series): training set target labels\n",
        "        y_test(pd.Series): test set target labels\n",
        "        tree_depths(list): list of values to evaluate for max_depth\n",
        "\n",
        "    Returns:\n",
        "        opt_depth(int or None): optimal value for max_depth\n",
        "        best_tree(sklearn.tree.DecisionTreeRegressor): trained tree model using opt_depth and random_state=0 (all other hyperparams at default)\n",
        "        train_mse(float): MSE on the training set\n",
        "        test_mse(float): MSE on the test set\n",
        "    '''\n",
        "    \n",
        "    # YOUR CODE HERE\n",
        "    mse_list=[] #to store the mse values on cross_val_score\n",
        "    \n",
        "    #cross validation over the hyperparameter of max_depth\n",
        "    for tree_depth in tree_depths:\n",
        "      \n",
        "      model = DecisionTreeRegressor(max_depth=tree_depth, random_state=0)\n",
        "      mse_folds = cross_val_score(model, X_train, y_train, cv=5, scoring='neg_mean_squared_error')\n",
        "      #print(mse_folds, tree_depth)\n",
        "      mse=-np.mean(mse_folds)\n",
        "      mse_list.append(mse)\n",
        "    #print(mse_list)\n",
        "    \n",
        "    #get the lowest value of mse and find corresponding optimum max_depth value\n",
        "    idx = np.argmin(mse)\n",
        "    #print(idx)\n",
        "    opt_depth = tree_depths[idx]\n",
        "    \n",
        "    #get predictions using the optimal value of max_depth (opt_depth)\n",
        "    best_tree = DecisionTreeRegressor(max_depth=opt_depth, random_state=0)\n",
        "    best_tree.fit(X_train, y_train)\n",
        "    y_pred_train = best_tree.predict(X_train)\n",
        "    y_pred_test = best_tree.predict(X_test)\n",
        "    \n",
        "    #calculate mse for the train and test datasets\n",
        "    mse_train = np.square(np.subtract(y_train,y_pred_train)).mean()\n",
        "    mse_test = np.square(np.subtract(y_test, y_pred_test)).mean()\n",
        "  \n",
        "\n",
        "    return opt_depth, best_tree, mse_train, mse_test\n",
        "\n",
        "    raise NotImplementedError()"
      ]
    },
    {
      "cell_type": "code",
      "execution_count": 133,
      "id": "e94a722e",
      "metadata": {
        "deletable": false,
        "editable": false,
        "nbgrader": {
          "cell_type": "code",
          "checksum": "7e9ed590ba0ac1f7429f3293556951a7",
          "grade": true,
          "grade_id": "cell-6419b538b52683c6",
          "locked": true,
          "points": 10,
          "schema_version": 3,
          "solution": false,
          "task": false
        },
        "id": "e94a722e",
        "colab": {
          "base_uri": "https://localhost:8080/",
          "height": 282
        },
        "outputId": "e2dc7990-fdff-4edf-bc65-44f7b6aac493"
      },
      "outputs": [
        {
          "output_type": "stream",
          "name": "stdout",
          "text": [
            "Your function found that the optimal tree depth was 1\n",
            "MSE train: 8542.333, test: 1664.464\n"
          ]
        },
        {
          "output_type": "display_data",
          "data": {
            "text/plain": [
              "<Figure size 432x288 with 1 Axes>"
            ],
            "image/png": "[encoded data removed]"
          },
          "metadata": {
            "needs_background": "light"
          }
        }
      ],
      "source": [
        "# Test cell for optimize_tree_model()\n",
        "tree_depths = [1, 2, 3, None]\n",
        "opt_depth,model,train_mse,test_mse = optimize_tree_model(X_train,X_test,y_train,y_test,tree_depths)\n",
        "assert opt_depth in tree_depths\n",
        "print('Your function found that the optimal tree depth was {}'.format(opt_depth))\n",
        "print('MSE train: {:.3f}, test: {:.3f}'.format(train_mse,test_mse))\n",
        "\n",
        "\n",
        "plot_tree(model,feature_names=feats,filled=True)\n",
        "plt.show()"
      ]
    },
    {
      "cell_type": "code",
      "source": [
        "#as a point of comparison:\n",
        "tree_depths2 = [2, 3,4,5, 6, 7]\n",
        "opt_depth2, model2, train_mse2, test_mse2 = optimize_tree_model(X_train, X_test, y_train, y_test, tree_depths2)\n",
        "print('Your function found that the optimal tree depth was {}'.format(opt_depth2))\n",
        "print('MSE train: {:.3f}, test: {:.3f}'.format(train_mse2,test_mse2))\n",
        "\n",
        "plot_tree(model2, feature_names=feats, filled=True)\n",
        "plt.show()"
      ],
      "metadata": {
        "id": "sGEs8m4MyEMa",
        "colab": {
          "base_uri": "https://localhost:8080/",
          "height": 282
        },
        "outputId": "b1a03703-67a0-491c-929f-17454ef571ae"
      },
      "id": "sGEs8m4MyEMa",
      "execution_count": 134,
      "outputs": [
        {
          "output_type": "stream",
          "name": "stdout",
          "text": [
            "Your function found that the optimal tree depth was 2\n",
            "MSE train: 3604.814, test: 1162.885\n"
          ]
        },
        {
          "output_type": "display_data",
          "data": {
            "text/plain": [
              "<Figure size 432x288 with 1 Axes>"
            ],
            "image/png": "[encoded data removed]"
          },
          "metadata": {
            "needs_background": "light"
          }
        }
      ]
    },
    {
      "cell_type": "markdown",
      "id": "6520479c",
      "metadata": {
        "deletable": false,
        "editable": false,
        "nbgrader": {
          "cell_type": "markdown",
          "checksum": "d1c20a01dc75979f85193775071420ed",
          "grade": false,
          "grade_id": "cell-45f2e9f50626aa81",
          "locked": true,
          "schema_version": 3,
          "solution": false,
          "task": false
        },
        "id": "6520479c"
      },
      "source": [
        "### Q2.3 [10 points]\n",
        "Let's now try a Random Forest model on the data rather than a single decision tree.  Complete the below function `optimize_forest_model()` which takes the training and test sets as input along with a list of values to try for the `min_samples_leaf` hyperparameter of the Random Forest.  Your function should use 5-fold cross validation (set `shuffle=False`) with MSE as the metric to compare the performance of Random Forest models using each value in the input list `min_leaf_sizes` for the hyperparameter `min_samples_leaf`.  After identifying the optimal value for `min_samples_leaf` from among the options in the input list, you should instantiate a new Random Forest model using that value for the hyperparameter.  Then, train it on the full training set and calculate the MSE on the training and test sets.  Your function should return the following in order:  \n",
        "- The optimal value for `min_samples_leaf` found from among the values in the input list `min_leaf_sizes`. \n",
        "- The trained model using the optimal `min_samples_leaf` value. \n",
        "- The MSE on the training set. \n",
        "- The MSE on the test set"
      ]
    },
    {
      "cell_type": "code",
      "execution_count": 135,
      "id": "5e6ed90b",
      "metadata": {
        "deletable": false,
        "nbgrader": {
          "cell_type": "code",
          "checksum": "1d950c46f8448787723aaedb54823068",
          "grade": false,
          "grade_id": "cell-ac64bba45f11ab8a",
          "locked": false,
          "schema_version": 3,
          "solution": true,
          "task": false
        },
        "id": "5e6ed90b"
      },
      "outputs": [],
      "source": [
        "def optimize_forest_model(X_train,X_test,y_train,y_test,min_leaf_sizes):\n",
        "    '''\n",
        "    Finds the optimal min_samples_leaf value for the random forest using cross-validation with 5 folds and MSE as the metric\n",
        "\n",
        "    Inputs:\n",
        "        X_train(pd.DataFrame): training data inputs\n",
        "        X_test(pd.DataFrame): test set inputs\n",
        "        y_train(pd.Series): training set target labels\n",
        "        y_test(pd.Series): test set target labels\n",
        "        min_leaf_sizes(list): list of values to evaluate for min_samples_leaf\n",
        "\n",
        "    Returns:\n",
        "        opt_leaf(int): optimal value for min_samples_leaf\n",
        "        best_rf(sklearn.tree.RandomForestRegressor): trained random forest model using opt_leaf and random_state=0 (all other hyperparams at default)\n",
        "        train_mse(float): MSE on the training set\n",
        "        test_mse(float): MSE on the test set\n",
        "    '''\n",
        "\n",
        "    # YOUR CODE HERE\n",
        "    mse_list = []\n",
        "    for leaf_size in min_leaf_sizes:\n",
        "      model = RandomForestRegressor(min_samples_leaf=leaf_size, random_state=0)\n",
        "      mse_folds = cross_val_score(model, X_train, y_train, cv=5)\n",
        "      #print(leaf_size, mse_folds)\n",
        "      mse=-np.mean(mse_folds)\n",
        "      print(f'leaf_size and MSE: {leaf_size, mse}')\n",
        "      mse_list.append(mse)\n",
        "    \n",
        "    idx = np.argmin(mse_list)\n",
        "    opt_leaf = min_leaf_sizes[idx]\n",
        "    #print(idx, opt_leaf)\n",
        "\n",
        "    best_rf = RandomForestRegressor(min_samples_leaf=opt_leaf, random_state=0)\n",
        "    best_rf.fit(X_train, y_train)\n",
        "\n",
        "    y_train_pred = best_rf.predict(X_train)\n",
        "    y_test_pred = best_rf.predict(X_test)\n",
        "\n",
        "    #calculate mse for the train and test datasets\n",
        "    train_mse = np.square(np.subtract(y_train,y_train_pred)).mean()\n",
        "    test_mse = np.square(np.subtract(y_test, y_test_pred)).mean()\n",
        "\n",
        "    return opt_leaf, best_rf, train_mse, test_mse\n",
        "\n",
        "    raise NotImplementedError()"
      ]
    },
    {
      "cell_type": "code",
      "execution_count": 136,
      "id": "9c730cdf",
      "metadata": {
        "deletable": false,
        "editable": false,
        "nbgrader": {
          "cell_type": "code",
          "checksum": "9a5d708f8de093823c99c729a1a04b1c",
          "grade": true,
          "grade_id": "cell-0806dee36c7e84fd",
          "locked": true,
          "points": 10,
          "schema_version": 3,
          "solution": false,
          "task": false
        },
        "id": "9c730cdf",
        "colab": {
          "base_uri": "https://localhost:8080/"
        },
        "outputId": "6ba1c52e-9bed-43bc-d341-a8a60c5ae297"
      },
      "outputs": [
        {
          "output_type": "stream",
          "name": "stdout",
          "text": [
            "leaf_size and MSE: (1, 1.8742541405312068)\n",
            "leaf_size and MSE: (3, 1.1228121790555643)\n",
            "leaf_size and MSE: (5, 0.8999597233182743)\n",
            "leaf_size and MSE: (50, 0.1645783235322038)\n",
            "Your function found that the optimal min_samples_leaf was 50\n",
            "MSE train: 8740.751, test: 1232.780\n"
          ]
        }
      ],
      "source": [
        "# Test cell for optimize_forest_model()\n",
        "min_leaf_sizes = [1,3,5,50]\n",
        "opt_leaf,best_rf,train_mse,test_mse = optimize_forest_model(X_train,X_test,y_train,y_test,min_leaf_sizes)\n",
        "assert opt_leaf in min_leaf_sizes\n",
        "print('Your function found that the optimal min_samples_leaf was {}'.format(opt_leaf))\n",
        "print('MSE train: {:.3f}, test: {:.3f}'.format(train_mse,test_mse))\n"
      ]
    },
    {
      "cell_type": "markdown",
      "id": "b009d96d",
      "metadata": {
        "deletable": false,
        "editable": false,
        "nbgrader": {
          "cell_type": "markdown",
          "checksum": "1bc4f2d826a69beb800ea0011e0e8445",
          "grade": false,
          "grade_id": "cell-bcf02c5303e14c38",
          "locked": true,
          "schema_version": 3,
          "solution": false,
          "task": false
        },
        "id": "b009d96d"
      },
      "source": [
        "## Question 3 [25 pts]\n",
        "In this question we will again be working with our handwritten digits dataset.  We will be using tree models and ensembles to try to correctly classify the images of handwritten digits."
      ]
    },
    {
      "cell_type": "code",
      "execution_count": 137,
      "id": "cc1ff98e",
      "metadata": {
        "deletable": false,
        "editable": false,
        "nbgrader": {
          "cell_type": "code",
          "checksum": "976739919faf796bcebb01fd35781ebe",
          "grade": false,
          "grade_id": "cell-1c8205b6806491d9",
          "locked": true,
          "schema_version": 3,
          "solution": false,
          "task": false
        },
        "id": "cc1ff98e",
        "colab": {
          "base_uri": "https://localhost:8080/",
          "height": 469
        },
        "outputId": "fa665dac-8f29-4997-9440-5f60b7675302"
      },
      "outputs": [
        {
          "output_type": "display_data",
          "data": {
            "text/plain": [
              "<Figure size 576x576 with 25 Axes>"
            ],
            "image/png": "[encoded data removed]"
          },
          "metadata": {}
        }
      ],
      "source": [
        "from sklearn.datasets import load_digits\n",
        "digits = load_digits()\n",
        "\n",
        "fig, axes = plt.subplots(5, 5, figsize=(8, 8),\n",
        "                         subplot_kw={'xticks':[], 'yticks':[]},\n",
        "                         gridspec_kw=dict(hspace=0.1, wspace=0.1))\n",
        "\n",
        "for i, ax in enumerate(axes.flat):\n",
        "    ax.imshow(digits.images[i], cmap='binary', interpolation='nearest')\n",
        "    ax.text(0.05, 0.05, str(digits.target[i]),\n",
        "            transform=ax.transAxes, color='green')"
      ]
    },
    {
      "cell_type": "code",
      "execution_count": 138,
      "id": "bcdf6bad",
      "metadata": {
        "deletable": false,
        "editable": false,
        "nbgrader": {
          "cell_type": "code",
          "checksum": "404d54aa9160b1b2d71438f19181f110",
          "grade": false,
          "grade_id": "cell-487e666dc0e35abe",
          "locked": true,
          "schema_version": 3,
          "solution": false,
          "task": false
        },
        "id": "bcdf6bad"
      },
      "outputs": [],
      "source": [
        "# Read in the input and target data\n",
        "X = digits.data\n",
        "y = digits.target\n",
        "\n",
        "# Split into training and test sets\n",
        "X_train,X_test,y_train,y_test = train_test_split(X, y, random_state=0,test_size=0.2)"
      ]
    },
    {
      "cell_type": "markdown",
      "id": "0795a291",
      "metadata": {
        "deletable": false,
        "editable": false,
        "nbgrader": {
          "cell_type": "markdown",
          "checksum": "915d601323e3fcbe1a608883e9cf0d95",
          "grade": false,
          "grade_id": "cell-0d981d7886452044",
          "locked": true,
          "schema_version": 3,
          "solution": false,
          "task": false
        },
        "id": "0795a291"
      },
      "source": [
        "### Q3.1 [5 points]\n",
        "Let's start by getting a baseline performance using a simple model. Complete the below function `digits_tree_model()` which takes as inputs the training and test sets.  The function should create a decision tree model using the default settings for the hyperparameters (be sure to set `random_state=0`) and fit it on the training data.  It should then calculate the accuracy of its predictions on the test set and return the test set accuracy."
      ]
    },
    {
      "cell_type": "code",
      "execution_count": 139,
      "id": "db1beda8",
      "metadata": {
        "deletable": false,
        "nbgrader": {
          "cell_type": "code",
          "checksum": "6ed8810b99fc5d61d0246c4877cd7917",
          "grade": false,
          "grade_id": "cell-15fc2123ac556d97",
          "locked": false,
          "schema_version": 3,
          "solution": true,
          "task": false
        },
        "id": "db1beda8"
      },
      "outputs": [],
      "source": [
        "def digits_tree_model(X_train,X_test,y_train,y_test):\n",
        "    '''\n",
        "    Trains a decision tree model (use default settings) and calculates its accuracy on the test set\n",
        "\n",
        "    Inputs:\n",
        "        X_train(np.array): training set inputs (arrays of pixel values)\n",
        "        X_test(np.array): test set inputs\n",
        "        y_train(np.array): training set target labels\n",
        "        y_test(np.array): test set target labels\n",
        "\n",
        "    Returns:\n",
        "        test_acc(float): accuracy on the test set\n",
        "    '''\n",
        "    # YOUR CODE HERE\n",
        "    model = DecisionTreeClassifier(random_state=0)\n",
        "    model.fit(X_train, y_train)\n",
        "\n",
        "    y_preds = model.predict(X_test)\n",
        "    print(f'y_preds: {y_preds}')\n",
        "    print(f'y_test: {y_test}')\n",
        "    test_acc = np.sum(y_preds==y_test)/len(y_test)\n",
        "    print('Test set accuracy is {:.3f}'.format(test_acc))\n",
        "\n",
        "    return test_acc\n",
        "\n",
        "    raise NotImplementedError()"
      ]
    },
    {
      "cell_type": "code",
      "execution_count": 140,
      "id": "b560edd2",
      "metadata": {
        "deletable": false,
        "editable": false,
        "nbgrader": {
          "cell_type": "code",
          "checksum": "a08867c48220eeb03be4beba8a09f3b3",
          "grade": true,
          "grade_id": "cell-e2a1bf8aa67d4ec5",
          "locked": true,
          "points": 5,
          "schema_version": 3,
          "solution": false,
          "task": false
        },
        "id": "b560edd2",
        "colab": {
          "base_uri": "https://localhost:8080/"
        },
        "outputId": "2df7318a-68e8-45c4-a9d0-65c0c5ae8279"
      },
      "outputs": [
        {
          "output_type": "stream",
          "name": "stdout",
          "text": [
            "y_preds: [2 8 2 6 6 7 1 9 8 2 2 8 6 6 6 6 4 0 5 8 8 7 8 4 7 5 4 9 2 9 4 7 6 5 9 6 3\n",
            " 1 0 1 8 6 7 7 1 0 7 0 2 1 9 6 7 9 9 0 9 3 6 3 0 2 3 4 6 9 6 6 9 1 8 3 5 1\n",
            " 2 3 2 2 9 7 2 3 6 0 9 3 7 5 1 2 2 9 3 1 7 7 1 9 5 1 5 1 2 5 9 0 7 1 4 5 2\n",
            " 4 8 9 7 9 8 0 2 5 2 5 2 4 7 7 0 6 1 5 8 3 9 5 9 9 5 7 5 6 2 8 6 9 6 1 5 1\n",
            " 5 9 9 1 8 3 6 1 8 9 1 7 6 7 3 5 6 0 8 1 9 3 1 1 0 4 1 6 3 8 6 7 4 9 6 2 9\n",
            " 3 3 3 0 7 7 5 7 8 0 7 8 9 6 4 5 0 1 4 6 4 3 3 0 9 5 5 7 3 4 6 1 6 8 9 9 4\n",
            " 9 3 7 6 2 3 3 1 6 9 3 6 3 7 2 0 7 6 1 1 3 7 2 7 3 5 5 7 5 2 3 7 2 7 5 5 6\n",
            " 0 9 1 6 5 3 7 4 3 8 0 3 6 4 4 3 2 6 3 8 8 4 6 7 5 2 4 5 3 2 4 6 9 0 5 4 3\n",
            " 4 6 2 9 0 1 7 2 0 9 6 6 4 2 0 7 9 8 5 7 8 2 2 4 3 7 2 6 9 1 5 1 0 8 8 1 3\n",
            " 5 6 2 2 7 2 1 5 1 6 4 5 0 9 4 1 1 7 0 8 9 0 5 4 3 3 0]\n",
            "y_test: [2 8 2 6 6 7 1 9 8 5 2 8 6 6 6 6 1 0 5 8 8 7 8 4 7 5 4 9 2 9 4 7 6 8 9 4 3\n",
            " 1 0 1 8 6 7 7 1 0 7 6 2 1 9 6 7 9 0 0 5 1 6 3 0 2 3 4 1 9 2 6 9 1 8 3 5 1\n",
            " 2 8 2 2 9 7 2 3 6 0 5 3 7 5 1 2 9 9 3 1 7 7 4 8 5 8 5 5 2 5 9 0 7 1 4 7 3\n",
            " 4 8 9 7 9 8 2 6 5 2 5 8 4 8 7 0 6 1 5 9 9 9 5 9 9 5 7 5 6 2 8 6 9 6 1 5 1\n",
            " 5 9 9 1 5 3 6 1 8 9 8 7 6 7 6 5 6 0 8 8 9 8 6 1 0 4 1 6 3 8 6 7 4 5 6 3 0\n",
            " 3 3 3 0 7 7 5 7 8 0 7 8 9 6 4 5 0 1 4 6 4 3 3 0 9 5 9 2 1 4 2 1 6 8 9 2 4\n",
            " 9 3 7 6 2 3 3 1 6 9 3 6 3 2 2 0 7 6 1 1 9 7 2 7 8 5 5 7 5 2 3 7 2 7 5 5 7\n",
            " 0 9 1 6 5 9 7 4 3 8 0 3 6 4 6 3 2 6 8 8 8 4 6 7 5 2 4 5 3 2 4 6 9 4 5 4 3\n",
            " 4 6 2 9 0 1 7 2 0 9 6 0 4 2 0 7 9 8 5 4 8 2 8 4 3 7 2 6 9 1 5 1 0 8 2 1 9\n",
            " 5 6 8 2 7 2 1 5 1 6 4 5 0 9 4 1 1 7 0 8 9 0 5 4 3 8 8]\n",
            "Test set accuracy is 0.847\n",
            "Your tree's test set accuracy is 0.847\n"
          ]
        }
      ],
      "source": [
        "# Test cell for digits_tree_model()\n",
        "tree_acc = digits_tree_model(X_train,X_test,y_train,y_test)\n",
        "print(\"Your tree's test set accuracy is {:.3f}\".format(tree_acc))\n"
      ]
    },
    {
      "cell_type": "markdown",
      "id": "036e256f",
      "metadata": {
        "deletable": false,
        "editable": false,
        "nbgrader": {
          "cell_type": "markdown",
          "checksum": "18e6b883dce40d3561e84f118e008bb7",
          "grade": false,
          "grade_id": "cell-5b098b9ee7d060be",
          "locked": true,
          "schema_version": 3,
          "solution": false,
          "task": false
        },
        "id": "036e256f"
      },
      "source": [
        "### Q3.2 [5 points]\n",
        "Now that we have a baseline for comparision, let's see if we can improve our performance using a Random Forest model.  Complete the below function `digits_rf()` which takes as inputs the training and test sets.  Your function should instantiate a Random Forest model using `min_samples_leaf=10, max_features=1, random_state=0` and the default settings for the other hyperparameters.  Fit your model on the training set and then calculate and return the accuracy of the model on the test set."
      ]
    },
    {
      "cell_type": "code",
      "execution_count": 141,
      "id": "ead05c93",
      "metadata": {
        "deletable": false,
        "nbgrader": {
          "cell_type": "code",
          "checksum": "d6153826d51a084113e358e2c0922a71",
          "grade": false,
          "grade_id": "cell-661ee7f3215ab26c",
          "locked": false,
          "schema_version": 3,
          "solution": true,
          "task": false
        },
        "id": "ead05c93"
      },
      "outputs": [],
      "source": [
        "def digits_rf(X_train,X_test,y_train,y_test):    \n",
        "    '''\n",
        "    Trains a random forest tree model (use settings in instructions) and calculates its accuracy on the test set\n",
        "\n",
        "    Inputs:\n",
        "        X_train(np.array): training set inputs (arrays of pixel values)\n",
        "        X_test(np.array): test set inputs\n",
        "        y_train(np.array): training set target labels\n",
        "        y_test(np.array): test set target labels\n",
        "\n",
        "    Returns:\n",
        "        test_acc(float): accuracy on the test set\n",
        "    '''\n",
        "    \n",
        "    # YOUR CODE HERE\n",
        "    model = RandomForestClassifier(min_samples_leaf=10, max_features=1, random_state=0)\n",
        "    model.fit(X_train, y_train)\n",
        "\n",
        "    y_preds = model.predict(X_test)\n",
        "    print(f'y_preds: {y_preds}')\n",
        "    print(f'y_test: {y_test}')\n",
        "    test_acc = np.sum(y_preds==y_test)/len(y_test)\n",
        "    print('Test set accuracy is {:.3f}'.format(test_acc))\n",
        "\n",
        "    return test_acc\n",
        "\n",
        "\n",
        "    raise NotImplementedError()"
      ]
    },
    {
      "cell_type": "code",
      "execution_count": 142,
      "id": "aa758d13",
      "metadata": {
        "deletable": false,
        "editable": false,
        "nbgrader": {
          "cell_type": "code",
          "checksum": "cec18efd91a1dbde0e3d4c4339526694",
          "grade": true,
          "grade_id": "cell-41cd94c80981175a",
          "locked": true,
          "points": 5,
          "schema_version": 3,
          "solution": false,
          "task": false
        },
        "id": "aa758d13",
        "colab": {
          "base_uri": "https://localhost:8080/"
        },
        "outputId": "bac79953-b990-4ff9-bdd4-38d514329744"
      },
      "outputs": [
        {
          "output_type": "stream",
          "name": "stdout",
          "text": [
            "y_preds: [2 8 2 6 6 7 1 9 8 5 2 8 6 6 6 6 1 0 5 8 8 7 8 4 7 5 4 9 2 9 4 7 6 8 9 4 3\n",
            " 1 0 1 8 6 7 7 1 0 7 6 2 1 9 6 7 9 0 0 9 1 6 3 0 2 3 4 1 9 7 6 9 1 8 3 5 1\n",
            " 2 1 2 2 9 7 2 3 6 0 0 3 7 5 1 2 0 9 3 1 7 7 4 8 5 8 5 5 2 5 9 0 7 1 4 7 3\n",
            " 4 8 9 7 7 8 2 1 5 2 5 3 4 1 7 0 6 1 5 3 3 9 5 9 9 5 7 5 6 2 8 6 7 6 1 5 1\n",
            " 5 9 9 1 5 3 6 1 8 9 7 7 6 7 6 5 6 0 8 8 9 3 6 1 0 4 1 6 3 8 6 7 4 3 6 3 0\n",
            " 3 3 3 0 7 7 5 7 8 0 7 8 9 6 4 5 0 1 4 6 4 3 3 0 9 5 9 3 1 4 1 1 6 8 9 2 4\n",
            " 9 3 7 6 2 3 3 1 6 9 3 6 3 3 2 0 7 6 1 1 9 7 2 7 1 5 5 7 5 2 2 7 2 7 9 5 7\n",
            " 0 9 1 6 5 9 7 4 3 8 0 3 6 4 6 3 2 6 8 8 8 4 6 7 5 2 4 5 3 2 4 6 9 4 5 4 3\n",
            " 4 6 2 9 0 1 7 2 0 3 6 0 4 2 0 7 5 8 5 7 8 2 8 4 3 7 2 6 7 1 5 1 0 8 2 1 9\n",
            " 5 6 8 2 7 2 1 5 1 6 4 5 0 9 4 1 1 7 0 8 9 0 5 4 3 1 8]\n",
            "y_test: [2 8 2 6 6 7 1 9 8 5 2 8 6 6 6 6 1 0 5 8 8 7 8 4 7 5 4 9 2 9 4 7 6 8 9 4 3\n",
            " 1 0 1 8 6 7 7 1 0 7 6 2 1 9 6 7 9 0 0 5 1 6 3 0 2 3 4 1 9 2 6 9 1 8 3 5 1\n",
            " 2 8 2 2 9 7 2 3 6 0 5 3 7 5 1 2 9 9 3 1 7 7 4 8 5 8 5 5 2 5 9 0 7 1 4 7 3\n",
            " 4 8 9 7 9 8 2 6 5 2 5 8 4 8 7 0 6 1 5 9 9 9 5 9 9 5 7 5 6 2 8 6 9 6 1 5 1\n",
            " 5 9 9 1 5 3 6 1 8 9 8 7 6 7 6 5 6 0 8 8 9 8 6 1 0 4 1 6 3 8 6 7 4 5 6 3 0\n",
            " 3 3 3 0 7 7 5 7 8 0 7 8 9 6 4 5 0 1 4 6 4 3 3 0 9 5 9 2 1 4 2 1 6 8 9 2 4\n",
            " 9 3 7 6 2 3 3 1 6 9 3 6 3 2 2 0 7 6 1 1 9 7 2 7 8 5 5 7 5 2 3 7 2 7 5 5 7\n",
            " 0 9 1 6 5 9 7 4 3 8 0 3 6 4 6 3 2 6 8 8 8 4 6 7 5 2 4 5 3 2 4 6 9 4 5 4 3\n",
            " 4 6 2 9 0 1 7 2 0 9 6 0 4 2 0 7 9 8 5 4 8 2 8 4 3 7 2 6 9 1 5 1 0 8 2 1 9\n",
            " 5 6 8 2 7 2 1 5 1 6 4 5 0 9 4 1 1 7 0 8 9 0 5 4 3 8 8]\n",
            "Test set accuracy is 0.928\n",
            "Your tree's test set accuracy is 0.928\n"
          ]
        }
      ],
      "source": [
        "# Test cell for digits_tree_model()\n",
        "rf_acc = digits_rf(X_train,X_test,y_train,y_test)\n",
        "print(\"Your tree's test set accuracy is {:.3f}\".format(rf_acc))\n"
      ]
    },
    {
      "cell_type": "markdown",
      "id": "2d733cdb",
      "metadata": {
        "deletable": false,
        "editable": false,
        "nbgrader": {
          "cell_type": "markdown",
          "checksum": "678fb92babfff90b3f987d9460167362",
          "grade": false,
          "grade_id": "cell-6c1f4edfcda302f1",
          "locked": true,
          "schema_version": 3,
          "solution": false,
          "task": false
        },
        "id": "2d733cdb"
      },
      "source": [
        "### Q3.3 [10 points]\n",
        "Let's now tune our hyperparameters and see if we find a model that gives us better performance than our Random Forest model above.  Complete the function `digits_optimal_rf()` which takes the following inputs:  \n",
        "- The training data X_train, y_train. \n",
        "- Minsamples_list: list of values to evaluate for hyperparameter `min_samples_leaf`. \n",
        "- Max_feats_list: list of values to evaluate for hyperparameter `max_features`. \n",
        "- Max_samples: list of values to evaluate for hyperparameter `max_samples`. \n",
        "\n",
        "Your function should evaluate the possible combinations of the above hyperparameters using GridSearchCV (use 3-fold cross validation and accuracy as the scoring metric).  Your function should return the best parameter combination from the above options in a dictionary (which can be accessed using the `best_params_` attribute of the GridSearchCV)."
      ]
    },
    {
      "cell_type": "code",
      "execution_count": 143,
      "id": "f59cc219",
      "metadata": {
        "deletable": false,
        "nbgrader": {
          "cell_type": "code",
          "checksum": "053074107ccf14ae6dae7a0d5b2bd230",
          "grade": false,
          "grade_id": "cell-5c89e1543ae14338",
          "locked": false,
          "schema_version": 3,
          "solution": true,
          "task": false
        },
        "id": "f59cc219"
      },
      "outputs": [],
      "source": [
        "def digits_optimal_rf(X_train,y_train,minsamples_list,max_feats_list,max_samples_list):    \n",
        "    '''\n",
        "    Finds the optimal values for the hyperparameters using GridSearchCV with 3 folds and accuracy as the metric\n",
        "\n",
        "    Inputs:\n",
        "        X_train(np.array): training set inputs (arrays of pixel values)\n",
        "        X_test(np.array): test set inputs\n",
        "        minsamples_list (list): list of values to evaluate for hyperparameter `min_samples_leaf`. \n",
        "        max_feats_list (list): list of values to evaluate for hyperparameter `max_features`. \n",
        "        max_samples (list): list of values to evaluate for hyperparameter `max_samples`.\n",
        "\n",
        "    Returns:\n",
        "        params(dict): dictionary with the keys as the param names to optimize and values as the optimal values from the input lists\n",
        "    '''\n",
        "    # YOUR CODE HERE\n",
        "    params = {'min_samples_leaf': minsamples_list,\n",
        "          'max_features': max_feats_list,'max_samples':max_samples_list}\n",
        "\n",
        "    model = RandomForestClassifier()\n",
        "    grid_search = GridSearchCV(model,params,cv=3, scoring='accuracy')\n",
        "    grid_search.fit(X_train,y_train)\n",
        "    best_params = grid_search.best_params_\n",
        "\n",
        "    return best_params\n",
        "\n",
        "    raise NotImplementedError()"
      ]
    },
    {
      "cell_type": "code",
      "execution_count": 144,
      "id": "f2e97926",
      "metadata": {
        "deletable": false,
        "editable": false,
        "nbgrader": {
          "cell_type": "code",
          "checksum": "b906f512037453f0de7663cc577b50de",
          "grade": true,
          "grade_id": "cell-8b964639b7f07212",
          "locked": true,
          "points": 10,
          "schema_version": 3,
          "solution": false,
          "task": false
        },
        "id": "f2e97926",
        "colab": {
          "base_uri": "https://localhost:8080/"
        },
        "outputId": "a7fa9044-61be-4dfa-e611-f2fcb402aa94"
      },
      "outputs": [
        {
          "output_type": "stream",
          "name": "stdout",
          "text": [
            "Your function found the following optimal parameters:\n",
            "{'max_features': 0.1, 'max_samples': None, 'min_samples_leaf': 1}\n",
            "Test set accuracy is 0.969\n"
          ]
        }
      ],
      "source": [
        "# Test cell for digits_optimal_rf()\n",
        "minsamples_list = [1,3,10]\n",
        "max_feats_list = [0.1,0.5,1.]\n",
        "max_samples_list = [0.5,None]\n",
        "\n",
        "bestparams = digits_optimal_rf(X_train,y_train,minsamples_list,max_feats_list,max_samples_list)\n",
        "print('Your function found the following optimal parameters:')\n",
        "print(bestparams)\n",
        "\n",
        "# Instantiate new model using best parameters and evaluate\n",
        "opt_model = RandomForestClassifier(**bestparams)\n",
        "opt_model.fit(X_train,y_train)\n",
        "test_preds = opt_model.predict(X_test)\n",
        "test_acc = np.sum(test_preds==y_test)/len(y_test)\n",
        "print('Test set accuracy is {:.3f}'.format(test_acc))\n",
        "\n",
        "for i in ['min_samples_leaf','max_features','max_samples']:\n",
        "    assert i in bestparams.keys()\n",
        "    "
      ]
    },
    {
      "cell_type": "markdown",
      "id": "f9c23ad1",
      "metadata": {
        "deletable": false,
        "editable": false,
        "nbgrader": {
          "cell_type": "markdown",
          "checksum": "d56527ee3d0ee2d2a8129b098fa1da69",
          "grade": false,
          "grade_id": "cell-c4867d6e2e622df4",
          "locked": true,
          "schema_version": 3,
          "solution": false,
          "task": false
        },
        "id": "f9c23ad1"
      },
      "source": [
        "### Q3.4 [5 points]\n",
        "Let's also try an AdaBoost model on this problem to see if we can improve upon our Random Forest performance.  Complete the below function `digits_adaboost()` which takes the training and test sets as input and a model object to use as the base estimator for the AdaBoost.  Your model should train an AdaBoost model on the training data (use `random_state=0` and the input `model` for the base_estimator).  You should then calculate the accuracy of the model's predictions on the test set and return it."
      ]
    },
    {
      "cell_type": "code",
      "execution_count": 145,
      "id": "91303f01",
      "metadata": {
        "deletable": false,
        "nbgrader": {
          "cell_type": "code",
          "checksum": "03f694c83480246ab4f8d5cbf95c116b",
          "grade": false,
          "grade_id": "cell-fd2c13d4a1fadeac",
          "locked": false,
          "schema_version": 3,
          "solution": true,
          "task": false
        },
        "id": "91303f01"
      },
      "outputs": [],
      "source": [
        "def digits_adaboost(model,X_train,X_test,y_train,y_test):\n",
        "    '''\n",
        "    Trains an AdaBoost model using the provided base estimator and calculates the accuracy on the test set\n",
        "\n",
        "    Inputs:\n",
        "        model(sklearn.BaseEstimator): instantiated scikit-learn model to use as AdaBoost base estimator\n",
        "        X_train(np.array): training set inputs (arrays of pixel values)\n",
        "        X_test(np.array): test set inputs\n",
        "        y_train(np.array): training set target labels\n",
        "        y_test(np.array): test set target labels\n",
        "\n",
        "    Returns:\n",
        "        test_acc(float): accuracy on the test set\n",
        "        \n",
        "    '''\n",
        "    # YOUR CODE HERE\n",
        "    ada_model=AdaBoostClassifier(base_estimator = model, random_state=0)\n",
        "    ada_model.fit(X_train, y_train)\n",
        "    y_test_preds = ada_model.predict(X_test)\n",
        "    test_acc = np.sum(y_test_preds==y_test)/len(y_test)\n",
        "    print('Test set accuracy is {:.3f}'.format(test_acc))\n",
        "\n",
        "    return test_acc\n",
        "\n",
        "    raise NotImplementedError()"
      ]
    },
    {
      "cell_type": "code",
      "execution_count": 146,
      "id": "258ec4ff",
      "metadata": {
        "deletable": false,
        "editable": false,
        "nbgrader": {
          "cell_type": "code",
          "checksum": "d870a0aaa86fff353a492afb1b7d782d",
          "grade": true,
          "grade_id": "cell-2b905cb1fc196575",
          "locked": true,
          "points": 5,
          "schema_version": 3,
          "solution": false,
          "task": false
        },
        "id": "258ec4ff",
        "colab": {
          "base_uri": "https://localhost:8080/"
        },
        "outputId": "d2963e00-6493-4d91-efe4-d89605af5470"
      },
      "outputs": [
        {
          "output_type": "stream",
          "name": "stdout",
          "text": [
            "Test set accuracy is 0.242\n",
            "With the default base estimator of a DecisionTree of max_depth=1, the test set accuracy is: 0.242\n",
            "\n",
            "Test set accuracy is 0.933\n",
            "With a Logistic Regression base estimator, the test set accuracy is: 0.933\n"
          ]
        }
      ],
      "source": [
        "estimator = None\n",
        "acc = digits_adaboost(estimator,X_train,X_test,y_train,y_test)\n",
        "print('With the default base estimator of a DecisionTree of max_depth=1, the test set accuracy is: {:.3f}'.format(acc))\n",
        "print()\n",
        "\n",
        "from sklearn.linear_model import LogisticRegression\n",
        "estimator2 = LogisticRegression()\n",
        "acc2 = digits_adaboost(estimator2,X_train,X_test,y_train,y_test)\n",
        "print('With a Logistic Regression base estimator, the test set accuracy is: {:.3f}'.format(acc2))\n"
      ]
    },
    {
      "cell_type": "markdown",
      "id": "66a1c8c9",
      "metadata": {
        "deletable": false,
        "editable": false,
        "nbgrader": {
          "cell_type": "markdown",
          "checksum": "f98490a58b4aba84c3b727f17baab1d1",
          "grade": false,
          "grade_id": "cell-246f979667ad1c40",
          "locked": true,
          "schema_version": 3,
          "solution": false,
          "task": false
        },
        "id": "66a1c8c9"
      },
      "source": [
        "Notice how much different the performance of AdaBoost is using the LogisticRegression algorithm as the base estimator versus the default estimator which is a single-layer decision tree.  Think for a moment about why that is...\n",
        "\n",
        "The reason is that a one-layer decision tree can use only a single feature to split the data (since it only has one node).  For images with a large number of features, trying to classify them using only a single pixel value will likely be unsuccessful, as we see here.  On the other hand, a Logistic Regression algorithm uses all available pixels, so it does a much better job on this problem with a large number of features."
      ]
    },
    {
      "cell_type": "markdown",
      "id": "18eeb3d4",
      "metadata": {
        "deletable": false,
        "editable": false,
        "nbgrader": {
          "cell_type": "markdown",
          "checksum": "2011d8b81d932a9606cfc80782b328f3",
          "grade": false,
          "grade_id": "cell-fc36b299d4f446a4",
          "locked": true,
          "schema_version": 3,
          "solution": false,
          "task": false
        },
        "id": "18eeb3d4"
      },
      "source": [
        "# Question 4 [20 points]\n",
        "For this question we are going to use a dataset containing data on 178 Italian wines.  We have 13 numerical features describing each wine such as concentration of alcohol or malic acid.  Our objective is to see if we can organize these wines using natural patterns in their characteristics via clustering.  We will then compare our clustering groups to labels provided which indicate the origin of each wine, and see how well our clustering was able to group wines by origin."
      ]
    },
    {
      "cell_type": "code",
      "execution_count": 147,
      "id": "53a32500",
      "metadata": {
        "deletable": false,
        "editable": false,
        "nbgrader": {
          "cell_type": "code",
          "checksum": "cb8e71d7f7552366115695eead3ea729",
          "grade": false,
          "grade_id": "cell-a970b012e576f8fc",
          "locked": true,
          "schema_version": 3,
          "solution": false,
          "task": false
        },
        "id": "53a32500",
        "colab": {
          "base_uri": "https://localhost:8080/",
          "height": 268
        },
        "outputId": "24c816e8-bad1-4976-b3a0-3d7974eb50e2"
      },
      "outputs": [
        {
          "output_type": "display_data",
          "data": {
            "text/plain": [
              "   alcohol  malic_acid   ash  alcalinity_of_ash  magnesium  total_phenols  \\\n",
              "0    14.23        1.71  2.43               15.6      127.0           2.80   \n",
              "1    13.20        1.78  2.14               11.2      100.0           2.65   \n",
              "2    13.16        2.36  2.67               18.6      101.0           2.80   \n",
              "3    14.37        1.95  2.50               16.8      113.0           3.85   \n",
              "4    13.24        2.59  2.87               21.0      118.0           2.80   \n",
              "\n",
              "   flavanoids  nonflavanoid_phenols  proanthocyanins  color_intensity   hue  \\\n",
              "0        3.06                  0.28             2.29             5.64  1.04   \n",
              "1        2.76                  0.26             1.28             4.38  1.05   \n",
              "2        3.24                  0.30             2.81             5.68  1.03   \n",
              "3        3.49                  0.24             2.18             7.80  0.86   \n",
              "4        2.69                  0.39             1.82             4.32  1.04   \n",
              "\n",
              "   od280/od315_of_diluted_wines  proline  \n",
              "0                          3.92   1065.0  \n",
              "1                          3.40   1050.0  \n",
              "2                          3.17   1185.0  \n",
              "3                          3.45   1480.0  \n",
              "4                          2.93    735.0  "
            ],
            "text/html": [
              "\n",
              "  <div id=\"df-4b9c96a9-0e7b-45ea-b44f-cde3477cb330\">\n",
              "    <div class=\"colab-df-container\">\n",
              "      <div>\n",
              "<style scoped>\n",
              "    .dataframe tbody tr th:only-of-type {\n",
              "        vertical-align: middle;\n",
              "    }\n",
              "\n",
              "    .dataframe tbody tr th {\n",
              "        vertical-align: top;\n",
              "    }\n",
              "\n",
              "    .dataframe thead th {\n",
              "        text-align: right;\n",
              "    }\n",
              "</style>\n",
              "<table border=\"1\" class=\"dataframe\">\n",
              "  <thead>\n",
              "    <tr style=\"text-align: right;\">\n",
              "      <th></th>\n",
              "      <th>alcohol</th>\n",
              "      <th>malic_acid</th>\n",
              "      <th>ash</th>\n",
              "      <th>alcalinity_of_ash</th>\n",
              "      <th>magnesium</th>\n",
              "      <th>total_phenols</th>\n",
              "      <th>flavanoids</th>\n",
              "      <th>nonflavanoid_phenols</th>\n",
              "      <th>proanthocyanins</th>\n",
              "      <th>color_intensity</th>\n",
              "      <th>hue</th>\n",
              "      <th>od280/od315_of_diluted_wines</th>\n",
              "      <th>proline</th>\n",
              "    </tr>\n",
              "  </thead>\n",
              "  <tbody>\n",
              "    <tr>\n",
              "      <th>0</th>\n",
              "      <td>14.23</td>\n",
              "      <td>1.71</td>\n",
              "      <td>2.43</td>\n",
              "      <td>15.6</td>\n",
              "      <td>127.0</td>\n",
              "      <td>2.80</td>\n",
              "      <td>3.06</td>\n",
              "      <td>0.28</td>\n",
              "      <td>2.29</td>\n",
              "      <td>5.64</td>\n",
              "      <td>1.04</td>\n",
              "      <td>3.92</td>\n",
              "      <td>1065.0</td>\n",
              "    </tr>\n",
              "    <tr>\n",
              "      <th>1</th>\n",
              "      <td>13.20</td>\n",
              "      <td>1.78</td>\n",
              "      <td>2.14</td>\n",
              "      <td>11.2</td>\n",
              "      <td>100.0</td>\n",
              "      <td>2.65</td>\n",
              "      <td>2.76</td>\n",
              "      <td>0.26</td>\n",
              "      <td>1.28</td>\n",
              "      <td>4.38</td>\n",
              "      <td>1.05</td>\n",
              "      <td>3.40</td>\n",
              "      <td>1050.0</td>\n",
              "    </tr>\n",
              "    <tr>\n",
              "      <th>2</th>\n",
              "      <td>13.16</td>\n",
              "      <td>2.36</td>\n",
              "      <td>2.67</td>\n",
              "      <td>18.6</td>\n",
              "      <td>101.0</td>\n",
              "      <td>2.80</td>\n",
              "      <td>3.24</td>\n",
              "      <td>0.30</td>\n",
              "      <td>2.81</td>\n",
              "      <td>5.68</td>\n",
              "      <td>1.03</td>\n",
              "      <td>3.17</td>\n",
              "      <td>1185.0</td>\n",
              "    </tr>\n",
              "    <tr>\n",
              "      <th>3</th>\n",
              "      <td>14.37</td>\n",
              "      <td>1.95</td>\n",
              "      <td>2.50</td>\n",
              "      <td>16.8</td>\n",
              "      <td>113.0</td>\n",
              "      <td>3.85</td>\n",
              "      <td>3.49</td>\n",
              "      <td>0.24</td>\n",
              "      <td>2.18</td>\n",
              "      <td>7.80</td>\n",
              "      <td>0.86</td>\n",
              "      <td>3.45</td>\n",
              "      <td>1480.0</td>\n",
              "    </tr>\n",
              "    <tr>\n",
              "      <th>4</th>\n",
              "      <td>13.24</td>\n",
              "      <td>2.59</td>\n",
              "      <td>2.87</td>\n",
              "      <td>21.0</td>\n",
              "      <td>118.0</td>\n",
              "      <td>2.80</td>\n",
              "      <td>2.69</td>\n",
              "      <td>0.39</td>\n",
              "      <td>1.82</td>\n",
              "      <td>4.32</td>\n",
              "      <td>1.04</td>\n",
              "      <td>2.93</td>\n",
              "      <td>735.0</td>\n",
              "    </tr>\n",
              "  </tbody>\n",
              "</table>\n",
              "</div>\n",
              "      <button class=\"colab-df-convert\" onclick=\"convertToInteractive('df-4b9c96a9-0e7b-45ea-b44f-cde3477cb330')\"\n",
              "              title=\"Convert this dataframe to an interactive table.\"\n",
              "              style=\"display:none;\">\n",
              "        \n",
              "  <svg xmlns=\"http://www.w3.org/2000/svg\" height=\"24px\"viewBox=\"0 0 24 24\"\n",
              "       width=\"24px\">\n",
              "    <path d=\"M0 0h24v24H0V0z\" fill=\"none\"/>\n",
              "    <path d=\"M18.56 5.44l.94 2.06.94-2.06 2.06-.94-2.06-.94-.94-2.06-.94 2.06-2.06.94zm-11 1L8.5 8.5l.94-2.06 2.06-.94-2.06-.94L8.5 2.5l-.94 2.06-2.06.94zm10 10l.94 2.06.94-2.06 2.06-.94-2.06-.94-.94-2.06-.94 2.06-2.06.94z\"/><path d=\"M17.41 7.96l-1.37-1.37c-.4-.4-.92-.59-1.43-.59-.52 0-1.04.2-1.43.59L10.3 9.45l-7.72 7.72c-.78.78-.78 2.05 0 2.83L4 21.41c.39.39.9.59 1.41.59.51 0 1.02-.2 1.41-.59l7.78-7.78 2.81-2.81c.8-.78.8-2.07 0-2.86zM5.41 20L4 18.59l7.72-7.72 1.47 1.35L5.41 20z\"/>\n",
              "  </svg>\n",
              "      </button>\n",
              "      \n",
              "  <style>\n",
              "    .colab-df-container {\n",
              "      display:flex;\n",
              "      flex-wrap:wrap;\n",
              "      gap: 12px;\n",
              "    }\n",
              "\n",
              "    .colab-df-convert {\n",
              "      background-color: #E8F0FE;\n",
              "      border: none;\n",
              "      border-radius: 50%;\n",
              "      cursor: pointer;\n",
              "      display: none;\n",
              "      fill: #1967D2;\n",
              "      height: 32px;\n",
              "      padding: 0 0 0 0;\n",
              "      width: 32px;\n",
              "    }\n",
              "\n",
              "    .colab-df-convert:hover {\n",
              "      background-color: #E2EBFA;\n",
              "      box-shadow: 0px 1px 2px rgba(60, 64, 67, 0.3), 0px 1px 3px 1px rgba(60, 64, 67, 0.15);\n",
              "      fill: #174EA6;\n",
              "    }\n",
              "\n",
              "    [theme=dark] .colab-df-convert {\n",
              "      background-color: #3B4455;\n",
              "      fill: #D2E3FC;\n",
              "    }\n",
              "\n",
              "    [theme=dark] .colab-df-convert:hover {\n",
              "      background-color: #434B5C;\n",
              "      box-shadow: 0px 1px 3px 1px rgba(0, 0, 0, 0.15);\n",
              "      filter: drop-shadow(0px 1px 2px rgba(0, 0, 0, 0.3));\n",
              "      fill: #FFFFFF;\n",
              "    }\n",
              "  </style>\n",
              "\n",
              "      <script>\n",
              "        const buttonEl =\n",
              "          document.querySelector('#df-4b9c96a9-0e7b-45ea-b44f-cde3477cb330 button.colab-df-convert');\n",
              "        buttonEl.style.display =\n",
              "          google.colab.kernel.accessAllowed ? 'block' : 'none';\n",
              "\n",
              "        async function convertToInteractive(key) {\n",
              "          const element = document.querySelector('#df-4b9c96a9-0e7b-45ea-b44f-cde3477cb330');\n",
              "          const dataTable =\n",
              "            await google.colab.kernel.invokeFunction('convertToInteractive',\n",
              "                                                     [key], {});\n",
              "          if (!dataTable) return;\n",
              "\n",
              "          const docLinkHtml = 'Like what you see? Visit the ' +\n",
              "            '<a target=\"_blank\" href=https://colab.research.google.com/notebooks/data_table.ipynb>data table notebook</a>'\n",
              "            + ' to learn more about interactive tables.';\n",
              "          element.innerHTML = '';\n",
              "          dataTable['output_type'] = 'display_data';\n",
              "          await google.colab.output.renderOutput(dataTable, element);\n",
              "          const docLink = document.createElement('div');\n",
              "          docLink.innerHTML = docLinkHtml;\n",
              "          element.appendChild(docLink);\n",
              "        }\n",
              "      </script>\n",
              "    </div>\n",
              "  </div>\n",
              "  "
            ]
          },
          "metadata": {}
        }
      ],
      "source": [
        "# Load the data and labels and display the head\n",
        "from sklearn.datasets import load_wine\n",
        "winedata = load_wine()\n",
        "X = pd.DataFrame(winedata.data, columns=winedata.feature_names)\n",
        "y = np.array(winedata.target)\n",
        "\n",
        "display(X.head())\n",
        "\n",
        "# Let's scale the inputs since we have features with very different magnitudes\n",
        "from sklearn.preprocessing import StandardScaler\n",
        "scaler = StandardScaler()\n",
        "X_scaled = scaler.fit_transform(X)"
      ]
    },
    {
      "cell_type": "markdown",
      "id": "e31d23d6",
      "metadata": {
        "deletable": false,
        "editable": false,
        "nbgrader": {
          "cell_type": "markdown",
          "checksum": "94b4a32dbc07b1daafc639af53ede81d",
          "grade": false,
          "grade_id": "cell-7ca841586e2936b0",
          "locked": true,
          "schema_version": 3,
          "solution": false,
          "task": false
        },
        "id": "e31d23d6"
      },
      "source": [
        "### Q4.1 [10 points]\n",
        "Now that our data is prepared we are ready to perform clustering on it.  Complete the below function `build_clusters()`.  The function takes as input the feature data X and the number of clusters to form.  Your function should perform K-Means clustering on the data and assign cluster labels to each wine in the dataset, using Euclidean distance as the distance metric).  \n",
        "\n",
        "For this problem you CAN NOT use the K-Means algorithm from scikit-learn, you must write the clustering algorithm yourself.  I have provided some starter code which initializes the n_clusters cluster centers to random points.  Your function should return a list of the cluster assignments for each wine in the dataset.\n",
        "\n",
        "After you have completed your clustering, run the test cell below to display your clusters on two axes using PCA.  If done properly, you should see clearly defined clusters in your data.\n",
        "\n",
        "Note: for this question you can use any packages which are imported for you at top (scikit-learn KMeans is not imported), but you may NOT import any additional packages."
      ]
    },
    {
      "cell_type": "code",
      "execution_count": 194,
      "id": "266e2e26",
      "metadata": {
        "deletable": false,
        "nbgrader": {
          "cell_type": "code",
          "checksum": "2123df2e94589c5b97b5282f33987770",
          "grade": false,
          "grade_id": "cell-aa0cef1644caec03",
          "locked": false,
          "schema_version": 3,
          "solution": true,
          "task": false
        },
        "id": "266e2e26"
      },
      "outputs": [],
      "source": [
        "def build_clusters(X, n_clusters):\n",
        "    '''\n",
        "    Performs K-Means clustering on the data \n",
        "\n",
        "    Inputs:\n",
        "        X(np.array): array containing the data to cluster\n",
        "        n_clusters(int): desired number of clusters\n",
        "\n",
        "    Returns:\n",
        "        labels(list): list of cluster assignments for each observation\n",
        "    '''\n",
        "    \n",
        "    # Randomly choose n_clusters initial cluster centers from among the X points\n",
        "    rand_generator = np.random.RandomState(0)\n",
        "    i = rand_generator.permutation(X.shape[0])[:n_clusters]\n",
        "    centers = X[i]\n",
        "    \n",
        "    # YOUR CODE HERE\n",
        "    \n",
        "    labels = []\n",
        "\n",
        "    def euclid_distance(point1, data):\n",
        "      euc_distances =  np.sqrt(np.sum((point1 - data)**2, axis=1))\n",
        "    \n",
        "      #print(f'calculated euclidian distances are {euc_distance}')\n",
        "      return euc_distances\n",
        "\n",
        "    def get_assignments(point1, centerpoints):\n",
        "      #distances = []\n",
        "      #for point in centerpoints:\n",
        "      #  distance = euclid_distance(point, point1)\n",
        "      #distances.append(distance)\n",
        "      distances = euclid_distance(point1, centerpoints)\n",
        "      closest = np.argmin(distances)\n",
        "      print(f'closest centroid to point1 is {closest}')\n",
        "      return closest\n",
        "\n",
        "    prev_centers = None\n",
        "\n",
        "    \n",
        "    while np.not_equal(centers, prev_centers).any():\n",
        "      labels = []\n",
        "      clusters = [[] for i in range(n_clusters)]\n",
        "      #print(len(clusters))\n",
        "      for x in X:\n",
        "        distances = euclid_distance(x, centers)\n",
        "        #print(f'distances shape is {distances.shape}')\n",
        "        label = np.argmin(distances)\n",
        "        clusters[label].append(x)\n",
        "        #print(f'center_idx is {center_idx}')\n",
        "        labels.append(label)\n",
        "        #print(f' number of labels is {len(labels)}')\n",
        "        \n",
        "\n",
        "      #print(f'labels {labels}')\n",
        "      prev_centers = centers\n",
        "      centers = [np.mean(cluster, axis=0) for cluster in clusters]\n",
        "      for i, center in enumerate(centers):\n",
        "        if np.isnan(center).any():  \n",
        "            centers[i] = prev_centers[i]\n",
        "\n",
        "\n",
        "    return labels\n",
        "\n",
        "    raise NotImplementedError()"
      ]
    },
    {
      "cell_type": "code",
      "source": [],
      "metadata": {
        "id": "mFTm_OH159yx"
      },
      "id": "mFTm_OH159yx",
      "execution_count": 194,
      "outputs": []
    },
    {
      "cell_type": "code",
      "execution_count": 195,
      "id": "cfd093b5",
      "metadata": {
        "deletable": false,
        "editable": false,
        "nbgrader": {
          "cell_type": "code",
          "checksum": "8b05fac96b5383d7ba0a9fec4f965571",
          "grade": true,
          "grade_id": "cell-29a536ac328bbe0b",
          "locked": true,
          "points": 10,
          "schema_version": 3,
          "solution": false,
          "task": false
        },
        "id": "cfd093b5",
        "colab": {
          "base_uri": "https://localhost:8080/",
          "height": 513
        },
        "outputId": "bd98f1dd-8085-4672-c60c-5767f55a4b25"
      },
      "outputs": [
        {
          "output_type": "display_data",
          "data": {
            "text/plain": [
              "<Figure size 720x576 with 1 Axes>"
            ],
            "image/png": "[encoded data removed]"
          },
          "metadata": {
            "needs_background": "light"
          }
        }
      ],
      "source": [
        "# Test cell for build_clusters()\n",
        "cluster_labels = build_clusters(X_scaled,3)\n",
        "assert len(cluster_labels) == len(X_scaled)\n",
        "\n",
        "# Use PCA to reduce dimensions/features to 2 for visualization\n",
        "pca = PCA(2)  \n",
        "pca.fit(X_scaled)\n",
        "# Transform data to PCA dimensions\n",
        "transformed = pca.transform(X_scaled)\n",
        "# Plot the transformed data on the two principal dimensions.  Color points by cluster label\n",
        "fig = plt.figure(figsize=(10,8))\n",
        "plt.scatter(transformed[:, 0], transformed[:, 1],c=cluster_labels, s=50)\n",
        "plt.xlabel('Principal component 1')\n",
        "plt.ylabel('Principal component 2')\n",
        "plt.title('Clustered wines')\n",
        "plt.show()\n"
      ]
    },
    {
      "cell_type": "markdown",
      "id": "d0536b0a",
      "metadata": {
        "deletable": false,
        "editable": false,
        "nbgrader": {
          "cell_type": "markdown",
          "checksum": "e1a1c6a7e16aafaf5a2209dc6b645c08",
          "grade": false,
          "grade_id": "cell-2ee1fbf90476833b",
          "locked": true,
          "schema_version": 3,
          "solution": false,
          "task": false
        },
        "id": "d0536b0a"
      },
      "source": [
        "### Q4.2 [5 points]\n",
        "Now that we have clustered our data, let's evaluate the quality of clustering using metrics.  Complete the below function `calc_cluster_metrics()` which takes as inputs the dataset, the \"ground truth\" labels `y`, and the cluster labels from your clustering.  The function should calculate and return the silhouette score and the adjusted Rand Index of your clusters."
      ]
    },
    {
      "cell_type": "code",
      "execution_count": 198,
      "id": "2491aba1",
      "metadata": {
        "deletable": false,
        "nbgrader": {
          "cell_type": "code",
          "checksum": "ec838d450861d171a113fedf10e337ea",
          "grade": false,
          "grade_id": "cell-e719485e10896d15",
          "locked": false,
          "schema_version": 3,
          "solution": true,
          "task": false
        },
        "id": "2491aba1"
      },
      "outputs": [],
      "source": [
        "def calc_cluster_metrics(X,y,cluster_labels):\n",
        "    '''\n",
        "    Calculates the silhouette score and adjusted Rand Index for cluster assignments\n",
        "\n",
        "    Inputs:\n",
        "        X(np.array): array of data to cluster\n",
        "        y(np.array): ground truth class labels\n",
        "        cluster_labels(list): list of cluster assignments for each observations\n",
        "    '''\n",
        "    # YOUR CODE HERE\n",
        "\n",
        "    sil = silhouette_score(X, cluster_labels, metric='euclidean')\n",
        "    rand = adjusted_rand_score(y, cluster_labels)\n",
        "\n",
        "    return sil, rand\n",
        "\n",
        "    raise NotImplementedError()"
      ]
    },
    {
      "cell_type": "code",
      "execution_count": 199,
      "id": "0cf74d27",
      "metadata": {
        "deletable": false,
        "editable": false,
        "nbgrader": {
          "cell_type": "code",
          "checksum": "182417e17296f53ac367869c253e6595",
          "grade": true,
          "grade_id": "cell-b35cb961eecf24f0",
          "locked": true,
          "points": 5,
          "schema_version": 3,
          "solution": false,
          "task": false
        },
        "id": "0cf74d27",
        "colab": {
          "base_uri": "https://localhost:8080/"
        },
        "outputId": "ebb5ce3d-2723-42a0-f7ff-f5333629609c"
      },
      "outputs": [
        {
          "output_type": "stream",
          "name": "stdout",
          "text": [
            "Silhouette score of the clustering is 0.284\n",
            "Adjusted Rand Index of the clustering is 0.880\n"
          ]
        }
      ],
      "source": [
        "sil,rand = calc_cluster_metrics(X_scaled,y,cluster_labels)\n",
        "print('Silhouette score of the clustering is {:.3f}'.format(sil))\n",
        "print('Adjusted Rand Index of the clustering is {:.3f}'.format(rand))\n"
      ]
    },
    {
      "cell_type": "markdown",
      "id": "8f157b10",
      "metadata": {
        "deletable": false,
        "editable": false,
        "nbgrader": {
          "cell_type": "markdown",
          "checksum": "efaa923dd2e7a45fa315e011ecef678d",
          "grade": false,
          "grade_id": "cell-217a77440091644a",
          "locked": true,
          "schema_version": 3,
          "solution": false,
          "task": false
        },
        "id": "8f157b10"
      },
      "source": [
        "### Q4.3 [5 points]\n",
        "Let's also try clustering our wines using Agglomerative Clustering.  Complete the below function `agglom_cluster()` which takes as inputs the dataset, the desired number of clusters and the \"ground truth\" labels `y`.  Your function should cluster the data using Agglomerative Clustering (use 'ward' linkage).  You should then calculate and return the Adjusted Rand Score of your clustering."
      ]
    },
    {
      "cell_type": "code",
      "execution_count": null,
      "id": "6c827d26",
      "metadata": {
        "deletable": false,
        "nbgrader": {
          "cell_type": "code",
          "checksum": "d107c6299023052145ed22ef7ba6269f",
          "grade": false,
          "grade_id": "cell-f9bd2c438696e074",
          "locked": false,
          "schema_version": 3,
          "solution": true,
          "task": false
        },
        "id": "6c827d26"
      },
      "outputs": [],
      "source": [
        "def agglom_cluster(X,n_clusters,y):\n",
        "    '''\n",
        "    Cluster the data using Agglomerative Hierarchical Clustering and calculates the Adjusted Rand Index of the cluster assignments\n",
        "\n",
        "    Inputs:\n",
        "        X(np.array): array of data to cluster\n",
        "        n_clusters(int): desired number of clusters\n",
        "        y(np.array): ground truth class labels\n",
        "\n",
        "    Returns:\n",
        "        rand_scr(float): adjusted Rand Index of the cluster assignments\n",
        "    '''\n",
        "    \n",
        "    # YOUR CODE HERE\n",
        "    agg_clustering = AgglomerativeClustering.fit()\n",
        "    agg_clustering\n",
        "\n",
        "    raise NotImplementedError()"
      ]
    },
    {
      "cell_type": "code",
      "execution_count": null,
      "id": "186ad9f3",
      "metadata": {
        "deletable": false,
        "editable": false,
        "nbgrader": {
          "cell_type": "code",
          "checksum": "22c35c535e37fe63f8a3fd14ae706cf6",
          "grade": true,
          "grade_id": "cell-6f140fd65c7cfd7e",
          "locked": true,
          "points": 5,
          "schema_version": 3,
          "solution": false,
          "task": false
        },
        "id": "186ad9f3"
      },
      "outputs": [],
      "source": [
        "rand2 = agglom_cluster(X_scaled,3,y)\n",
        "print('Adjusted Rand Index of the agglomerative clustering is {:.3f}'.format(rand2))\n"
      ]
    }
  ],
  "metadata": {
    "kernelspec": {
      "display_name": "Python 3 (ipykernel)",
      "language": "python",
      "name": "python3"
    },
    "language_info": {
      "codemirror_mode": {
        "name": "ipython",
        "version": 3
      },
      "file_extension": ".py",
      "mimetype": "text/x-python",
      "name": "python",
      "nbconvert_exporter": "python",
      "pygments_lexer": "ipython3",
      "version": "3.7.10"
    },
    "vscode": {
      "interpreter": {
        "hash": "88aecd44009b429cb95b0f3af91f16f854a1ae37bbe5e3af418920878dcaa6d8"
      }
    },
    "colab": {
      "provenance": [],
      "include_colab_link": true
    }
  },
  "nbformat": 4,
  "nbformat_minor": 5
}