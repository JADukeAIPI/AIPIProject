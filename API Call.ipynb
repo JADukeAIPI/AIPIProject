{
 "cells": [
  {
   "cell_type": "markdown",
   "metadata": {},
   "source": [
    "AIPI 510 PROJECT"
   ]
  },
  {
   "cell_type": "code",
   "execution_count": 88,
   "metadata": {},
   "outputs": [],
   "source": [
    "from bs4 import BeautifulSoup\n",
    "import pandas as pd\n",
    "import numpy as np\n",
    "import requests\n",
    "import matplotlib.pyplot as plt"
   ]
  },
  {
   "cell_type": "markdown",
   "metadata": {},
   "source": [
    "Getting Booking.com Rental Car API:\n"
   ]
  },
  {
   "cell_type": "code",
   "execution_count": 89,
   "metadata": {},
   "outputs": [],
   "source": [
    "import requests\n",
    "\n",
    "url = \"https://booking-com.p.rapidapi.com/v1/car-rental/search\"\n",
    "\n",
    "querystring = {\"drop_off_longitude\":\"-84.419853\",\"currency\":\"USD\",\"sort_by\":\"recommended\",\"drop_off_datetime\":\"2023-01-03 19:00:00\",\"drop_off_latitude\":\"33.640411\",\"from_country\":\"it\",\"pick_up_longitude\":\"-84.419853\",\"locale\":\"en-gb\",\"pick_up_datetime\":\"2023-01-01 19:00:00\",\"pick_up_latitude\":\"33.640411\"}\n",
    "\n",
    "headers = {\n",
    "\t\"X-RapidAPI-Key\": \"8bbb18c5b5mshcb2649ca8814f86p1d30a3jsn5a338ac42c22\",\n",
    "\t\"X-RapidAPI-Host\": \"booking-com.p.rapidapi.com\"\n",
    "}\n",
    "\n",
    "response = requests.request(\"GET\", url, headers=headers, params=querystring)\n",
    "results = response.json()\n",
    "#df = pd.DataFrame.from_dict(results, orient=\"index\")\n",
    "#print(results)\n",
    "print(results)"
   ]
  }
 ],
 "metadata": {
  "kernelspec": {
   "display_name": "Python 3.9.7 ('base')",
   "language": "python",
   "name": "python3"
  },
  "language_info": {
   "codemirror_mode": {
    "name": "ipython",
    "version": 3
   },
   "file_extension": ".py",
   "mimetype": "text/x-python",
   "name": "python",
   "nbconvert_exporter": "python",
   "pygments_lexer": "ipython3",
   "version": "3.9.7"
  },
  "orig_nbformat": 4,
  "vscode": {
   "interpreter": {
    "hash": "9dd1b7c3579aa78dba9c9fdc2ad57061e27604eb4bf839312a4969b1cdaf9bba"
   }
  }
 },
 "nbformat": 4,
 "nbformat_minor": 2
}
