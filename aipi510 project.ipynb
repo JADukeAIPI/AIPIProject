{
 "cells": [
  {
   "cell_type": "markdown",
   "metadata": {},
   "source": [
    "AIPI 510 PROJECT\n",
    "CINDY CHANG"
   ]
  },
  {
   "cell_type": "code",
   "execution_count": 7,
   "metadata": {},
   "outputs": [],
   "source": [
    "from bs4 import BeautifulSoup\n",
    "import pandas as pd\n",
    "import numpy as np\n",
    "import requests\n",
    "import matplotlib.pyplot as plt"
   ]
  },
  {
   "cell_type": "markdown",
   "metadata": {},
   "source": [
    "Getting AVIS Rental Car API:\n",
    "Client ID: 180ab12c\n",
    "Client Secret: 7eab40d14a709e6b91ea6806771ed0e6\n"
   ]
  },
  {
   "cell_type": "code",
   "execution_count": 8,
   "metadata": {},
   "outputs": [],
   "source": [
    "def apicall():\n",
    "    import requests\n",
    "\n",
    "    headers = {\n",
    "    'client_id': '180ab12c',\n",
    "    'client_secret': '7eab40d14a709e6b91ea6806771ed0e6',\n",
    "}\n",
    "\n",
    "    response = requests.get('https://stage.abgapiservices.com/oauth/token/v1', headers=headers)\n",
    "    results = response.json()\n",
    "    return results"
   ]
  },
  {
   "cell_type": "code",
   "execution_count": 9,
   "metadata": {},
   "outputs": [
    {
     "name": "stdout",
     "output_type": "stream",
     "text": [
      "{'access_token': 'eyJhbGciOiJSUzI1NiIsInR5cCIgOiAiSldUIiwia2lkIiA6ICJwem5vRHdsYlNUcmFwM2FTQzdSUUl3anpzb2NJWGlaTUQ2cUxBakh5X0NVIn0.eyJqdGkiOiI5MWEyNzZiZC0wNzAxLTQ4NzktYmZkYS01ZTljNWYxZjk1ZTYiLCJleHAiOjE2NjgwNjM2NzUsIm5iZiI6MCwiaWF0IjoxNjY4MDU2NTM1LCJpc3MiOiJodHRwczovL3Nzby1zc28uYXBwcy5hcGktbnAuYWJnYXBpc2VydmljZXMuY29tL2F1dGgvcmVhbG1zLzNzY2FsZS1zdGFnaW5nLWFwaS1vaWRjIiwiYXVkIjoiYWNjb3VudCIsInN1YiI6IjUwMmRmOGQ3LWQ1ODQtNDllZi1iMGI5LWJkODM1Y2I5NDQ3YiIsInR5cCI6IkJlYXJlciIsImF6cCI6IjE4MGFiMTJjIiwiYXV0aF90aW1lIjowLCJzZXNzaW9uX3N0YXRlIjoiNTQ2NDA3ODAtZWEyYy00MTg5LThkNWItZDJiYzRhZTI2YjQ5IiwiYWNyIjoiMSIsInJlYWxtX2FjY2VzcyI6eyJyb2xlcyI6WyJvZmZsaW5lX2FjY2VzcyIsInVtYV9hdXRob3JpemF0aW9uIl19LCJyZXNvdXJjZV9hY2Nlc3MiOnsiYWNjb3VudCI6eyJyb2xlcyI6WyJtYW5hZ2UtYWNjb3VudCIsInZpZXctcHJvZmlsZSJdfX0sInNjb3BlIjoiZW1haWwgcHJvZmlsZSIsImNsaWVudEhvc3QiOiIxOC4xOTEuNzEuMjQ3IiwiZW1haWxfdmVyaWZpZWQiOmZhbHNlLCJjbGllbnRJZCI6IjE4MGFiMTJjIiwicHJlZmVycmVkX3VzZXJuYW1lIjoic2VydmljZS1hY2NvdW50LTE4MGFiMTJjIiwiY2xpZW50QWRkcmVzcyI6IjE4LjE5MS43MS4yNDcifQ.Cyc-3TaVBp2Kg8WeWOcUZnBPM4ocGgVlzmkys8guqNDWv9J5qjKh-eD-aRZQM3xrWleldjIZ-Fzvt0TzK_NWuF2NKRLhIWB1_JwkPv_sUF-R3kP6DzsKaoSvt_xVm82GEKTKIyTHNfVv6Lm2_53zu2UTiN3Cih9yY26Tk1leQnrttS-ItkByu_lAfAifY71ehRMy89zR85CoJMISxmOB8PZA7NBI5CjzBo9aziYuS_i_EFabaGZw98Z8lk6M5abokw5dn289ACTvll9yOC72sTINn_V58LylkMG1PJvPUYaY-eokrUwX1b8_jDdE4eQ_-npy8Q21EOUttSBF2Tcp2Q', 'token_type': 'Bearer', 'expires_in': 7140}\n"
     ]
    }
   ],
   "source": [
    "results = apicall()\n",
    "print(results)\n"
   ]
  },
  {
   "cell_type": "code",
   "execution_count": 10,
   "metadata": {},
   "outputs": [
    {
     "name": "stdout",
     "output_type": "stream",
     "text": [
      "eyJhbGciOiJSUzI1NiIsInR5cCIgOiAiSldUIiwia2lkIiA6ICJwem5vRHdsYlNUcmFwM2FTQzdSUUl3anpzb2NJWGlaTUQ2cUxBakh5X0NVIn0.eyJqdGkiOiI5MWEyNzZiZC0wNzAxLTQ4NzktYmZkYS01ZTljNWYxZjk1ZTYiLCJleHAiOjE2NjgwNjM2NzUsIm5iZiI6MCwiaWF0IjoxNjY4MDU2NTM1LCJpc3MiOiJodHRwczovL3Nzby1zc28uYXBwcy5hcGktbnAuYWJnYXBpc2VydmljZXMuY29tL2F1dGgvcmVhbG1zLzNzY2FsZS1zdGFnaW5nLWFwaS1vaWRjIiwiYXVkIjoiYWNjb3VudCIsInN1YiI6IjUwMmRmOGQ3LWQ1ODQtNDllZi1iMGI5LWJkODM1Y2I5NDQ3YiIsInR5cCI6IkJlYXJlciIsImF6cCI6IjE4MGFiMTJjIiwiYXV0aF90aW1lIjowLCJzZXNzaW9uX3N0YXRlIjoiNTQ2NDA3ODAtZWEyYy00MTg5LThkNWItZDJiYzRhZTI2YjQ5IiwiYWNyIjoiMSIsInJlYWxtX2FjY2VzcyI6eyJyb2xlcyI6WyJvZmZsaW5lX2FjY2VzcyIsInVtYV9hdXRob3JpemF0aW9uIl19LCJyZXNvdXJjZV9hY2Nlc3MiOnsiYWNjb3VudCI6eyJyb2xlcyI6WyJtYW5hZ2UtYWNjb3VudCIsInZpZXctcHJvZmlsZSJdfX0sInNjb3BlIjoiZW1haWwgcHJvZmlsZSIsImNsaWVudEhvc3QiOiIxOC4xOTEuNzEuMjQ3IiwiZW1haWxfdmVyaWZpZWQiOmZhbHNlLCJjbGllbnRJZCI6IjE4MGFiMTJjIiwicHJlZmVycmVkX3VzZXJuYW1lIjoic2VydmljZS1hY2NvdW50LTE4MGFiMTJjIiwiY2xpZW50QWRkcmVzcyI6IjE4LjE5MS43MS4yNDcifQ.Cyc-3TaVBp2Kg8WeWOcUZnBPM4ocGgVlzmkys8guqNDWv9J5qjKh-eD-aRZQM3xrWleldjIZ-Fzvt0TzK_NWuF2NKRLhIWB1_JwkPv_sUF-R3kP6DzsKaoSvt_xVm82GEKTKIyTHNfVv6Lm2_53zu2UTiN3Cih9yY26Tk1leQnrttS-ItkByu_lAfAifY71ehRMy89zR85CoJMISxmOB8PZA7NBI5CjzBo9aziYuS_i_EFabaGZw98Z8lk6M5abokw5dn289ACTvll9yOC72sTINn_V58LylkMG1PJvPUYaY-eokrUwX1b8_jDdE4eQ_-npy8Q21EOUttSBF2Tcp2Q\n"
     ]
    }
   ],
   "source": [
    "token = results.get('access_token')\n",
    "print(token)"
   ]
  },
  {
   "cell_type": "code",
   "execution_count": 11,
   "metadata": {},
   "outputs": [],
   "source": [
    "def getdata(token):\n",
    "    token = token\n",
    "    headers = {\n",
    "    'client_id': '180ab12c',\n",
    "    'Authorization': f'''Bearer {token}''' ## <-- This needed the word Bearer added to the authorization.\n",
    "}\n",
    "\n",
    "    response = requests.get('https://stage.abgapiservices.com/cars/locations/v1?brand=Avis%2CBudget%2CPayless&country_code=US&keyword=Atlanta', headers=headers)\n",
    "    results = response.json()\n",
    "    return results"
   ]
  },
  {
   "cell_type": "code",
   "execution_count": 12,
   "metadata": {},
   "outputs": [
    {
     "name": "stdout",
     "output_type": "stream",
     "text": [
      "{'status': {'request_time': '2022-11-10T05:02:22Z', 'success': [{'code': '200', 'message': 'Success', 'details': 'The locations were retrieved successfully.'}]}, 'transaction': {'transaction_id': 'ac495a60-d7fc-4645-b11b-096441ea2097'}, 'locations': [{'brand': 'Avis', 'code': 'AT1', 'name': 'Atlanta, GA Downtown', 'telephone': '(1) 404-659-4814', 'hours': 'Sun 8:00 AM - 2:00 PM; Mon - Fri 8:00 AM - 6:00 PM; Sat 8:00 AM - 2:00 PM', 'airport_location': False, 'address': {'address_line_1': '143 Courtland Street NE', 'address_line_2': 'NA', 'city': 'Atlanta', 'state_name': 'GA', 'postal_code': '30303', 'country_code': 'US', 'lat': '33.758021', 'long': '-84.383929'}, 'skip_the_queue': False, 'valet_location': False, 'afterhours_return': False}, {'brand': 'Avis', 'code': 'UBAT0', 'name': 'Closed to Public - Uber Drivers Only', 'telephone': '(1) 404-659-4814', 'hours': 'Mon - Fri 8:00 AM - 5:00 PM', 'airport_location': False, 'address': {'address_line_1': '143 Courtland Street Northeast', 'address_line_2': 'NA', 'city': 'Atlanta', 'state_name': 'GA', 'postal_code': '30303', 'country_code': 'US', 'lat': '33.758021', 'long': '-84.383929'}, 'skip_the_queue': False, 'valet_location': False, 'afterhours_return': False}, {'brand': 'Avis', 'code': 'LHAT1', 'name': 'Loews Atlanta Hotel', 'telephone': '(1) 470-427-7178', 'hours': 'Sun 9:00 AM - 1:00 PM; Mon - Fri 8:00 AM - 6:00 PM; Sat 9:00 AM - 1:00 PM', 'airport_location': False, 'address': {'address_line_1': '1065 Peachtree Street Northeast', 'address_line_2': 'Loews Hotel', 'city': 'Atlanta', 'state_name': 'GA', 'postal_code': '30309', 'country_code': 'US', 'lat': '33.7833', 'long': '-84.3834'}, 'skip_the_queue': False, 'valet_location': False, 'afterhours_return': False}, {'brand': 'Avis', 'code': 'B5K', 'name': 'Buckhead Marriott Hotel', 'telephone': '(1) 404-841-8555', 'hours': 'Sun 9:00 AM - 1:00 PM; Mon - Fri 8:00 AM - 6:00 PM; Sat 9:00 AM - 1:00 PM', 'airport_location': False, 'address': {'address_line_1': '3405 Lenox Road Northeast', 'address_line_2': 'Marriott Hotel', 'city': 'Atlanta', 'state_name': 'GA', 'postal_code': '30326', 'country_code': 'US', 'lat': '33.848254', 'long': '-84.359671'}, 'skip_the_queue': False, 'valet_location': False, 'afterhours_return': False}, {'brand': 'Avis', 'code': 'ATL', 'name': 'Atlanta Hartsfield Jackson Intl Airport', 'telephone': '(1) 404-763-6333', 'hours': 'Sun - Sat open 24 hrs', 'airport_location': True, 'address': {'address_line_1': '2200 Rental Car Center Parkway', 'address_line_2': 'NA', 'city': 'College Park', 'state_name': 'GA', 'postal_code': '30337', 'country_code': 'US', 'lat': '33.63984', 'long': '-84.464514'}, 'skip_the_queue': True, 'valet_location': False, 'afterhours_return': True}, {'brand': 'Avis', 'code': 'CD9', 'name': 'Atlanta/Smyrna - Cumberland Mall', 'telephone': '(1) 678-309-9788', 'hours': 'Sun 9:00 AM - 2:00 PM; Mon - Fri 8:00 AM - 6:00 PM; Sat 9:00 AM - 2:00 PM', 'airport_location': False, 'address': {'address_line_1': '2860 Cumberland Mall Southeast', 'address_line_2': 'Space 140', 'city': 'Atlanta', 'state_name': 'GA', 'postal_code': '30339', 'country_code': 'US', 'lat': '33.88028', 'long': '-84.468736'}, 'skip_the_queue': False, 'valet_location': False, 'afterhours_return': False}, {'brand': 'Avis', 'code': 'HM0', 'name': 'Tucker - Northlake Mall', 'telephone': '(1) 770-939-0484', 'hours': 'Mon - Fri 8:00 AM - 5:00 PM; Sat 8:00 AM - 12:00 PM', 'airport_location': False, 'address': {'address_line_1': '4800 Briarcliff Road NE - Suite 1113', 'address_line_2': 'Northlake Mall', 'city': 'Atlanta', 'state_name': 'GA', 'postal_code': '30345', 'country_code': 'US', 'lat': '33.849891', 'long': '-84.255103'}, 'skip_the_queue': False, 'valet_location': False, 'afterhours_return': False}, {'brand': 'Avis', 'code': 'NWA', 'name': 'Windy Hill Village Shopping Center', 'telephone': '(1) 770-955-2416', 'hours': 'Sun 12:00 PM - 4:00 PM; Mon - Fri 8:00 AM - 6:00 PM; Sat 10:00 AM - 3:00 PM', 'airport_location': False, 'address': {'address_line_1': '2359 Windy Hill Road Southeast - Ste 260', 'address_line_2': 'Windy Hill Village Shopping Center', 'city': 'Marietta', 'state_name': 'GA', 'postal_code': '30067', 'country_code': 'US', 'lat': '33.905143', 'long': '-84.485109'}, 'skip_the_queue': False, 'valet_location': False, 'afterhours_return': False}, {'brand': 'Avis', 'code': 'UBNWA', 'name': 'Closed to Public - Uber Drivers Only', 'telephone': '(1) 770-955-2416', 'hours': 'Mon - Fri 9:00 AM - 5:00 PM', 'airport_location': False, 'address': {'address_line_1': '2359 Windy Hill Road Southeast-Suite 260', 'address_line_2': 'Windy Hill Village Shopping Center', 'city': 'Marietta', 'state_name': 'GA', 'postal_code': '30067', 'country_code': 'US', 'lat': '33.905143', 'long': '-84.485109'}, 'skip_the_queue': False, 'valet_location': False, 'afterhours_return': False}, {'brand': 'Avis', 'code': 'MW2', 'name': 'Morrow, GA', 'telephone': '(1) 678-422-9979', 'hours': 'Sun 9:00 AM - 1:00 PM; Mon - Fri 8:00 AM - 6:00 PM; Sat 9:00 AM - 3:00 PM', 'airport_location': False, 'address': {'address_line_1': '1425 Southlake Parkway', 'address_line_2': 'NA', 'city': 'Morrow', 'state_name': 'GA', 'postal_code': '30260', 'country_code': 'US', 'lat': '33.573344', 'long': '-84.343745'}, 'skip_the_queue': False, 'valet_location': False, 'afterhours_return': False}, {'brand': 'Avis', 'code': 'UBMW2', 'name': 'Closed to Public - Uber Drivers Only', 'telephone': '(1) 678-422-9979', 'hours': 'Mon - Fri 9:00 AM - 5:00 PM', 'airport_location': False, 'address': {'address_line_1': '1425 Southlake Parkway', 'address_line_2': 'NA', 'city': 'Morrow', 'state_name': 'GA', 'postal_code': '30260', 'country_code': 'US', 'lat': '33.573344', 'long': '-84.343745'}, 'skip_the_queue': False, 'valet_location': False, 'afterhours_return': False}, {'brand': 'Avis', 'code': 'DV2', 'name': 'Lithia Springs', 'telephone': '(1) 770-739-6811', 'hours': 'Sun 9:00 AM - 1:00 PM; Mon - Fri 8:00 AM - 6:00 PM; Sat 10:00 AM - 2:00 PM', 'airport_location': False, 'address': {'address_line_1': '639 Thornton Road - Suite 109', 'address_line_2': 'NA', 'city': 'Lithia Springs', 'state_name': 'GA', 'postal_code': '30122', 'country_code': 'US', 'lat': '33.786944', 'long': '-84.619403'}, 'skip_the_queue': False, 'valet_location': False, 'afterhours_return': False}, {'brand': 'Avis', 'code': 'G4A', 'name': 'Dunwoody Village Shopping Center', 'telephone': '(1) 770-804-1512', 'hours': 'Sun 11:00 AM - 3:00 PM; Mon - Fri 8:00 AM - 6:00 PM; Sat 9:00 AM - 3:00 PM', 'airport_location': False, 'address': {'address_line_1': '5477 Chamblee Dunwoody Road', 'address_line_2': 'Dunwoody Village Shopping Center', 'city': 'Dunwoody', 'state_name': 'GA', 'postal_code': '30338', 'country_code': 'US', 'lat': '33.947799', 'long': '-84.334035'}, 'skip_the_queue': False, 'valet_location': False, 'afterhours_return': False}, {'brand': 'Avis', 'code': 'S8T', 'name': 'Stockbridge', 'telephone': '(1) 678-289-2355', 'hours': 'Sun 12:00 PM - 2:00 PM; Mon - Fri 8:00 AM - 6:00 PM; Sat 9:00 AM - 2:00 PM', 'airport_location': False, 'address': {'address_line_1': '31 Highway 138 West - Suite 190', 'address_line_2': 'Mays Crossing Shopping Center', 'city': 'Stockbridge', 'state_name': 'GA', 'postal_code': '30281', 'country_code': 'US', 'lat': '33.552115', 'long': '-84.261094'}, 'skip_the_queue': False, 'valet_location': False, 'afterhours_return': False}, {'brand': 'Avis', 'code': 'M5G', 'name': 'North Marietta', 'telephone': '(1) 678-560-1324', 'hours': 'Mon - Fri 8:00 AM - 6:00 PM; Sat 8:00 AM - 2:00 PM', 'airport_location': False, 'address': {'address_line_1': '80 Powers Ferry Road Southeast-Suite A10', 'address_line_2': 'NA', 'city': 'Marietta', 'state_name': 'GA', 'postal_code': '30062', 'country_code': 'US', 'lat': '33.950051', 'long': '-84.513819'}, 'skip_the_queue': False, 'valet_location': False, 'afterhours_return': False}, {'brand': 'Avis', 'code': 'PW8', 'name': 'Powder Springs/Marietta', 'telephone': '(1) 678-354-2320', 'hours': 'Sun 10:00 AM - 2:00 PM; Mon - Fri 8:00 AM - 6:00 PM; Sat 10:00 AM - 2:00 PM', 'airport_location': False, 'address': {'address_line_1': '1721 Powder Springs Road Southwest', 'address_line_2': 'NA', 'city': 'Marietta', 'state_name': 'GA', 'postal_code': '30064', 'country_code': 'US', 'lat': '33.905805', 'long': '-84.602592'}, 'skip_the_queue': False, 'valet_location': False, 'afterhours_return': False}, {'brand': 'Avis', 'code': 'PC5', 'name': 'Norcross/Peachtree Corners', 'telephone': '(1) 770-300-9726', 'hours': 'Sun 12:00 PM - 4:00 PM; Mon - Fri 8:00 AM - 6:00 PM; Sat 9:00 AM - 3:00 PM', 'airport_location': False, 'address': {'address_line_1': '5770 Peachtree Industrial Boulevard', 'address_line_2': 'Suite 109', 'city': 'Norcross', 'state_name': 'GA', 'postal_code': '30071', 'country_code': 'US', 'lat': '33.953973', 'long': '-84.221036'}, 'skip_the_queue': False, 'valet_location': False, 'afterhours_return': False}, {'brand': 'Avis', 'code': 'SM3', 'name': 'Stone Mountain, GA', 'telephone': '(1) 770-469-2579', 'hours': 'Sun 9:00 AM - 1:00 PM; Mon - Fri 8:00 AM - 6:00 PM; Sat 9:00 AM - 1:00 PM', 'airport_location': False, 'address': {'address_line_1': '4895 Stone Mountain Highway (aka Hwy 78)', 'address_line_2': '(aka Highway 78)', 'city': 'Lilburn', 'state_name': 'GA', 'postal_code': '30047', 'country_code': 'US', 'lat': '33.826453', 'long': '-84.098266'}, 'skip_the_queue': False, 'valet_location': False, 'afterhours_return': False}, {'brand': 'Avis', 'code': 'FY8', 'name': 'Fayetteville, GA', 'telephone': '(1) 770-716-6099', 'hours': 'Sun 12:00 PM - 4:00 PM; Mon - Fri 8:00 AM - 6:00 PM; Sat 11:00 AM - 3:00 PM', 'airport_location': False, 'address': {'address_line_1': '105 North 85 Parkway - Suite N', 'address_line_2': 'NA', 'city': 'Fayetteville', 'state_name': 'GA', 'postal_code': '30214', 'country_code': 'US', 'lat': '33.484201', 'long': '-84.434011'}, 'skip_the_queue': False, 'valet_location': False, 'afterhours_return': False}, {'brand': 'Avis', 'code': 'RW7', 'name': 'Roswell', 'telephone': '(1) 770-645-6784', 'hours': 'Sun 9:00 AM - 1:00 PM; Mon - Fri 8:00 AM - 6:00 PM; Sat 9:00 AM - 2:00 PM', 'airport_location': False, 'address': {'address_line_1': '875 Mansell Road Suite C', 'address_line_2': 'NA', 'city': 'Roswell', 'state_name': 'GA', 'postal_code': '30076', 'country_code': 'US', 'lat': '34.042174', 'long': '-84.338341'}, 'skip_the_queue': False, 'valet_location': False, 'afterhours_return': False}, {'brand': 'Avis', 'code': 'KN4', 'name': 'Kennesaw', 'telephone': '(1) 770-420-9597', 'hours': 'Sun 12:00 PM - 4:00 PM; Mon - Fri 8:00 AM - 6:00 PM; Sat 9:00 AM - 1:00 PM', 'airport_location': False, 'address': {'address_line_1': '1930 Cobb Parkway Northwest - Suite B', 'address_line_2': 'NA', 'city': 'Kennesaw', 'state_name': 'GA', 'postal_code': '30152', 'country_code': 'US', 'lat': '34.000126', 'long': '-84.589286'}, 'skip_the_queue': False, 'valet_location': False, 'afterhours_return': False}, {'brand': 'Avis', 'code': 'UBKN4', 'name': 'Closed to Public - Uber Drivers Only', 'telephone': '(1) 770-420-9597', 'hours': 'Mon - Fri 9:00 AM - 5:00 PM', 'airport_location': False, 'address': {'address_line_1': '1930 Cobb Parkway Northwest - Suite B', 'address_line_2': 'NA', 'city': 'Kennesaw', 'state_name': 'GA', 'postal_code': '30152', 'country_code': 'US', 'lat': '34.000126', 'long': '-84.589286'}, 'skip_the_queue': False, 'valet_location': False, 'afterhours_return': False}, {'brand': 'Avis', 'code': 'DL1', 'name': 'Duluth, GA', 'telephone': '(1) 770-476-8833', 'hours': 'Sun 9:00 AM - 1:00 PM; Mon - Fri 8:00 AM - 6:00 PM; Sat 9:00 AM - 1:00 PM', 'airport_location': False, 'address': {'address_line_1': '3547 Old Norcross Road', 'address_line_2': 'NA', 'city': 'Duluth', 'state_name': 'GA', 'postal_code': '30096', 'country_code': 'US', 'lat': '33.966373', 'long': '-84.136959'}, 'skip_the_queue': False, 'valet_location': False, 'afterhours_return': False}, {'brand': 'Avis', 'code': 'D1V', 'name': 'Douglasville', 'telephone': '(1) 770-942-6621', 'hours': 'Sun 9:00 AM - 1:00 PM; Mon - Fri 8:00 AM - 6:00 PM; Sat 9:00 AM - 2:00 PM', 'airport_location': False, 'address': {'address_line_1': '3131 Highway 5', 'address_line_2': 'NA', 'city': 'Douglasville', 'state_name': 'GA', 'postal_code': '30135', 'country_code': 'US', 'lat': '33.720322', 'long': '-84.765673'}, 'skip_the_queue': False, 'valet_location': False, 'afterhours_return': False}, {'brand': 'Avis', 'code': 'R9A', 'name': 'Alpharetta', 'telephone': '(1) 770-619-3275', 'hours': 'Sun 9:00 AM - 2:00 PM; Mon - Fri 8:00 AM - 6:00 PM; Sat 9:00 AM - 2:00 PM', 'airport_location': False, 'address': {'address_line_1': '245 South Main Street', 'address_line_2': 'NA', 'city': 'Alpharetta', 'state_name': 'GA', 'postal_code': '30009', 'country_code': 'US', 'lat': '34.06873', 'long': '-84.300531'}, 'skip_the_queue': False, 'valet_location': False, 'afterhours_return': False}, {'brand': 'Avis', 'code': 'CO3', 'name': 'Conyers Plaza', 'telephone': '(1) 770-602-1129', 'hours': 'Sun 9:00 AM - 1:00 PM; Mon - Fri 8:00 AM - 6:00 PM; Sat 8:00 AM - 12:00 PM', 'airport_location': False, 'address': {'address_line_1': '1360 Dogwood Drive Southeast - Suite 306', 'address_line_2': 'Conyers Plaza', 'city': 'Conyers', 'state_name': 'GA', 'postal_code': '30013', 'country_code': 'US', 'lat': '33.652704', 'long': '-84.000194'}, 'skip_the_queue': False, 'valet_location': False, 'afterhours_return': False}, {'brand': 'Avis', 'code': 'W2S', 'name': 'Woodstock, GA', 'telephone': '(1) 678-494-5366', 'hours': 'Sun 11:00 AM - 3:00 PM; Mon - Fri 8:00 AM - 6:00 PM; Sat 10:00 AM - 2:00 PM', 'airport_location': False, 'address': {'address_line_1': '9425 Highway 92 - Suite 160', 'address_line_2': 'NA', 'city': 'Woodstock', 'state_name': 'GA', 'postal_code': '30188', 'country_code': 'US', 'lat': '34.087034', 'long': '-84.531915'}, 'skip_the_queue': False, 'valet_location': False, 'afterhours_return': False}, {'brand': 'Budget', 'code': 'AT2', 'name': 'Atlanta Downtown', 'telephone': '(1) 678-996-9778', 'hours': 'Sun 9:00 AM - 2:00 PM; Mon - Fri 8:00 AM - 6:00 PM; Sat 8:00 AM - 2:00 PM', 'airport_location': False, 'address': {'address_line_1': '140 Courtland Street Ne', 'address_line_2': '(Sw Corner Courtland & Ellis)', 'city': 'Atlanta', 'state_name': 'GA', 'postal_code': '30303', 'country_code': 'US', 'lat': '33.75828', 'long': '-84.3844'}, 'skip_the_queue': False, 'valet_location': False, 'afterhours_return': False}, {'brand': 'Budget', 'code': 'ATL', 'name': 'Atlanta Hartsfield Jackson Apo', 'telephone': '(1) 404-530-3000', 'hours': 'Sun - Sat open 24 hrs', 'airport_location': True, 'address': {'address_line_1': '2300 Rental Car Center Pkwy', 'city': 'College Park', 'state_name': 'GA', 'postal_code': '30337', 'country_code': 'US', 'lat': '33.640291', 'long': '-84.463409'}, 'skip_the_queue': False, 'valet_location': False, 'afterhours_return': False}, {'brand': 'Budget', 'code': 'AT5', 'name': 'Atlanta/Stone Mountain', 'telephone': '(1) 678-996-9790', 'hours': 'Sun 9:00 AM - 2:00 PM; Mon - Fri 8:00 AM - 6:00 PM; Sat 8:00 AM - 2:00 PM', 'airport_location': False, 'address': {'address_line_1': '4232 Lavista Rd', 'city': 'Tucker', 'state_name': 'GA', 'postal_code': '30084', 'country_code': 'US', 'lat': '33.84663', 'long': '-84.24553'}, 'skip_the_queue': False, 'valet_location': False, 'afterhours_return': False}, {'brand': 'Budget', 'code': 'L7S', 'name': 'Lithia Springs', 'telephone': '(1) 678-996-9782', 'hours': 'Mon - Fri 8:00 AM - 6:00 PM; Sat 8:00 AM - 2:00 PM', 'airport_location': False, 'address': {'address_line_1': '960 Thornton Rd', 'city': 'Lithia Springs', 'state_name': 'GA', 'postal_code': '30122', 'country_code': 'US', 'lat': '33.779093', 'long': '-84.606697'}, 'skip_the_queue': False, 'valet_location': False, 'afterhours_return': False}, {'brand': 'Budget', 'code': 'AT3', 'name': 'Jonesboro', 'telephone': '(1) 678-996-9784', 'hours': 'Sun 9:00 AM - 2:00 PM; Mon - Fri 8:00 AM - 6:00 PM; Sat 8:00 AM - 2:00 PM', 'airport_location': False, 'address': {'address_line_1': '6952 Tara Blvd', 'city': 'Jonesboro', 'state_name': 'GA', 'postal_code': '30236', 'country_code': 'US', 'lat': '33.564367', 'long': '-84.3711'}, 'skip_the_queue': False, 'valet_location': False, 'afterhours_return': False}, {'brand': 'Budget', 'code': 'CP1', 'name': 'Marietta', 'telephone': '(1) 678-996-9786', 'hours': 'Mon - Fri 8:00 AM - 6:00 PM; Sat 8:00 AM - 2:00 PM', 'airport_location': False, 'address': {'address_line_1': '975 Cobb Pkwy S/Hwy 41', 'city': 'Marietta', 'state_name': 'GA', 'postal_code': '30060', 'country_code': 'US', 'lat': '33.928331', 'long': '-84.508483'}, 'skip_the_queue': False, 'valet_location': False, 'afterhours_return': False}, {'brand': 'Budget', 'code': 'AT8', 'name': 'Norcross', 'telephone': '(1) 678-996-9779', 'hours': 'Mon - Fri 8:00 AM - 6:00 PM; Sat 8:00 AM - 2:00 PM', 'airport_location': False, 'address': {'address_line_1': '5570 Jimmy Carter Blvd', 'city': 'Norcross', 'state_name': 'GA', 'postal_code': '30093', 'country_code': 'US', 'lat': '33.91011', 'long': '-84.206969'}, 'skip_the_queue': False, 'valet_location': False, 'afterhours_return': False}, {'brand': 'Budget', 'code': 'NQ1', 'name': 'Marietta (Big Chicken)', 'telephone': '(1) 678-996-9783', 'hours': 'Sun 9:00 AM - 2:00 PM; Mon - Fri 8:00 AM - 6:00 PM; Sat 8:00 AM - 2:00 PM', 'airport_location': False, 'address': {'address_line_1': '1092 Roswell Road', 'city': 'Marietta', 'state_name': 'GA', 'postal_code': '30062', 'country_code': 'US', 'lat': '33.950497', 'long': '-84.519693'}, 'skip_the_queue': False, 'valet_location': False, 'afterhours_return': False}, {'brand': 'Budget', 'code': 'LH3', 'name': 'Lithonia', 'telephone': '(1) 678-996-9789', 'hours': 'Sun 9:00 AM - 2:00 PM; Mon - Fri 8:00 AM - 6:00 PM; Sat 8:00 AM - 2:00 PM', 'airport_location': False, 'address': {'address_line_1': '8129 Covington Highway', 'city': 'Lithonia', 'state_name': 'GA', 'postal_code': '30058', 'country_code': 'US', 'lat': '33.702313', 'long': '-84.091957'}, 'skip_the_queue': False, 'valet_location': False, 'afterhours_return': False}, {'brand': 'Budget', 'code': 'X5E', 'name': 'Roswell', 'telephone': '(1) 678-996-9788', 'hours': 'Mon - Fri 8:00 AM - 6:00 PM; Sat 8:00 AM - 2:00 PM', 'airport_location': False, 'address': {'address_line_1': '715 Holcomb Bridge Rd', 'city': 'Roswell', 'state_name': 'GA', 'postal_code': '30075', 'country_code': 'US', 'lat': '34.031569', 'long': '-84.340133'}, 'skip_the_queue': False, 'valet_location': False, 'afterhours_return': False}, {'brand': 'Budget', 'code': 'G5S', 'name': 'Snellville', 'telephone': '(1) 678-996-9785', 'hours': 'Mon - Fri 8:00 AM - 6:00 PM; Sat 8:00 AM - 2:00 PM', 'airport_location': False, 'address': {'address_line_1': '2960 Main Street West', 'city': 'Snellville', 'state_name': 'GA', 'postal_code': '30078', 'country_code': 'US', 'lat': '33.85291', 'long': '-84.03601'}, 'skip_the_queue': False, 'valet_location': False, 'afterhours_return': False}, {'brand': 'Budget', 'code': 'GR1', 'name': 'Gwinnett Rental', 'telephone': '(1) 770-814-0153', 'hours': 'Mon - Tue 8:00 AM - 4:00 PM; Wed 8:00 AM - 12:00 PM; Thu - Fri 8:00 AM - 4:00 PM; Sat 8:00 AM - 12:00 PM', 'airport_location': False, 'address': {'address_line_1': '3446 Buford Highway Northwest', 'city': 'Duluth', 'state_name': 'GA', 'postal_code': '30096', 'country_code': 'US', 'lat': '33.992663', 'long': '-84.151687'}, 'skip_the_queue': False, 'valet_location': False, 'afterhours_return': False}, {'brand': 'Payless', 'code': 'ATL', 'name': 'Atlanta Hartsfield Jackson APO, GA (ATL)', 'telephone': '(1) 404-768-2401', 'hours': 'Sun - Sat 8:00 AM - 9:00 PM', 'airport_location': False, 'address': {'address_line_1': '2200 Rental Car Center Pkwy', 'city': 'Atlanta', 'state_name': 'GA', 'postal_code': '30337', 'country_code': 'US', 'lat': '33.640071', 'long': '-84.462316'}, 'skip_the_queue': False, 'valet_location': False, 'afterhours_return': False}]}\n"
     ]
    }
   ],
   "source": [
    "data = getdata(token)\n",
    "print(data)"
   ]
  },
  {
   "cell_type": "code",
   "execution_count": 15,
   "metadata": {},
   "outputs": [
    {
     "ename": "ValueError",
     "evalue": "If using all scalar values, you must pass an index",
     "output_type": "error",
     "traceback": [
      "\u001b[0;31m---------------------------------------------------------------------------\u001b[0m",
      "\u001b[0;31mValueError\u001b[0m                                Traceback (most recent call last)",
      "\u001b[0;32m/var/folders/y0/r78ysvzn0f31bqhybpq23bb00000gn/T/ipykernel_25213/4279754676.py\u001b[0m in \u001b[0;36m<module>\u001b[0;34m\u001b[0m\n\u001b[0;32m----> 1\u001b[0;31m \u001b[0mdf\u001b[0m \u001b[0;34m=\u001b[0m \u001b[0mpd\u001b[0m\u001b[0;34m.\u001b[0m\u001b[0mDataFrame\u001b[0m\u001b[0;34m(\u001b[0m\u001b[0mresults\u001b[0m\u001b[0;34m)\u001b[0m\u001b[0;34m\u001b[0m\u001b[0;34m\u001b[0m\u001b[0m\n\u001b[0m\u001b[1;32m      2\u001b[0m \u001b[0mprint\u001b[0m \u001b[0;34m(\u001b[0m\u001b[0mdf\u001b[0m\u001b[0;34m)\u001b[0m\u001b[0;34m\u001b[0m\u001b[0;34m\u001b[0m\u001b[0m\n",
      "\u001b[0;32m~/opt/anaconda3/lib/python3.9/site-packages/pandas/core/frame.py\u001b[0m in \u001b[0;36m__init__\u001b[0;34m(self, data, index, columns, dtype, copy)\u001b[0m\n\u001b[1;32m    612\u001b[0m         \u001b[0;32melif\u001b[0m \u001b[0misinstance\u001b[0m\u001b[0;34m(\u001b[0m\u001b[0mdata\u001b[0m\u001b[0;34m,\u001b[0m \u001b[0mdict\u001b[0m\u001b[0;34m)\u001b[0m\u001b[0;34m:\u001b[0m\u001b[0;34m\u001b[0m\u001b[0;34m\u001b[0m\u001b[0m\n\u001b[1;32m    613\u001b[0m             \u001b[0;31m# GH#38939 de facto copy defaults to False only in non-dict cases\u001b[0m\u001b[0;34m\u001b[0m\u001b[0;34m\u001b[0m\u001b[0m\n\u001b[0;32m--> 614\u001b[0;31m             \u001b[0mmgr\u001b[0m \u001b[0;34m=\u001b[0m \u001b[0mdict_to_mgr\u001b[0m\u001b[0;34m(\u001b[0m\u001b[0mdata\u001b[0m\u001b[0;34m,\u001b[0m \u001b[0mindex\u001b[0m\u001b[0;34m,\u001b[0m \u001b[0mcolumns\u001b[0m\u001b[0;34m,\u001b[0m \u001b[0mdtype\u001b[0m\u001b[0;34m=\u001b[0m\u001b[0mdtype\u001b[0m\u001b[0;34m,\u001b[0m \u001b[0mcopy\u001b[0m\u001b[0;34m=\u001b[0m\u001b[0mcopy\u001b[0m\u001b[0;34m,\u001b[0m \u001b[0mtyp\u001b[0m\u001b[0;34m=\u001b[0m\u001b[0mmanager\u001b[0m\u001b[0;34m)\u001b[0m\u001b[0;34m\u001b[0m\u001b[0;34m\u001b[0m\u001b[0m\n\u001b[0m\u001b[1;32m    615\u001b[0m         \u001b[0;32melif\u001b[0m \u001b[0misinstance\u001b[0m\u001b[0;34m(\u001b[0m\u001b[0mdata\u001b[0m\u001b[0;34m,\u001b[0m \u001b[0mma\u001b[0m\u001b[0;34m.\u001b[0m\u001b[0mMaskedArray\u001b[0m\u001b[0;34m)\u001b[0m\u001b[0;34m:\u001b[0m\u001b[0;34m\u001b[0m\u001b[0;34m\u001b[0m\u001b[0m\n\u001b[1;32m    616\u001b[0m             \u001b[0;32mimport\u001b[0m \u001b[0mnumpy\u001b[0m\u001b[0;34m.\u001b[0m\u001b[0mma\u001b[0m\u001b[0;34m.\u001b[0m\u001b[0mmrecords\u001b[0m \u001b[0;32mas\u001b[0m \u001b[0mmrecords\u001b[0m\u001b[0;34m\u001b[0m\u001b[0;34m\u001b[0m\u001b[0m\n",
      "\u001b[0;32m~/opt/anaconda3/lib/python3.9/site-packages/pandas/core/internals/construction.py\u001b[0m in \u001b[0;36mdict_to_mgr\u001b[0;34m(data, index, columns, dtype, typ, copy)\u001b[0m\n\u001b[1;32m    462\u001b[0m         \u001b[0;31m# TODO: can we get rid of the dt64tz special case above?\u001b[0m\u001b[0;34m\u001b[0m\u001b[0;34m\u001b[0m\u001b[0m\n\u001b[1;32m    463\u001b[0m \u001b[0;34m\u001b[0m\u001b[0m\n\u001b[0;32m--> 464\u001b[0;31m     return arrays_to_mgr(\n\u001b[0m\u001b[1;32m    465\u001b[0m         \u001b[0marrays\u001b[0m\u001b[0;34m,\u001b[0m \u001b[0mdata_names\u001b[0m\u001b[0;34m,\u001b[0m \u001b[0mindex\u001b[0m\u001b[0;34m,\u001b[0m \u001b[0mcolumns\u001b[0m\u001b[0;34m,\u001b[0m \u001b[0mdtype\u001b[0m\u001b[0;34m=\u001b[0m\u001b[0mdtype\u001b[0m\u001b[0;34m,\u001b[0m \u001b[0mtyp\u001b[0m\u001b[0;34m=\u001b[0m\u001b[0mtyp\u001b[0m\u001b[0;34m,\u001b[0m \u001b[0mconsolidate\u001b[0m\u001b[0;34m=\u001b[0m\u001b[0mcopy\u001b[0m\u001b[0;34m\u001b[0m\u001b[0;34m\u001b[0m\u001b[0m\n\u001b[1;32m    466\u001b[0m     )\n",
      "\u001b[0;32m~/opt/anaconda3/lib/python3.9/site-packages/pandas/core/internals/construction.py\u001b[0m in \u001b[0;36marrays_to_mgr\u001b[0;34m(arrays, arr_names, index, columns, dtype, verify_integrity, typ, consolidate)\u001b[0m\n\u001b[1;32m    117\u001b[0m         \u001b[0;31m# figure out the index, if necessary\u001b[0m\u001b[0;34m\u001b[0m\u001b[0;34m\u001b[0m\u001b[0m\n\u001b[1;32m    118\u001b[0m         \u001b[0;32mif\u001b[0m \u001b[0mindex\u001b[0m \u001b[0;32mis\u001b[0m \u001b[0;32mNone\u001b[0m\u001b[0;34m:\u001b[0m\u001b[0;34m\u001b[0m\u001b[0;34m\u001b[0m\u001b[0m\n\u001b[0;32m--> 119\u001b[0;31m             \u001b[0mindex\u001b[0m \u001b[0;34m=\u001b[0m \u001b[0m_extract_index\u001b[0m\u001b[0;34m(\u001b[0m\u001b[0marrays\u001b[0m\u001b[0;34m)\u001b[0m\u001b[0;34m\u001b[0m\u001b[0;34m\u001b[0m\u001b[0m\n\u001b[0m\u001b[1;32m    120\u001b[0m         \u001b[0;32melse\u001b[0m\u001b[0;34m:\u001b[0m\u001b[0;34m\u001b[0m\u001b[0;34m\u001b[0m\u001b[0m\n\u001b[1;32m    121\u001b[0m             \u001b[0mindex\u001b[0m \u001b[0;34m=\u001b[0m \u001b[0mensure_index\u001b[0m\u001b[0;34m(\u001b[0m\u001b[0mindex\u001b[0m\u001b[0;34m)\u001b[0m\u001b[0;34m\u001b[0m\u001b[0;34m\u001b[0m\u001b[0m\n",
      "\u001b[0;32m~/opt/anaconda3/lib/python3.9/site-packages/pandas/core/internals/construction.py\u001b[0m in \u001b[0;36m_extract_index\u001b[0;34m(data)\u001b[0m\n\u001b[1;32m    623\u001b[0m \u001b[0;34m\u001b[0m\u001b[0m\n\u001b[1;32m    624\u001b[0m         \u001b[0;32mif\u001b[0m \u001b[0;32mnot\u001b[0m \u001b[0mindexes\u001b[0m \u001b[0;32mand\u001b[0m \u001b[0;32mnot\u001b[0m \u001b[0mraw_lengths\u001b[0m\u001b[0;34m:\u001b[0m\u001b[0;34m\u001b[0m\u001b[0;34m\u001b[0m\u001b[0m\n\u001b[0;32m--> 625\u001b[0;31m             \u001b[0;32mraise\u001b[0m \u001b[0mValueError\u001b[0m\u001b[0;34m(\u001b[0m\u001b[0;34m\"If using all scalar values, you must pass an index\"\u001b[0m\u001b[0;34m)\u001b[0m\u001b[0;34m\u001b[0m\u001b[0;34m\u001b[0m\u001b[0m\n\u001b[0m\u001b[1;32m    626\u001b[0m \u001b[0;34m\u001b[0m\u001b[0m\n\u001b[1;32m    627\u001b[0m         \u001b[0;32mif\u001b[0m \u001b[0mhave_series\u001b[0m\u001b[0;34m:\u001b[0m\u001b[0;34m\u001b[0m\u001b[0;34m\u001b[0m\u001b[0m\n",
      "\u001b[0;31mValueError\u001b[0m: If using all scalar values, you must pass an index"
     ]
    }
   ],
   "source": [
    "df = pd.DataFrame(results)\n",
    "print (df)"
   ]
  }
 ],
 "metadata": {
  "kernelspec": {
   "display_name": "Python 3.9.7 ('base')",
   "language": "python",
   "name": "python3"
  },
  "language_info": {
   "codemirror_mode": {
    "name": "ipython",
    "version": 3
   },
   "file_extension": ".py",
   "mimetype": "text/x-python",
   "name": "python",
   "nbconvert_exporter": "python",
   "pygments_lexer": "ipython3",
   "version": "3.9.7"
  },
  "orig_nbformat": 4,
  "vscode": {
   "interpreter": {
    "hash": "9dd1b7c3579aa78dba9c9fdc2ad57061e27604eb4bf839312a4969b1cdaf9bba"
   }
  }
 },
 "nbformat": 4,
 "nbformat_minor": 2
}
