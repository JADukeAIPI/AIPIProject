{
 "cells": [
  {
   "cell_type": "markdown",
   "metadata": {},
   "source": [
    "AIPI 510 PROJECT\n",
    "CINDY CHANG"
   ]
  },
  {
   "cell_type": "code",
   "execution_count": 87,
   "metadata": {},
   "outputs": [],
   "source": [
    "from bs4 import BeautifulSoup\n",
    "import pandas as pd\n",
    "import numpy as np\n",
    "import requests\n",
    "import matplotlib.pyplot as plt"
   ]
  },
  {
   "cell_type": "markdown",
   "metadata": {},
   "source": [
    "Getting AVIS Rental Car API:\n",
    "Client ID: 180ab12c\n",
    "Client Secret: 7eab40d14a709e6b91ea6806771ed0e6\n"
   ]
  },
  {
   "cell_type": "code",
   "execution_count": 88,
   "metadata": {},
   "outputs": [],
   "source": [
    "def apicall():\n",
    "    import requests\n",
    "\n",
    "    headers = {\n",
    "    'client_id': '180ab12c',\n",
    "    'client_secret': '7eab40d14a709e6b91ea6806771ed0e6',\n",
    "}\n",
    "\n",
    "    response = requests.get('https://stage.abgapiservices.com/oauth/token/v1', headers=headers)\n",
    "    results = response.json()\n",
    "    return results"
   ]
  },
  {
   "cell_type": "markdown",
   "metadata": {},
   "source": [
    "get available car with vehicle brands, vehicle features, and rates"
   ]
  },
  {
   "cell_type": "code",
   "execution_count": 89,
   "metadata": {},
   "outputs": [],
   "source": [
    "def getdata(token):\n",
    "    token = token\n",
    "    headers = {\n",
    "    'client_id': '180ab12c',\n",
    "    'Authorization': f'''Bearer {token}''' ## <-- This needed the word Bearer added to the authorization.\n",
    "}\n",
    "    ###\n",
    "    #write a parameter that can be a changing variable in endpoint\n",
    "    ###\n",
    "\n",
    "    response = requests.get('https://stage.abgapiservices.com/cars/catalog/v1/vehicles?brand=Avis&pickup_date=2023-01-01T12:00:00&pickup_location=ATL&dropoff_date=2023-01-03T12:00:00&dropoff_location=ATL&country_code=US', headers=headers)\n",
    "    results = response.json()\n",
    "    return results"
   ]
  },
  {
   "cell_type": "code",
   "execution_count": 90,
   "metadata": {},
   "outputs": [
    {
     "data": {
      "text/html": [
       "<div>\n",
       "<style scoped>\n",
       "    .dataframe tbody tr th:only-of-type {\n",
       "        vertical-align: middle;\n",
       "    }\n",
       "\n",
       "    .dataframe tbody tr th {\n",
       "        vertical-align: top;\n",
       "    }\n",
       "\n",
       "    .dataframe thead th {\n",
       "        text-align: right;\n",
       "    }\n",
       "</style>\n",
       "<table border=\"1\" class=\"dataframe\">\n",
       "  <thead>\n",
       "    <tr style=\"text-align: right;\">\n",
       "      <th></th>\n",
       "      <th>category</th>\n",
       "      <th>features</th>\n",
       "      <th>capacity</th>\n",
       "      <th>rate_totals</th>\n",
       "    </tr>\n",
       "  </thead>\n",
       "  <tbody>\n",
       "    <tr>\n",
       "      <th>0</th>\n",
       "      <td>{'name': 'Ford Fiesta or similar', 'make': 'Ki...</td>\n",
       "      <td>{'bluetooth_equipped': False, 'smoke_free': Tr...</td>\n",
       "      <td>{'doors': '4', 'seats': '5', 'mpg': '27/35', '...</td>\n",
       "      <td>{'rate': {'currency': 'USD', 'rate_code': '2A'...</td>\n",
       "    </tr>\n",
       "    <tr>\n",
       "      <th>1</th>\n",
       "      <td>{'name': 'Group B - Kia Soul or similar', 'mak...</td>\n",
       "      <td>{'bluetooth_equipped': False, 'smoke_free': Tr...</td>\n",
       "      <td>{'doors': '4', 'seats': '5', 'mpg': '25/29', '...</td>\n",
       "      <td>{'rate': {'currency': 'USD', 'rate_code': '2A'...</td>\n",
       "    </tr>\n",
       "    <tr>\n",
       "      <th>2</th>\n",
       "      <td>{'name': 'Group C - Toyota Corolla or similar'...</td>\n",
       "      <td>{'bluetooth_equipped': False, 'smoke_free': Tr...</td>\n",
       "      <td>{'doors': '4', 'seats': '5', 'mpg': '29/35', '...</td>\n",
       "      <td>{'rate': {'currency': 'USD', 'rate_code': '2A'...</td>\n",
       "    </tr>\n",
       "    <tr>\n",
       "      <th>3</th>\n",
       "      <td>{'name': 'Group D - Volkswagen Jetta or simila...</td>\n",
       "      <td>{'bluetooth_equipped': False, 'air_conditioned...</td>\n",
       "      <td>{'doors': '4', 'seats': '5', 'mpg': '24/35', '...</td>\n",
       "      <td>{'rate': {'currency': 'USD', 'rate_code': '2A'...</td>\n",
       "    </tr>\n",
       "    <tr>\n",
       "      <th>4</th>\n",
       "      <td>{'name': 'Group E - Toyota Camry or similar', ...</td>\n",
       "      <td>{'bluetooth_equipped': False, 'air_conditioned...</td>\n",
       "      <td>{'doors': '4', 'seats': '5', 'mpg': '22/30', '...</td>\n",
       "      <td>{'rate': {'currency': 'USD', 'rate_code': '2A'...</td>\n",
       "    </tr>\n",
       "  </tbody>\n",
       "</table>\n",
       "</div>"
      ],
      "text/plain": [
       "                                            category  \\\n",
       "0  {'name': 'Ford Fiesta or similar', 'make': 'Ki...   \n",
       "1  {'name': 'Group B - Kia Soul or similar', 'mak...   \n",
       "2  {'name': 'Group C - Toyota Corolla or similar'...   \n",
       "3  {'name': 'Group D - Volkswagen Jetta or simila...   \n",
       "4  {'name': 'Group E - Toyota Camry or similar', ...   \n",
       "\n",
       "                                            features  \\\n",
       "0  {'bluetooth_equipped': False, 'smoke_free': Tr...   \n",
       "1  {'bluetooth_equipped': False, 'smoke_free': Tr...   \n",
       "2  {'bluetooth_equipped': False, 'smoke_free': Tr...   \n",
       "3  {'bluetooth_equipped': False, 'air_conditioned...   \n",
       "4  {'bluetooth_equipped': False, 'air_conditioned...   \n",
       "\n",
       "                                            capacity  \\\n",
       "0  {'doors': '4', 'seats': '5', 'mpg': '27/35', '...   \n",
       "1  {'doors': '4', 'seats': '5', 'mpg': '25/29', '...   \n",
       "2  {'doors': '4', 'seats': '5', 'mpg': '29/35', '...   \n",
       "3  {'doors': '4', 'seats': '5', 'mpg': '24/35', '...   \n",
       "4  {'doors': '4', 'seats': '5', 'mpg': '22/30', '...   \n",
       "\n",
       "                                         rate_totals  \n",
       "0  {'rate': {'currency': 'USD', 'rate_code': '2A'...  \n",
       "1  {'rate': {'currency': 'USD', 'rate_code': '2A'...  \n",
       "2  {'rate': {'currency': 'USD', 'rate_code': '2A'...  \n",
       "3  {'rate': {'currency': 'USD', 'rate_code': '2A'...  \n",
       "4  {'rate': {'currency': 'USD', 'rate_code': '2A'...  "
      ]
     },
     "execution_count": 90,
     "metadata": {},
     "output_type": "execute_result"
    }
   ],
   "source": [
    "data = getdata(token)\n",
    "df = pd.DataFrame.from_dict(data['vehicles'])\n",
    "df.head()"
   ]
  }
 ],
 "metadata": {
  "kernelspec": {
   "display_name": "Python 3.9.7 ('base')",
   "language": "python",
   "name": "python3"
  },
  "language_info": {
   "codemirror_mode": {
    "name": "ipython",
    "version": 3
   },
   "file_extension": ".py",
   "mimetype": "text/x-python",
   "name": "python",
   "nbconvert_exporter": "python",
   "pygments_lexer": "ipython3",
   "version": "3.9.7"
  },
  "orig_nbformat": 4,
  "vscode": {
   "interpreter": {
    "hash": "9dd1b7c3579aa78dba9c9fdc2ad57061e27604eb4bf839312a4969b1cdaf9bba"
   }
  }
 },
 "nbformat": 4,
 "nbformat_minor": 2
}
