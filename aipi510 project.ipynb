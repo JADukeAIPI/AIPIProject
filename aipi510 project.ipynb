{
 "cells": [
  {
   "cell_type": "markdown",
   "metadata": {},
   "source": [
    "AIPI 510 PROJECT\n",
    "CINDY CHANG"
   ]
  },
  {
   "cell_type": "code",
   "execution_count": 1,
   "metadata": {},
   "outputs": [],
   "source": [
    "from bs4 import BeautifulSoup\n",
    "import pandas as pd\n",
    "import numpy as np\n",
    "import requests\n",
    "import matplotlib.pyplot as plt"
   ]
  },
  {
   "cell_type": "markdown",
   "metadata": {},
   "source": [
    "Getting AVIS Rental Car API:\n",
    "Client ID: 180ab12c\n",
    "Client Secret: 7eab40d14a709e6b91ea6806771ed0e6\n"
   ]
  },
  {
   "cell_type": "code",
   "execution_count": 2,
   "metadata": {},
   "outputs": [],
   "source": [
    "def apicall():\n",
    "    import requests\n",
    "\n",
    "    headers = {\n",
    "    'client_id': '180ab12c',\n",
    "    'client_secret': '7eab40d14a709e6b91ea6806771ed0e6',\n",
    "}\n",
    "\n",
    "    response = requests.get('https://stage.abgapiservices.com/oauth/token/v1', headers=headers)\n",
    "    results = response.json()\n",
    "    return results"
   ]
  },
  {
   "cell_type": "code",
   "execution_count": 3,
   "metadata": {},
   "outputs": [
    {
     "name": "stdout",
     "output_type": "stream",
     "text": [
      "{'access_token': 'eyJhbGciOiJSUzI1NiIsInR5cCIgOiAiSldUIiwia2lkIiA6ICJwem5vRHdsYlNUcmFwM2FTQzdSUUl3anpzb2NJWGlaTUQ2cUxBakh5X0NVIn0.eyJqdGkiOiJkMWU0ODQ3My0xYWE1LTRmMmQtYTliZS1iYzkzODJlYjY2ZDAiLCJleHAiOjE2Njc3NjkxNTcsIm5iZiI6MCwiaWF0IjoxNjY3NzYyMDE3LCJpc3MiOiJodHRwczovL3Nzby1zc28uYXBwcy5hcGktbnAuYWJnYXBpc2VydmljZXMuY29tL2F1dGgvcmVhbG1zLzNzY2FsZS1zdGFnaW5nLWFwaS1vaWRjIiwiYXVkIjoiYWNjb3VudCIsInN1YiI6IjUwMmRmOGQ3LWQ1ODQtNDllZi1iMGI5LWJkODM1Y2I5NDQ3YiIsInR5cCI6IkJlYXJlciIsImF6cCI6IjE4MGFiMTJjIiwiYXV0aF90aW1lIjowLCJzZXNzaW9uX3N0YXRlIjoiMGI2YzQzZmQtZDUyZi00NDc5LTlkYWEtNzZiMDg2OTUwMmI2IiwiYWNyIjoiMSIsInJlYWxtX2FjY2VzcyI6eyJyb2xlcyI6WyJvZmZsaW5lX2FjY2VzcyIsInVtYV9hdXRob3JpemF0aW9uIl19LCJyZXNvdXJjZV9hY2Nlc3MiOnsiYWNjb3VudCI6eyJyb2xlcyI6WyJtYW5hZ2UtYWNjb3VudCIsInZpZXctcHJvZmlsZSJdfX0sInNjb3BlIjoiZW1haWwgcHJvZmlsZSIsImNsaWVudEhvc3QiOiIxOC4xOTEuNzEuMjQ3IiwiZW1haWxfdmVyaWZpZWQiOmZhbHNlLCJjbGllbnRJZCI6IjE4MGFiMTJjIiwicHJlZmVycmVkX3VzZXJuYW1lIjoic2VydmljZS1hY2NvdW50LTE4MGFiMTJjIiwiY2xpZW50QWRkcmVzcyI6IjE4LjE5MS43MS4yNDcifQ.fVFFuJExRzKirQcba1t2nqhAP0HmfkxoUPf1NRSVjBhQEmbbFBJd0Cbs8B_Y7AVkZUuS1WRhEXYDsbUrTwB_WMmztCntmZLEyyfAuXY25PRZ8MbueqmruNrlFGZTEdF3nIfL4gmm_nIPLULdc3TgVJVVEjdcLmQd6jbni9BQD2czQ038dOTh_CTfMRk8PlhEv9P5NUrdbPdA4Ggadqy_DRFeVxv_1_9W1O0P2kNbEbmwfuOSoSkI57EtPiAgZS723tM3eGWIxoEnnFLFGoO6Yd6yjmC0qD7NFuWEpNOFCNNDfN2QWn_W8idQ3hJMlrn3gZYr6X7OQnDgeYzOS0KfMA', 'token_type': 'Bearer', 'expires_in': 7140}\n"
     ]
    }
   ],
   "source": [
    "results = apicall()\n",
    "print(results)\n"
   ]
  },
  {
   "cell_type": "code",
   "execution_count": 4,
   "metadata": {},
   "outputs": [
    {
     "name": "stdout",
     "output_type": "stream",
     "text": [
      "eyJhbGciOiJSUzI1NiIsInR5cCIgOiAiSldUIiwia2lkIiA6ICJwem5vRHdsYlNUcmFwM2FTQzdSUUl3anpzb2NJWGlaTUQ2cUxBakh5X0NVIn0.eyJqdGkiOiJkMWU0ODQ3My0xYWE1LTRmMmQtYTliZS1iYzkzODJlYjY2ZDAiLCJleHAiOjE2Njc3NjkxNTcsIm5iZiI6MCwiaWF0IjoxNjY3NzYyMDE3LCJpc3MiOiJodHRwczovL3Nzby1zc28uYXBwcy5hcGktbnAuYWJnYXBpc2VydmljZXMuY29tL2F1dGgvcmVhbG1zLzNzY2FsZS1zdGFnaW5nLWFwaS1vaWRjIiwiYXVkIjoiYWNjb3VudCIsInN1YiI6IjUwMmRmOGQ3LWQ1ODQtNDllZi1iMGI5LWJkODM1Y2I5NDQ3YiIsInR5cCI6IkJlYXJlciIsImF6cCI6IjE4MGFiMTJjIiwiYXV0aF90aW1lIjowLCJzZXNzaW9uX3N0YXRlIjoiMGI2YzQzZmQtZDUyZi00NDc5LTlkYWEtNzZiMDg2OTUwMmI2IiwiYWNyIjoiMSIsInJlYWxtX2FjY2VzcyI6eyJyb2xlcyI6WyJvZmZsaW5lX2FjY2VzcyIsInVtYV9hdXRob3JpemF0aW9uIl19LCJyZXNvdXJjZV9hY2Nlc3MiOnsiYWNjb3VudCI6eyJyb2xlcyI6WyJtYW5hZ2UtYWNjb3VudCIsInZpZXctcHJvZmlsZSJdfX0sInNjb3BlIjoiZW1haWwgcHJvZmlsZSIsImNsaWVudEhvc3QiOiIxOC4xOTEuNzEuMjQ3IiwiZW1haWxfdmVyaWZpZWQiOmZhbHNlLCJjbGllbnRJZCI6IjE4MGFiMTJjIiwicHJlZmVycmVkX3VzZXJuYW1lIjoic2VydmljZS1hY2NvdW50LTE4MGFiMTJjIiwiY2xpZW50QWRkcmVzcyI6IjE4LjE5MS43MS4yNDcifQ.fVFFuJExRzKirQcba1t2nqhAP0HmfkxoUPf1NRSVjBhQEmbbFBJd0Cbs8B_Y7AVkZUuS1WRhEXYDsbUrTwB_WMmztCntmZLEyyfAuXY25PRZ8MbueqmruNrlFGZTEdF3nIfL4gmm_nIPLULdc3TgVJVVEjdcLmQd6jbni9BQD2czQ038dOTh_CTfMRk8PlhEv9P5NUrdbPdA4Ggadqy_DRFeVxv_1_9W1O0P2kNbEbmwfuOSoSkI57EtPiAgZS723tM3eGWIxoEnnFLFGoO6Yd6yjmC0qD7NFuWEpNOFCNNDfN2QWn_W8idQ3hJMlrn3gZYr6X7OQnDgeYzOS0KfMA\n"
     ]
    }
   ],
   "source": [
    "token = results.get('access_token')\n",
    "print(token)"
   ]
  },
  {
   "cell_type": "code",
   "execution_count": 5,
   "metadata": {},
   "outputs": [],
   "source": [
    "def getdata(token):\n",
    "    token = token\n",
    "    headers = {\n",
    "    'client_id': '180ab12c',\n",
    "    'Authorization': f'''Bearer {token}''' ## <-- This needed the word Bearer added to the authorization.\n",
    "}\n",
    "\n",
    "    params = {\n",
    "    'country_code': 'US',\n",
    "    'brand': 'Avis',\n",
    "    'keyword': 'Denver',\n",
    "}\n",
    "\n",
    "    response = requests.get('https://stage.abgapiservices.com/cars/locations/v1/', params=params, headers=headers)\n",
    "    results = response.json()\n",
    "    return results"
   ]
  },
  {
   "cell_type": "code",
   "execution_count": 6,
   "metadata": {},
   "outputs": [
    {
     "name": "stdout",
     "output_type": "stream",
     "text": [
      "{'error': 'invalid_request', 'description': 'No Mapping Rule matched.'}\n"
     ]
    }
   ],
   "source": [
    "data = getdata(token)\n",
    "print(data)"
   ]
  },
  {
   "cell_type": "code",
   "execution_count": null,
   "metadata": {},
   "outputs": [],
   "source": [
    "import requests\n",
    "token = \"eyJhbGciOiJSUzI1NiIsInR5cCIgOiAiSldUIiwia2lkIiA6ICJwem5vRHdsYlNUcmFwM2FTQzdSUUl3anpzb2NJWGlaTUQ2cUxBakh5X0NVIn0.eyJqdGkiOiI1ZmUzZWU1MC02YmMzLTRhNjItYWExMS1mMTI0YWY0NDQzM2MiLCJleHAiOjE2NjY1MTU1NDUsIm5iZiI6MCwiaWF0IjoxNjY2NTA4NDA1LCJpc3MiOiJodHRwczovL3Nzby1zc28uYXBwcy5hcGktbnAuYWJnYXBpc2VydmljZXMuY29tL2F1dGgvcmVhbG1zLzNzY2FsZS1zdGFnaW5nLWFwaS1vaWRjIiwiYXVkIjoiYWNjb3VudCIsInN1YiI6IjUwMmRmOGQ3LWQ1ODQtNDllZi1iMGI5LWJkODM1Y2I5NDQ3YiIsInR5cCI6IkJlYXJlciIsImF6cCI6IjE4MGFiMTJjIiwiYXV0aF90aW1lIjowLCJzZXNzaW9uX3N0YXRlIjoiMjZlOTRjZjMtZDRiNC00MzEyLTg3NzctMDUzNWRlZDRkMmI4IiwiYWNyIjoiMSIsInJlYWxtX2FjY2VzcyI6eyJyb2xlcyI6WyJvZmZsaW5lX2FjY2VzcyIsInVtYV9hdXRob3JpemF0aW9uIl19LCJyZXNvdXJjZV9hY2Nlc3MiOnsiYWNjb3VudCI6eyJyb2xlcyI6WyJtYW5hZ2UtYWNjb3VudCIsInZpZXctcHJvZmlsZSJdfX0sInNjb3BlIjoiZW1haWwgcHJvZmlsZSIsImNsaWVudEhvc3QiOiIxOC4yMjUuMTIuMjE2IiwiZW1haWxfdmVyaWZpZWQiOmZhbHNlLCJjbGllbnRJZCI6IjE4MGFiMTJjIiwicHJlZmVycmVkX3VzZXJuYW1lIjoic2VydmljZS1hY2NvdW50LTE4MGFiMTJjIiwiY2xpZW50QWRkcmVzcyI6IjE4LjIyNS4xMi4yMTYifQ.Anum3w5Voh68C6Zth8TQZo9FkXauT_PZ8btF6KIfnAFyXsufHJO38NNlgrlXS694uinyjU99sEB-fJ3v7Yn-4Hfm0X4GdH2WXhZ-8dOsUZkoMc-8kJ76K95lPRPCi4sYd3UeAqv-0ZbHbS0Z3TRIwT6BUwHgY4UGPTVA4odB8Zuf1wrtlcZRhsHDneQc-5_Clc3yGYXRe8MpRVdWPity3tosUzbtrryq4mcAyy9FhA7WwBfUsv4Rq8J0e52PNIjato9WUfKDHWpN0Q9QCLjxoCc9qRToWLm04t-q8ufV14Iqjk6hKrsc_cyQO76ljj4sEA978fWVtDVrAsEVYU3lyw\"\n",
    "headers = {\n",
    "    'client_id': '7bc7af29041645fe80aa5d16e71876e5',\n",
    "    'Authorization': f'Bearer {token}'\n",
    "}\n",
    "\n",
    "params = {\n",
    "    'country_code': 'US',\n",
    "    'brand': 'Avis',\n",
    "    'keyword': 'Denver',\n",
    "}\n",
    "\n",
    "response = requests.get('https://stage.abgapiservices.com/cars/locations/v1/',headers=headers, params=params)\n",
    "results = response.json()\n",
    "print(results)"
   ]
  },
  {
   "cell_type": "code",
   "execution_count": null,
   "metadata": {},
   "outputs": [],
   "source": [
    "df = pd.DataFrame(results)\n",
    "print (df)"
   ]
  }
 ],
 "metadata": {
  "kernelspec": {
   "display_name": "Python 3.9.12 ('base')",
   "language": "python",
   "name": "python3"
  },
  "language_info": {
   "codemirror_mode": {
    "name": "ipython",
    "version": 3
   },
   "file_extension": ".py",
   "mimetype": "text/x-python",
   "name": "python",
   "nbconvert_exporter": "python",
   "pygments_lexer": "ipython3",
   "version": "3.9.12"
  },
  "orig_nbformat": 4,
  "vscode": {
   "interpreter": {
    "hash": "3071ee50c89c1c794c04ecbcb4eb8f9585468a45756c3a74d8e9479e4a2bc436"
   }
  }
 },
 "nbformat": 4,
 "nbformat_minor": 2
}
