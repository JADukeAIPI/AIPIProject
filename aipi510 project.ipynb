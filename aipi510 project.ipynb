{
 "cells": [
  {
   "cell_type": "markdown",
   "metadata": {},
   "source": [
    "AIPI 510 PROJECT\n",
    "CINDY CHANG"
   ]
  },
  {
   "cell_type": "code",
   "execution_count": 87,
   "metadata": {},
   "outputs": [],
   "source": [
    "from bs4 import BeautifulSoup\n",
    "import pandas as pd\n",
    "import numpy as np\n",
    "import requests\n",
    "import matplotlib.pyplot as plt"
   ]
  },
  {
   "cell_type": "markdown",
   "metadata": {},
   "source": [
    "Getting AVIS Rental Car API:\n",
    "Client ID: 180ab12c\n",
    "Client Secret: 7eab40d14a709e6b91ea6806771ed0e6\n"
   ]
  },
  {
   "cell_type": "code",
   "execution_count": 88,
   "metadata": {},
   "outputs": [],
   "source": [
    "def apicall():\n",
    "    import requests\n",
    "\n",
    "    headers = {\n",
    "    'client_id': '180ab12c',\n",
    "    'client_secret': '7eab40d14a709e6b91ea6806771ed0e6',\n",
    "}\n",
    "\n",
    "    response = requests.get('https://stage.abgapiservices.com/oauth/token/v1', headers=headers)\n",
    "    results = response.json()\n",
    "    return results"
   ]
  },
  {
   "cell_type": "markdown",
   "metadata": {},
   "source": [
    "get available car with vehicle brands, vehicle features, and rates"
   ]
  },
  {
   "cell_type": "code",
   "execution_count": 89,
   "metadata": {},
   "outputs": [],
   "source": [
    "def getdata(token):\n",
    "    token = token\n",
    "    headers = {\n",
    "    'client_id': '180ab12c',\n",
    "    'Authorization': f'''Bearer {token}''' ## <-- This needed the word Bearer added to the authorization.\n",
    "}\n",
    "    ###\n",
    "    #write a parameter that can be a changing variable in endpoint\n",
    "    ###\n",
    "\n",
    "    response = requests.get('https://stage.abgapiservices.com/cars/catalog/v1/vehicles?brand=Avis&pickup_date=2023-01-01T12:00:00&pickup_location=ATL&dropoff_date=2023-01-03T12:00:00&dropoff_location=ATL&country_code=US', headers=headers)\n",
    "    results = response.json()\n",
    "    return results"
   ]
  },
  {
   "cell_type": "code",
   "execution_count": 137,
   "metadata": {},
   "outputs": [
    {
     "data": {
      "text/html": [
       "<div>\n",
       "<style scoped>\n",
       "    .dataframe tbody tr th:only-of-type {\n",
       "        vertical-align: middle;\n",
       "    }\n",
       "\n",
       "    .dataframe tbody tr th {\n",
       "        vertical-align: top;\n",
       "    }\n",
       "\n",
       "    .dataframe thead th {\n",
       "        text-align: right;\n",
       "    }\n",
       "</style>\n",
       "<table border=\"1\" class=\"dataframe\">\n",
       "  <thead>\n",
       "    <tr style=\"text-align: right;\">\n",
       "      <th></th>\n",
       "      <th>features</th>\n",
       "      <th>capacity</th>\n",
       "      <th>rate_totals</th>\n",
       "      <th>name</th>\n",
       "      <th>make</th>\n",
       "      <th>model</th>\n",
       "      <th>sipp_code</th>\n",
       "      <th>vehicle_class_code</th>\n",
       "      <th>vehicle_class_name</th>\n",
       "      <th>vehicle_transmission</th>\n",
       "      <th>mpg</th>\n",
       "    </tr>\n",
       "  </thead>\n",
       "  <tbody>\n",
       "    <tr>\n",
       "      <th>0</th>\n",
       "      <td>{'bluetooth_equipped': False, 'smoke_free': Tr...</td>\n",
       "      <td>{'doors': '4', 'seats': '5', 'mpg': '27/35', '...</td>\n",
       "      <td>{'rate': {'currency': 'USD', 'rate_code': '2A'...</td>\n",
       "      <td>Ford Fiesta or similar</td>\n",
       "      <td>Kia</td>\n",
       "      <td>Rio</td>\n",
       "      <td>ECAR</td>\n",
       "      <td>A</td>\n",
       "      <td>Economy</td>\n",
       "      <td>Automatic</td>\n",
       "      <td>27/35</td>\n",
       "    </tr>\n",
       "    <tr>\n",
       "      <th>1</th>\n",
       "      <td>{'bluetooth_equipped': False, 'smoke_free': Tr...</td>\n",
       "      <td>{'doors': '4', 'seats': '5', 'mpg': '25/29', '...</td>\n",
       "      <td>{'rate': {'currency': 'USD', 'rate_code': '2A'...</td>\n",
       "      <td>Group B - Kia Soul or similar</td>\n",
       "      <td>Kia</td>\n",
       "      <td>Soul</td>\n",
       "      <td>CCAR</td>\n",
       "      <td>B</td>\n",
       "      <td>Compact</td>\n",
       "      <td>Automatic</td>\n",
       "      <td>25/29</td>\n",
       "    </tr>\n",
       "    <tr>\n",
       "      <th>2</th>\n",
       "      <td>{'bluetooth_equipped': False, 'smoke_free': Tr...</td>\n",
       "      <td>{'doors': '4', 'seats': '5', 'mpg': '29/35', '...</td>\n",
       "      <td>{'rate': {'currency': 'USD', 'rate_code': '2A'...</td>\n",
       "      <td>Group C - Toyota Corolla or similar</td>\n",
       "      <td>Toyota</td>\n",
       "      <td>Corolla</td>\n",
       "      <td>ICAR</td>\n",
       "      <td>C</td>\n",
       "      <td>Intermediate</td>\n",
       "      <td>Automatic</td>\n",
       "      <td>29/35</td>\n",
       "    </tr>\n",
       "    <tr>\n",
       "      <th>3</th>\n",
       "      <td>{'bluetooth_equipped': False, 'air_conditioned...</td>\n",
       "      <td>{'doors': '4', 'seats': '5', 'mpg': '24/35', '...</td>\n",
       "      <td>{'rate': {'currency': 'USD', 'rate_code': '2A'...</td>\n",
       "      <td>Group D - Volkswagen Jetta or similar</td>\n",
       "      <td>Volkswagen</td>\n",
       "      <td>Jetta</td>\n",
       "      <td>SCAR</td>\n",
       "      <td>D</td>\n",
       "      <td>Standard</td>\n",
       "      <td>Automatic</td>\n",
       "      <td>24/35</td>\n",
       "    </tr>\n",
       "    <tr>\n",
       "      <th>4</th>\n",
       "      <td>{'bluetooth_equipped': False, 'air_conditioned...</td>\n",
       "      <td>{'doors': '4', 'seats': '5', 'mpg': '22/30', '...</td>\n",
       "      <td>{'rate': {'currency': 'USD', 'rate_code': '2A'...</td>\n",
       "      <td>Group E - Toyota Camry or similar</td>\n",
       "      <td>Toyota</td>\n",
       "      <td>Camry</td>\n",
       "      <td>FCAR</td>\n",
       "      <td>E</td>\n",
       "      <td>Full-Size</td>\n",
       "      <td>Automatic</td>\n",
       "      <td>22/30</td>\n",
       "    </tr>\n",
       "  </tbody>\n",
       "</table>\n",
       "</div>"
      ],
      "text/plain": [
       "                                            features  \\\n",
       "0  {'bluetooth_equipped': False, 'smoke_free': Tr...   \n",
       "1  {'bluetooth_equipped': False, 'smoke_free': Tr...   \n",
       "2  {'bluetooth_equipped': False, 'smoke_free': Tr...   \n",
       "3  {'bluetooth_equipped': False, 'air_conditioned...   \n",
       "4  {'bluetooth_equipped': False, 'air_conditioned...   \n",
       "\n",
       "                                            capacity  \\\n",
       "0  {'doors': '4', 'seats': '5', 'mpg': '27/35', '...   \n",
       "1  {'doors': '4', 'seats': '5', 'mpg': '25/29', '...   \n",
       "2  {'doors': '4', 'seats': '5', 'mpg': '29/35', '...   \n",
       "3  {'doors': '4', 'seats': '5', 'mpg': '24/35', '...   \n",
       "4  {'doors': '4', 'seats': '5', 'mpg': '22/30', '...   \n",
       "\n",
       "                                         rate_totals  \\\n",
       "0  {'rate': {'currency': 'USD', 'rate_code': '2A'...   \n",
       "1  {'rate': {'currency': 'USD', 'rate_code': '2A'...   \n",
       "2  {'rate': {'currency': 'USD', 'rate_code': '2A'...   \n",
       "3  {'rate': {'currency': 'USD', 'rate_code': '2A'...   \n",
       "4  {'rate': {'currency': 'USD', 'rate_code': '2A'...   \n",
       "\n",
       "                                    name        make    model sipp_code  \\\n",
       "0                 Ford Fiesta or similar         Kia      Rio      ECAR   \n",
       "1          Group B - Kia Soul or similar         Kia     Soul      CCAR   \n",
       "2    Group C - Toyota Corolla or similar      Toyota  Corolla      ICAR   \n",
       "3  Group D - Volkswagen Jetta or similar  Volkswagen    Jetta      SCAR   \n",
       "4      Group E - Toyota Camry or similar      Toyota    Camry      FCAR   \n",
       "\n",
       "  vehicle_class_code vehicle_class_name vehicle_transmission    mpg  \n",
       "0                  A            Economy            Automatic  27/35  \n",
       "1                  B            Compact            Automatic  25/29  \n",
       "2                  C       Intermediate            Automatic  29/35  \n",
       "3                  D           Standard            Automatic  24/35  \n",
       "4                  E          Full-Size            Automatic  22/30  "
      ]
     },
     "execution_count": 137,
     "metadata": {},
     "output_type": "execute_result"
    }
   ],
   "source": [
    "data = getdata(token)\n",
    "\n",
    "df = pd.DataFrame.from_dict(data['vehicles'])\n",
    "objs = [df, pd.DataFrame(df['category'].tolist()).iloc[:, :8]]\n",
    "\n",
    "df2 = pd.concat(objs, axis=1).drop('category', axis=1)\n",
    "#df2 = pd.concat(objs_2, axis=1).drop('features', axis=1)\n",
    "df2.head()\n",
    "\n",
    "##still working on spliting columns##"
   ]
  }
 ],
 "metadata": {
  "kernelspec": {
   "display_name": "Python 3.9.7 ('base')",
   "language": "python",
   "name": "python3"
  },
  "language_info": {
   "codemirror_mode": {
    "name": "ipython",
    "version": 3
   },
   "file_extension": ".py",
   "mimetype": "text/x-python",
   "name": "python",
   "nbconvert_exporter": "python",
   "pygments_lexer": "ipython3",
   "version": "3.9.7"
  },
  "orig_nbformat": 4,
  "vscode": {
   "interpreter": {
    "hash": "9dd1b7c3579aa78dba9c9fdc2ad57061e27604eb4bf839312a4969b1cdaf9bba"
   }
  }
 },
 "nbformat": 4,
 "nbformat_minor": 2
}
