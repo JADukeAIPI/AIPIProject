{
 "cells": [
  {
   "cell_type": "code",
   "execution_count": 1,
   "metadata": {},
   "outputs": [],
   "source": [
    "import pandas as pd\n",
    "import numpy as np\n",
    "import matplotlib.pyplot as plt\n",
    "from sklearn.linear_model import LinearRegression\n",
    "from datetime import datetime as dt\n",
    "import pickle"
   ]
  },
  {
   "cell_type": "code",
   "execution_count": 2,
   "metadata": {},
   "outputs": [
    {
     "data": {
      "text/html": [
       "<div>\n",
       "<style scoped>\n",
       "    .dataframe tbody tr th:only-of-type {\n",
       "        vertical-align: middle;\n",
       "    }\n",
       "\n",
       "    .dataframe tbody tr th {\n",
       "        vertical-align: top;\n",
       "    }\n",
       "\n",
       "    .dataframe thead th {\n",
       "        text-align: right;\n",
       "    }\n",
       "</style>\n",
       "<table border=\"1\" class=\"dataframe\">\n",
       "  <thead>\n",
       "    <tr style=\"text-align: right;\">\n",
       "      <th></th>\n",
       "      <th>Unnamed: 0</th>\n",
       "      <th>Vehicle_id</th>\n",
       "      <th>Vehicle_Name</th>\n",
       "      <th>Category</th>\n",
       "      <th>Transmission</th>\n",
       "      <th>Base_Price</th>\n",
       "      <th>Price</th>\n",
       "      <th>Date_Pickup</th>\n",
       "      <th>Date_Dropoff</th>\n",
       "    </tr>\n",
       "  </thead>\n",
       "  <tbody>\n",
       "    <tr>\n",
       "      <th>0</th>\n",
       "      <td>227</td>\n",
       "      <td>644881573</td>\n",
       "      <td>Cadillac XTS</td>\n",
       "      <td>Luxury</td>\n",
       "      <td>Automatic</td>\n",
       "      <td>150.09</td>\n",
       "      <td>155.52</td>\n",
       "      <td>2022-11-20</td>\n",
       "      <td>2022-11-21</td>\n",
       "    </tr>\n",
       "    <tr>\n",
       "      <th>1</th>\n",
       "      <td>223</td>\n",
       "      <td>636479888</td>\n",
       "      <td>Cadillac XTS</td>\n",
       "      <td>Luxury</td>\n",
       "      <td>Automatic</td>\n",
       "      <td>143.49</td>\n",
       "      <td>148.68</td>\n",
       "      <td>2022-11-20</td>\n",
       "      <td>2022-11-21</td>\n",
       "    </tr>\n",
       "    <tr>\n",
       "      <th>2</th>\n",
       "      <td>194</td>\n",
       "      <td>646119413</td>\n",
       "      <td>Cadillac XTS</td>\n",
       "      <td>Luxury</td>\n",
       "      <td>Automatic</td>\n",
       "      <td>137.69</td>\n",
       "      <td>142.67</td>\n",
       "      <td>2022-11-20</td>\n",
       "      <td>2022-11-21</td>\n",
       "    </tr>\n",
       "    <tr>\n",
       "      <th>3</th>\n",
       "      <td>208</td>\n",
       "      <td>644901168</td>\n",
       "      <td>Cadillac XTS</td>\n",
       "      <td>Luxury</td>\n",
       "      <td>Automatic</td>\n",
       "      <td>132.64</td>\n",
       "      <td>137.43</td>\n",
       "      <td>2022-11-20</td>\n",
       "      <td>2022-11-21</td>\n",
       "    </tr>\n",
       "    <tr>\n",
       "      <th>4</th>\n",
       "      <td>230</td>\n",
       "      <td>636492688</td>\n",
       "      <td>Cadillac XTS</td>\n",
       "      <td>Luxury</td>\n",
       "      <td>Automatic</td>\n",
       "      <td>126.12</td>\n",
       "      <td>130.68</td>\n",
       "      <td>2022-11-20</td>\n",
       "      <td>2022-11-21</td>\n",
       "    </tr>\n",
       "  </tbody>\n",
       "</table>\n",
       "</div>"
      ],
      "text/plain": [
       "   Unnamed: 0  Vehicle_id    Vehicle_Name Category Transmission  Base_Price  \\\n",
       "0         227   644881573  Cadillac XTS     Luxury    Automatic      150.09   \n",
       "1         223   636479888  Cadillac XTS     Luxury    Automatic      143.49   \n",
       "2         194   646119413    Cadillac XTS   Luxury    Automatic      137.69   \n",
       "3         208   644901168  Cadillac XTS     Luxury    Automatic      132.64   \n",
       "4         230   636492688  Cadillac XTS     Luxury    Automatic      126.12   \n",
       "\n",
       "    Price Date_Pickup Date_Dropoff  \n",
       "0  155.52  2022-11-20   2022-11-21  \n",
       "1  148.68  2022-11-20   2022-11-21  \n",
       "2  142.67  2022-11-20   2022-11-21  \n",
       "3  137.43  2022-11-20   2022-11-21  \n",
       "4  130.68  2022-11-20   2022-11-21  "
      ]
     },
     "execution_count": 2,
     "metadata": {},
     "output_type": "execute_result"
    }
   ],
   "source": [
    "df = pd.read_csv('Data/LuxuryAPI.csv')\n",
    "df[['Date_Pickup','Date_Dropoff']] = df[['Date_Pickup','Date_Dropoff']].apply(pd.to_datetime)\n",
    "df.head()"
   ]
  },
  {
   "cell_type": "code",
   "execution_count": 3,
   "metadata": {},
   "outputs": [],
   "source": [
    "start_date = df['Date_Pickup'].iloc[0].strftime('%Y-%m-%d')\n",
    "end_date = df['Date_Pickup'].iloc[-1].strftime('%Y-%m-%d')\n",
    "date_range = pd.date_range(start=start_date, end=end_date, freq='D')\n",
    "count = [((df['Date_Pickup'] <= d) & (d <= df['Date_Dropoff'])).sum() for d in date_range]"
   ]
  },
  {
   "cell_type": "code",
   "execution_count": 4,
   "metadata": {},
   "outputs": [
    {
     "data": {
      "text/html": [
       "<div>\n",
       "<style scoped>\n",
       "    .dataframe tbody tr th:only-of-type {\n",
       "        vertical-align: middle;\n",
       "    }\n",
       "\n",
       "    .dataframe tbody tr th {\n",
       "        vertical-align: top;\n",
       "    }\n",
       "\n",
       "    .dataframe thead th {\n",
       "        text-align: right;\n",
       "    }\n",
       "</style>\n",
       "<table border=\"1\" class=\"dataframe\">\n",
       "  <thead>\n",
       "    <tr style=\"text-align: right;\">\n",
       "      <th></th>\n",
       "      <th>Date</th>\n",
       "      <th>Count</th>\n",
       "      <th>Average Price</th>\n",
       "    </tr>\n",
       "  </thead>\n",
       "  <tbody>\n",
       "    <tr>\n",
       "      <th>0</th>\n",
       "      <td>2022-11-20</td>\n",
       "      <td>13</td>\n",
       "      <td>125.356154</td>\n",
       "    </tr>\n",
       "    <tr>\n",
       "      <th>1</th>\n",
       "      <td>2022-11-21</td>\n",
       "      <td>37</td>\n",
       "      <td>136.171667</td>\n",
       "    </tr>\n",
       "    <tr>\n",
       "      <th>2</th>\n",
       "      <td>2022-11-22</td>\n",
       "      <td>39</td>\n",
       "      <td>227.619333</td>\n",
       "    </tr>\n",
       "    <tr>\n",
       "      <th>3</th>\n",
       "      <td>2022-11-23</td>\n",
       "      <td>17</td>\n",
       "      <td>383.125000</td>\n",
       "    </tr>\n",
       "    <tr>\n",
       "      <th>4</th>\n",
       "      <td>2022-11-24</td>\n",
       "      <td>4</td>\n",
       "      <td>365.250000</td>\n",
       "    </tr>\n",
       "  </tbody>\n",
       "</table>\n",
       "</div>"
      ],
      "text/plain": [
       "        Date  Count  Average Price\n",
       "0 2022-11-20     13     125.356154\n",
       "1 2022-11-21     37     136.171667\n",
       "2 2022-11-22     39     227.619333\n",
       "3 2022-11-23     17     383.125000\n",
       "4 2022-11-24      4     365.250000"
      ]
     },
     "execution_count": 4,
     "metadata": {},
     "output_type": "execute_result"
    }
   ],
   "source": [
    "data = {'Date': date_range, 'Count':count}\n",
    "df_model = pd.DataFrame(data=data)\n",
    "df_model['Average Price'] = df.groupby(['Date_Pickup'])['Price'].mean().values\n",
    "df_model.head()"
   ]
  },
  {
   "cell_type": "code",
   "execution_count": 5,
   "metadata": {},
   "outputs": [
    {
     "data": {
      "text/html": [
       "<div>\n",
       "<style scoped>\n",
       "    .dataframe tbody tr th:only-of-type {\n",
       "        vertical-align: middle;\n",
       "    }\n",
       "\n",
       "    .dataframe tbody tr th {\n",
       "        vertical-align: top;\n",
       "    }\n",
       "\n",
       "    .dataframe thead th {\n",
       "        text-align: right;\n",
       "    }\n",
       "</style>\n",
       "<table border=\"1\" class=\"dataframe\">\n",
       "  <thead>\n",
       "    <tr style=\"text-align: right;\">\n",
       "      <th></th>\n",
       "      <th>Count</th>\n",
       "      <th>Average Price</th>\n",
       "      <th>Ordinal Date</th>\n",
       "      <th>Mercedes-Benz Stadium</th>\n",
       "      <th>State Farm Arena</th>\n",
       "    </tr>\n",
       "  </thead>\n",
       "  <tbody>\n",
       "    <tr>\n",
       "      <th>0</th>\n",
       "      <td>13</td>\n",
       "      <td>125.356154</td>\n",
       "      <td>738479</td>\n",
       "      <td>1</td>\n",
       "      <td>0</td>\n",
       "    </tr>\n",
       "    <tr>\n",
       "      <th>1</th>\n",
       "      <td>37</td>\n",
       "      <td>136.171667</td>\n",
       "      <td>738480</td>\n",
       "      <td>0</td>\n",
       "      <td>0</td>\n",
       "    </tr>\n",
       "    <tr>\n",
       "      <th>2</th>\n",
       "      <td>39</td>\n",
       "      <td>227.619333</td>\n",
       "      <td>738481</td>\n",
       "      <td>0</td>\n",
       "      <td>1</td>\n",
       "    </tr>\n",
       "    <tr>\n",
       "      <th>3</th>\n",
       "      <td>17</td>\n",
       "      <td>383.125000</td>\n",
       "      <td>738482</td>\n",
       "      <td>0</td>\n",
       "      <td>1</td>\n",
       "    </tr>\n",
       "    <tr>\n",
       "      <th>4</th>\n",
       "      <td>4</td>\n",
       "      <td>365.250000</td>\n",
       "      <td>738483</td>\n",
       "      <td>0</td>\n",
       "      <td>0</td>\n",
       "    </tr>\n",
       "  </tbody>\n",
       "</table>\n",
       "</div>"
      ],
      "text/plain": [
       "   Count  Average Price  Ordinal Date  Mercedes-Benz Stadium  State Farm Arena\n",
       "0     13     125.356154        738479                      1                 0\n",
       "1     37     136.171667        738480                      0                 0\n",
       "2     39     227.619333        738481                      0                 1\n",
       "3     17     383.125000        738482                      0                 1\n",
       "4      4     365.250000        738483                      0                 0"
      ]
     },
     "execution_count": 5,
     "metadata": {},
     "output_type": "execute_result"
    }
   ],
   "source": [
    "df_events = pd.read_csv('Data/Events.csv')\n",
    "df_events = df_events[['Dates','Location']]\n",
    "df_events['Dates'] = pd.to_datetime(df_events['Dates'])\n",
    "df_model = df_model.set_index('Date').join(df_events.set_index('Dates'))\n",
    "df_model['Ordinal Date'] = df_model.index.to_series().apply(lambda x: x.toordinal())\n",
    "df_model = df_model.join(pd.get_dummies(df_model['Location']))\n",
    "df_model.drop(columns=['Location'], inplace = True)\n",
    "df_model.reset_index(drop=True, inplace = True)\n",
    "df_model.head()"
   ]
  },
  {
   "cell_type": "code",
   "execution_count": 6,
   "metadata": {},
   "outputs": [
    {
     "data": {
      "text/html": [
       "<div>\n",
       "<style scoped>\n",
       "    .dataframe tbody tr th:only-of-type {\n",
       "        vertical-align: middle;\n",
       "    }\n",
       "\n",
       "    .dataframe tbody tr th {\n",
       "        vertical-align: top;\n",
       "    }\n",
       "\n",
       "    .dataframe thead th {\n",
       "        text-align: right;\n",
       "    }\n",
       "</style>\n",
       "<table border=\"1\" class=\"dataframe\">\n",
       "  <thead>\n",
       "    <tr style=\"text-align: right;\">\n",
       "      <th></th>\n",
       "      <th>Average Price</th>\n",
       "      <th>Ordinal Date</th>\n",
       "      <th>Mercedes-Benz Stadium</th>\n",
       "      <th>State Farm Arena</th>\n",
       "    </tr>\n",
       "  </thead>\n",
       "  <tbody>\n",
       "    <tr>\n",
       "      <th>0</th>\n",
       "      <td>125.356154</td>\n",
       "      <td>738479</td>\n",
       "      <td>1</td>\n",
       "      <td>0</td>\n",
       "    </tr>\n",
       "  </tbody>\n",
       "</table>\n",
       "</div>"
      ],
      "text/plain": [
       "   Average Price  Ordinal Date  Mercedes-Benz Stadium  State Farm Arena\n",
       "0     125.356154        738479                      1                 0"
      ]
     },
     "metadata": {},
     "output_type": "display_data"
    },
    {
     "data": {
      "text/plain": [
       "0    13\n",
       "Name: Count, dtype: int64"
      ]
     },
     "execution_count": 6,
     "metadata": {},
     "output_type": "execute_result"
    }
   ],
   "source": [
    "baseline_count = df_model['Count'].mean()\n",
    "X = df_model.drop(columns = 'Count')\n",
    "y = df_model['Count']\n",
    "display(X.head(1))\n",
    "y.head(1)"
   ]
  },
  {
   "cell_type": "code",
   "execution_count": 8,
   "metadata": {},
   "outputs": [],
   "source": [
    "model = LinearRegression()\n",
    "model.fit(X,y)\n",
    "pickle.dump(model, open('count_model.pkl', 'wb'))"
   ]
  },
  {
   "cell_type": "code",
   "execution_count": 9,
   "metadata": {},
   "outputs": [],
   "source": [
    "d = dt.strptime('2023-03-03', '%Y-%m-%d').date()\n",
    "d = d.toordinal()\n",
    "pred_input = np.array([df_model['Average Price'].mean(), d, 0, 0])\n",
    "pred_input = pred_input.reshape(1,4)\n",
    "pred_df = pd.DataFrame(data = pred_input, columns = X.columns)"
   ]
  },
  {
   "cell_type": "code",
   "execution_count": 10,
   "metadata": {},
   "outputs": [
    {
     "data": {
      "text/plain": [
       "10.233588380887378"
      ]
     },
     "execution_count": 10,
     "metadata": {},
     "output_type": "execute_result"
    }
   ],
   "source": [
    "preds = model.predict(pred_df)\n",
    "(preds[0] - baseline_count) / baseline_count * 100"
   ]
  }
 ],
 "metadata": {
  "kernelspec": {
   "display_name": "Python 3.9.12 ('base')",
   "language": "python",
   "name": "python3"
  },
  "language_info": {
   "codemirror_mode": {
    "name": "ipython",
    "version": 3
   },
   "file_extension": ".py",
   "mimetype": "text/x-python",
   "name": "python",
   "nbconvert_exporter": "python",
   "pygments_lexer": "ipython3",
   "version": "3.9.12"
  },
  "orig_nbformat": 4,
  "vscode": {
   "interpreter": {
    "hash": "8c79b1dfd1da986468e044c01663f058c371b2dfabbecef8a56234df4ab5eeef"
   }
  }
 },
 "nbformat": 4,
 "nbformat_minor": 2
}
