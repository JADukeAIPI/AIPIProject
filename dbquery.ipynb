{
 "cells": [
  {
   "cell_type": "code",
   "execution_count": 1,
   "metadata": {},
   "outputs": [],
   "source": [
    "import pandas as pd\n",
    "import sqlite3 as db\n",
    "import numpy as np\n",
    "\n",
    "import datetime\n",
    "from datetime import datetime, timedelta, date"
   ]
  },
  {
   "cell_type": "code",
   "execution_count": 2,
   "metadata": {},
   "outputs": [],
   "source": [
    "def rental_availability():\n",
    "    '''\n",
    "    Joins the LuxuryAPI, Regular API, Kaggle CSV, and the Webscraping events into one query. It then returns rental availability\n",
    "    and an event schedule based on the date provided. \n",
    "\n",
    "    Inputs:\n",
    "\n",
    "    LuxuryAPI table\n",
    "    API table\n",
    "    Kaggle table\n",
    "    WebScrape table    \n",
    "\n",
    "    Returns:\n",
    "\n",
    "    A single query with rental availability\n",
    "        \n",
    "    '''\n",
    "\n",
    "    # YOUR CODE HERE\n",
    "    conn = db.connect('rentaldb')\n",
    "    c = conn.cursor()\n",
    "    query = f'''\n",
    "        SELECT\n",
    "            LuxuryAPI.model, API.Vehicle_Name, Kaggle.model, LuxuryAPI.pickupdate, Kaggle.daily_rate, API.Base_Price, Webscrape.Event, Webscrape.Dates\n",
    "        FROM \n",
    "            LuxuryAPI\n",
    "            Left JOIN API ON API.Vehicle_Name = LuxuryAPI.model\n",
    "            Left JOIN Kaggle ON Kaggle.model = LuxuryAPI.model\n",
    "            Left JOIN Webscrape ON Webscrape.Dates = LuxuryAPI.pickupdate\n",
    "        \n",
    "    '''\n",
    "    c.execute(query)\n",
    "    availability = c.fetchall()\n",
    "    return availability"
   ]
  },
  {
   "cell_type": "code",
   "execution_count": 3,
   "metadata": {},
   "outputs": [],
   "source": [
    "conn = db.connect('rentaldb')"
   ]
  },
  {
   "cell_type": "code",
   "execution_count": 4,
   "metadata": {},
   "outputs": [],
   "source": [
    "c = conn.cursor()"
   ]
  },
  {
   "cell_type": "code",
   "execution_count": 5,
   "metadata": {},
   "outputs": [
    {
     "name": "stdout",
     "output_type": "stream",
     "text": [
      "LuxuryAPI\n"
     ]
    },
    {
     "data": {
      "text/html": [
       "<div>\n",
       "<style scoped>\n",
       "    .dataframe tbody tr th:only-of-type {\n",
       "        vertical-align: middle;\n",
       "    }\n",
       "\n",
       "    .dataframe tbody tr th {\n",
       "        vertical-align: top;\n",
       "    }\n",
       "\n",
       "    .dataframe thead th {\n",
       "        text-align: right;\n",
       "    }\n",
       "</style>\n",
       "<table border=\"1\" class=\"dataframe\">\n",
       "  <thead>\n",
       "    <tr style=\"text-align: right;\">\n",
       "      <th></th>\n",
       "      <th>index</th>\n",
       "      <th>Vehicle_id</th>\n",
       "      <th>Vehicle Name</th>\n",
       "      <th>Category</th>\n",
       "      <th>Transmission</th>\n",
       "      <th>Base Price</th>\n",
       "      <th>Price</th>\n",
       "      <th>Date Pickup</th>\n",
       "      <th>Date Dropoff</th>\n",
       "    </tr>\n",
       "  </thead>\n",
       "  <tbody>\n",
       "    <tr>\n",
       "      <th>0</th>\n",
       "      <td>208</td>\n",
       "      <td>644881573</td>\n",
       "      <td>Cadillac XTS</td>\n",
       "      <td>Luxury</td>\n",
       "      <td>Automatic</td>\n",
       "      <td>171.26</td>\n",
       "      <td>178.20</td>\n",
       "      <td>2022-11-18</td>\n",
       "      <td>2022-11-19</td>\n",
       "    </tr>\n",
       "    <tr>\n",
       "      <th>1</th>\n",
       "      <td>237</td>\n",
       "      <td>636479888</td>\n",
       "      <td>Cadillac XTS</td>\n",
       "      <td>Luxury</td>\n",
       "      <td>Automatic</td>\n",
       "      <td>164.51</td>\n",
       "      <td>171.18</td>\n",
       "      <td>2022-11-18</td>\n",
       "      <td>2022-11-19</td>\n",
       "    </tr>\n",
       "    <tr>\n",
       "      <th>2</th>\n",
       "      <td>215</td>\n",
       "      <td>646119413</td>\n",
       "      <td>Cadillac XTS</td>\n",
       "      <td>Luxury</td>\n",
       "      <td>Automatic</td>\n",
       "      <td>158.72</td>\n",
       "      <td>165.16</td>\n",
       "      <td>2022-11-18</td>\n",
       "      <td>2022-11-19</td>\n",
       "    </tr>\n",
       "    <tr>\n",
       "      <th>3</th>\n",
       "      <td>232</td>\n",
       "      <td>644901168</td>\n",
       "      <td>Cadillac XTS</td>\n",
       "      <td>Luxury</td>\n",
       "      <td>Automatic</td>\n",
       "      <td>153.78</td>\n",
       "      <td>160.02</td>\n",
       "      <td>2022-11-18</td>\n",
       "      <td>2022-11-19</td>\n",
       "    </tr>\n",
       "    <tr>\n",
       "      <th>4</th>\n",
       "      <td>235</td>\n",
       "      <td>636492688</td>\n",
       "      <td>Cadillac XTS</td>\n",
       "      <td>Luxury</td>\n",
       "      <td>Automatic</td>\n",
       "      <td>147.14</td>\n",
       "      <td>153.11</td>\n",
       "      <td>2022-11-18</td>\n",
       "      <td>2022-11-19</td>\n",
       "    </tr>\n",
       "  </tbody>\n",
       "</table>\n",
       "</div>"
      ],
      "text/plain": [
       "   index Vehicle_id    Vehicle Name Category Transmission  Base Price   Price  \\\n",
       "0    208  644881573  Cadillac XTS     Luxury    Automatic      171.26  178.20   \n",
       "1    237  636479888  Cadillac XTS     Luxury    Automatic      164.51  171.18   \n",
       "2    215  646119413    Cadillac XTS   Luxury    Automatic      158.72  165.16   \n",
       "3    232  644901168  Cadillac XTS     Luxury    Automatic      153.78  160.02   \n",
       "4    235  636492688  Cadillac XTS     Luxury    Automatic      147.14  153.11   \n",
       "\n",
       "  Date Pickup Date Dropoff  \n",
       "0  2022-11-18   2022-11-19  \n",
       "1  2022-11-18   2022-11-19  \n",
       "2  2022-11-18   2022-11-19  \n",
       "3  2022-11-18   2022-11-19  \n",
       "4  2022-11-18   2022-11-19  "
      ]
     },
     "metadata": {},
     "output_type": "display_data"
    }
   ],
   "source": [
    "luxdf = pd.read_sql_query(\"SELECT * FROM LuxuryAPI\", conn)\n",
    "print('LuxuryAPI')\n",
    "display(luxdf.head())"
   ]
  },
  {
   "cell_type": "code",
   "execution_count": 6,
   "metadata": {},
   "outputs": [
    {
     "ename": "OperationalError",
     "evalue": "no such column: LuxuryAPI.model",
     "output_type": "error",
     "traceback": [
      "\u001b[1;31m---------------------------------------------------------------------------\u001b[0m",
      "\u001b[1;31mOperationalError\u001b[0m                          Traceback (most recent call last)",
      "\u001b[1;32mc:\\Dev\\Working\\AIPIProject\\dbquery.ipynb Cell 6\u001b[0m in \u001b[0;36m<cell line: 1>\u001b[1;34m()\u001b[0m\n\u001b[1;32m----> <a href='vscode-notebook-cell:/c%3A/Dev/Working/AIPIProject/dbquery.ipynb#W5sZmlsZQ%3D%3D?line=0'>1</a>\u001b[0m rental_availability()\n",
      "\u001b[1;32mc:\\Dev\\Working\\AIPIProject\\dbquery.ipynb Cell 6\u001b[0m in \u001b[0;36mrental_availability\u001b[1;34m()\u001b[0m\n\u001b[0;32m     <a href='vscode-notebook-cell:/c%3A/Dev/Working/AIPIProject/dbquery.ipynb#W5sZmlsZQ%3D%3D?line=20'>21</a>\u001b[0m c \u001b[39m=\u001b[39m conn\u001b[39m.\u001b[39mcursor()\n\u001b[0;32m     <a href='vscode-notebook-cell:/c%3A/Dev/Working/AIPIProject/dbquery.ipynb#W5sZmlsZQ%3D%3D?line=21'>22</a>\u001b[0m query \u001b[39m=\u001b[39m \u001b[39mf\u001b[39m\u001b[39m'''\u001b[39m\n\u001b[0;32m     <a href='vscode-notebook-cell:/c%3A/Dev/Working/AIPIProject/dbquery.ipynb#W5sZmlsZQ%3D%3D?line=22'>23</a>\u001b[0m \u001b[39m    SELECT\u001b[39m\n\u001b[0;32m     <a href='vscode-notebook-cell:/c%3A/Dev/Working/AIPIProject/dbquery.ipynb#W5sZmlsZQ%3D%3D?line=23'>24</a>\u001b[0m \u001b[39m        LuxuryAPI.model, API.Vehicle_Name, Kaggle.model, LuxuryAPI.pickupdate, Kaggle.daily_rate, API.Base_Price, Webscrape.Event, Webscrape.Dates\u001b[39m\n\u001b[1;32m   (...)\u001b[0m\n\u001b[0;32m     <a href='vscode-notebook-cell:/c%3A/Dev/Working/AIPIProject/dbquery.ipynb#W5sZmlsZQ%3D%3D?line=29'>30</a>\u001b[0m \u001b[39m    \u001b[39m\n\u001b[0;32m     <a href='vscode-notebook-cell:/c%3A/Dev/Working/AIPIProject/dbquery.ipynb#W5sZmlsZQ%3D%3D?line=30'>31</a>\u001b[0m \u001b[39m\u001b[39m\u001b[39m'''\u001b[39m\n\u001b[1;32m---> <a href='vscode-notebook-cell:/c%3A/Dev/Working/AIPIProject/dbquery.ipynb#W5sZmlsZQ%3D%3D?line=31'>32</a>\u001b[0m c\u001b[39m.\u001b[39;49mexecute(query)\n\u001b[0;32m     <a href='vscode-notebook-cell:/c%3A/Dev/Working/AIPIProject/dbquery.ipynb#W5sZmlsZQ%3D%3D?line=32'>33</a>\u001b[0m availability \u001b[39m=\u001b[39m c\u001b[39m.\u001b[39mfetchall()\n\u001b[0;32m     <a href='vscode-notebook-cell:/c%3A/Dev/Working/AIPIProject/dbquery.ipynb#W5sZmlsZQ%3D%3D?line=33'>34</a>\u001b[0m \u001b[39mreturn\u001b[39;00m availability\n",
      "\u001b[1;31mOperationalError\u001b[0m: no such column: LuxuryAPI.model"
     ]
    }
   ],
   "source": [
    "rental_availability()"
   ]
  }
 ],
 "metadata": {
  "kernelspec": {
   "display_name": "Python 3.9.12 ('base')",
   "language": "python",
   "name": "python3"
  },
  "language_info": {
   "codemirror_mode": {
    "name": "ipython",
    "version": 3
   },
   "file_extension": ".py",
   "mimetype": "text/x-python",
   "name": "python",
   "nbconvert_exporter": "python",
   "pygments_lexer": "ipython3",
   "version": "3.9.12"
  },
  "orig_nbformat": 4,
  "vscode": {
   "interpreter": {
    "hash": "3071ee50c89c1c794c04ecbcb4eb8f9585468a45756c3a74d8e9479e4a2bc436"
   }
  }
 },
 "nbformat": 4,
 "nbformat_minor": 2
}
