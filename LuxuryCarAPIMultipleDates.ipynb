{
  "cells": [
    {
      "cell_type": "markdown",
      "metadata": {
        "colab_type": "text",
        "id": "view-in-github"
      },
      "source": [
        "<a href=\"https://colab.research.google.com/github/JADukeAIPI/AIPIProject/blob/main/LuxuryCarAPIMultipleDates.ipynb\" target=\"_parent\"><img src=\"https://colab.research.google.com/assets/colab-badge.svg\" alt=\"Open In Colab\"/></a>"
      ]
    },
    {
      "cell_type": "markdown",
      "metadata": {
        "id": "MdSCRVaHDoLR"
      },
      "source": [
        "AIPI 510 PROJECT"
      ]
    },
    {
      "cell_type": "markdown",
      "metadata": {
        "id": "Z0Dpk55fxTxd"
      },
      "source": [
        "This will allow for generating a dataframe of 'luxury' cars for several dates (currently set up to start from today and checks for 24 hour bookings for each day for next x days). The groupby at the end shows the number of vehicles available for each day, which could indirectly give us how many reservations if we assume the cars are picked up and returned in atlanta and the fleet inventory is stable."
      ]
    },
    {
      "cell_type": "code",
      "execution_count": 3,
      "metadata": {
        "id": "uDvvBsV0DoLU"
      },
      "outputs": [],
      "source": [
        "from bs4 import BeautifulSoup\n",
        "import pandas as pd\n",
        "import numpy as np\n",
        "import requests\n",
        "import matplotlib.pyplot as plt\n",
        "import requests\n",
        "import datetime\n",
        "from datetime import datetime, timedelta, date"
      ]
    },
    {
      "cell_type": "code",
      "execution_count": 4,
      "metadata": {
        "id": "EpLpfGtomlVi"
      },
      "outputs": [],
      "source": [
        "today_date = datetime.today().strftime('%Y-%m-%d')\n",
        "\n",
        "def get_date(number_days_from_today):\n",
        "\n",
        "  end_date = datetime.today() + timedelta(days=number_days_from_today)\n",
        "  end_date=end_date.strftime('%Y-%m-%d')\n",
        "  return end_date\n",
        "\n"
      ]
    },
    {
      "cell_type": "markdown",
      "metadata": {
        "id": "PnMbuw8YDoLW"
      },
      "source": [
        "Getting Booking.com Rental Car API:\n"
      ]
    },
    {
      "cell_type": "code",
      "execution_count": 5,
      "metadata": {
        "id": "HQCUd8HuDoLX"
      },
      "outputs": [],
      "source": [
        "def get_booking_data(start_date, end_date):\n",
        "\turl = \"https://booking-com.p.rapidapi.com/v1/car-rental/search\"\n",
        "\tquerystring = {\"drop_off_longitude\":\"-84.419853\",\"currency\":\"USD\",\"sort_by\":\"recommended\",\"drop_off_datetime\":end_date + ' 15:00:00',\"drop_off_latitude\":\"33.640411\",\"from_country\":\"it\",\"pick_up_longitude\":\"-84.419853\",\"locale\":\"en-gb\",\"pick_up_datetime\":start_date + \" 15:00:00\",\"pick_up_latitude\":\"33.640411\"}\n",
        "\n",
        "\theaders = {\n",
        "\t\t\"X-RapidAPI-Key\": \"e2bfcb999amshb4c19de5b3c019ap1f1c11jsn1d16c1bf87d9\",\n",
        "\t\t\"X-RapidAPI-Host\": \"booking-com.p.rapidapi.com\"}\n",
        "\n",
        "\tresponse = requests.request(\"GET\", url, headers=headers, params=querystring)\n",
        "\tresults = response.json()\n",
        "\tdf = pd.json_normalize(results, record_path =['search_results'])\n",
        "\n",
        "\treturn df\n"
      ]
    },
    {
      "cell_type": "code",
      "execution_count": 10,
      "metadata": {
        "id": "blRx5SNfDoLY"
      },
      "outputs": [],
      "source": [
        "def clean_api_df(data_df):\n",
        "  df_cleaned = data_df.copy()\n",
        "  \n",
        "  #filter to the columns we want to keep\n",
        "  columns_to_keep = ['vehicle_info.v_id', 'vehicle_info.v_name', 'vehicle_info.group', 'vehicle_info.transmission', 'pricing_info.base_price', 'pricing_info.price']\n",
        "  #filter to the types of vehicles in vehicle.group\n",
        "  vehicle_groups_to_keep = ['Luxury']\n",
        "  df_cleaned=df_cleaned[columns_to_keep]\n",
        "  #df_cleaned=df_cleaned[df_cleaned['vehicle_info.group'].isin(vehicle_groups_to_keep)]\n",
        "  df_cleaned.rename(columns={'vehicle_info.v_id':'Vehicle_id', 'vehicle_info.v_name': 'Vehicle_Name', 'vehicle_info.group': 'Category', 'pricing_info.base_price': 'Base_Price', 'pricing_info.price': 'Price', 'vehicle_info.transmission': 'Transmission'}, inplace=True)\n",
        "  df_cleaned.sort_values(by='Base_Price', ascending=False, inplace=True)\n",
        "  \n",
        "  return df_cleaned"
      ]
    },
    {
      "cell_type": "code",
      "execution_count": 11,
      "metadata": {
        "id": "cGDACzi5ofbC"
      },
      "outputs": [],
      "source": [
        "def get_bookings_multiple_dates(start_date = get_date(1), end_date = get_date(30)):\n",
        "  dfs = []\n",
        "  \n",
        "\n",
        "  day = datetime.strptime(start_date, '%Y-%m-%d')\n",
        "  last_day = datetime.strptime(end_date, '%Y-%m-%d')\n",
        "  iterator=0\n",
        "  while day<last_day:\n",
        "    date_tuple = (day.strftime('%Y-%m-%d'), (day+timedelta(days=1)).strftime('%Y-%m-%d'))\n",
        "\n",
        "    df_partial = clean_api_df(get_booking_data(*date_tuple))\n",
        "    df_partial['Date_Pickup']=date_tuple[0]\n",
        "    df_partial['Date_Dropoff'] = date_tuple[1]\n",
        "    dfs.append(df_partial)\n",
        "    day=day+timedelta(days=1)\n",
        "\n",
        "\n",
        "  df = pd.concat([dfs[i] for i in range(len(dfs))], axis=0) \n",
        "\n",
        "  return df\n",
        "\n"
      ]
    },
    {
      "cell_type": "code",
      "execution_count": 12,
      "metadata": {
        "colab": {
          "base_uri": "https://localhost:8080/",
          "height": 419
        },
        "id": "0HSsP8APq4zG",
        "outputId": "c8cc0ea2-055c-46e4-cf79-7173413b3681"
      },
      "outputs": [
        {
          "data": {
            "text/html": [
              "\n",
              "  <div id=\"df-664e7991-f647-40ff-b62f-578c5b7a4116\">\n",
              "    <div class=\"colab-df-container\">\n",
              "      <div>\n",
              "<style scoped>\n",
              "    .dataframe tbody tr th:only-of-type {\n",
              "        vertical-align: middle;\n",
              "    }\n",
              "\n",
              "    .dataframe tbody tr th {\n",
              "        vertical-align: top;\n",
              "    }\n",
              "\n",
              "    .dataframe thead th {\n",
              "        text-align: right;\n",
              "    }\n",
              "</style>\n",
              "<table border=\"1\" class=\"dataframe\">\n",
              "  <thead>\n",
              "    <tr style=\"text-align: right;\">\n",
              "      <th></th>\n",
              "      <th>Vehicle_id</th>\n",
              "      <th>Vehicle_Name</th>\n",
              "      <th>Category</th>\n",
              "      <th>Transmission</th>\n",
              "      <th>Base_Price</th>\n",
              "      <th>Price</th>\n",
              "      <th>Date_Pickup</th>\n",
              "      <th>Date_Dropoff</th>\n",
              "    </tr>\n",
              "  </thead>\n",
              "  <tbody>\n",
              "    <tr>\n",
              "      <th>258</th>\n",
              "      <td>644881578</td>\n",
              "      <td>Ford Mustang  Cabrio</td>\n",
              "      <td>Standard</td>\n",
              "      <td>Automatic</td>\n",
              "      <td>208.88</td>\n",
              "      <td>217.35</td>\n",
              "      <td>2022-11-19</td>\n",
              "      <td>2022-11-20</td>\n",
              "    </tr>\n",
              "    <tr>\n",
              "      <th>260</th>\n",
              "      <td>636479908</td>\n",
              "      <td>Ford Mustang Cabrio</td>\n",
              "      <td>Standard</td>\n",
              "      <td>Automatic</td>\n",
              "      <td>201.93</td>\n",
              "      <td>210.12</td>\n",
              "      <td>2022-11-19</td>\n",
              "      <td>2022-11-20</td>\n",
              "    </tr>\n",
              "    <tr>\n",
              "      <th>259</th>\n",
              "      <td>646119363</td>\n",
              "      <td>Ford Mustang Cabrio</td>\n",
              "      <td>Standard</td>\n",
              "      <td>Automatic</td>\n",
              "      <td>196.13</td>\n",
              "      <td>204.08</td>\n",
              "      <td>2022-11-19</td>\n",
              "      <td>2022-11-20</td>\n",
              "    </tr>\n",
              "    <tr>\n",
              "      <th>245</th>\n",
              "      <td>658131758</td>\n",
              "      <td>Nissan Quest</td>\n",
              "      <td>Full-size</td>\n",
              "      <td>Automatic</td>\n",
              "      <td>195.33</td>\n",
              "      <td>203.25</td>\n",
              "      <td>2022-11-19</td>\n",
              "      <td>2022-11-20</td>\n",
              "    </tr>\n",
              "    <tr>\n",
              "      <th>244</th>\n",
              "      <td>658184283</td>\n",
              "      <td>Nissan Quest</td>\n",
              "      <td>Full-size</td>\n",
              "      <td>Automatic</td>\n",
              "      <td>194.06</td>\n",
              "      <td>201.93</td>\n",
              "      <td>2022-11-19</td>\n",
              "      <td>2022-11-20</td>\n",
              "    </tr>\n",
              "    <tr>\n",
              "      <th>...</th>\n",
              "      <td>...</td>\n",
              "      <td>...</td>\n",
              "      <td>...</td>\n",
              "      <td>...</td>\n",
              "      <td>...</td>\n",
              "      <td>...</td>\n",
              "      <td>...</td>\n",
              "      <td>...</td>\n",
              "    </tr>\n",
              "    <tr>\n",
              "      <th>5</th>\n",
              "      <td>735847001</td>\n",
              "      <td>Mitsubishi Mirage</td>\n",
              "      <td>Economy</td>\n",
              "      <td>Automatic</td>\n",
              "      <td>52.94</td>\n",
              "      <td>55.09</td>\n",
              "      <td>2022-11-19</td>\n",
              "      <td>2022-11-20</td>\n",
              "    </tr>\n",
              "    <tr>\n",
              "      <th>3</th>\n",
              "      <td>735842301</td>\n",
              "      <td>Nissan Versa</td>\n",
              "      <td>Compact</td>\n",
              "      <td>Automatic</td>\n",
              "      <td>52.94</td>\n",
              "      <td>55.09</td>\n",
              "      <td>2022-11-19</td>\n",
              "      <td>2022-11-20</td>\n",
              "    </tr>\n",
              "    <tr>\n",
              "      <th>2</th>\n",
              "      <td>663369008</td>\n",
              "      <td>Wild Card</td>\n",
              "      <td>Special</td>\n",
              "      <td>Automatic</td>\n",
              "      <td>52.80</td>\n",
              "      <td>54.94</td>\n",
              "      <td>2022-11-19</td>\n",
              "      <td>2022-11-20</td>\n",
              "    </tr>\n",
              "    <tr>\n",
              "      <th>1</th>\n",
              "      <td>644837523</td>\n",
              "      <td>Wild Card</td>\n",
              "      <td>Special</td>\n",
              "      <td>Automatic</td>\n",
              "      <td>50.24</td>\n",
              "      <td>52.28</td>\n",
              "      <td>2022-11-19</td>\n",
              "      <td>2022-11-20</td>\n",
              "    </tr>\n",
              "    <tr>\n",
              "      <th>0</th>\n",
              "      <td>662722818</td>\n",
              "      <td>Wild Card</td>\n",
              "      <td>Special</td>\n",
              "      <td>Automatic</td>\n",
              "      <td>50.24</td>\n",
              "      <td>52.28</td>\n",
              "      <td>2022-11-19</td>\n",
              "      <td>2022-11-20</td>\n",
              "    </tr>\n",
              "  </tbody>\n",
              "</table>\n",
              "<p>266 rows × 8 columns</p>\n",
              "</div>\n",
              "      <button class=\"colab-df-convert\" onclick=\"convertToInteractive('df-664e7991-f647-40ff-b62f-578c5b7a4116')\"\n",
              "              title=\"Convert this dataframe to an interactive table.\"\n",
              "              style=\"display:none;\">\n",
              "        \n",
              "  <svg xmlns=\"http://www.w3.org/2000/svg\" height=\"24px\"viewBox=\"0 0 24 24\"\n",
              "       width=\"24px\">\n",
              "    <path d=\"M0 0h24v24H0V0z\" fill=\"none\"/>\n",
              "    <path d=\"M18.56 5.44l.94 2.06.94-2.06 2.06-.94-2.06-.94-.94-2.06-.94 2.06-2.06.94zm-11 1L8.5 8.5l.94-2.06 2.06-.94-2.06-.94L8.5 2.5l-.94 2.06-2.06.94zm10 10l.94 2.06.94-2.06 2.06-.94-2.06-.94-.94-2.06-.94 2.06-2.06.94z\"/><path d=\"M17.41 7.96l-1.37-1.37c-.4-.4-.92-.59-1.43-.59-.52 0-1.04.2-1.43.59L10.3 9.45l-7.72 7.72c-.78.78-.78 2.05 0 2.83L4 21.41c.39.39.9.59 1.41.59.51 0 1.02-.2 1.41-.59l7.78-7.78 2.81-2.81c.8-.78.8-2.07 0-2.86zM5.41 20L4 18.59l7.72-7.72 1.47 1.35L5.41 20z\"/>\n",
              "  </svg>\n",
              "      </button>\n",
              "      \n",
              "  <style>\n",
              "    .colab-df-container {\n",
              "      display:flex;\n",
              "      flex-wrap:wrap;\n",
              "      gap: 12px;\n",
              "    }\n",
              "\n",
              "    .colab-df-convert {\n",
              "      background-color: #E8F0FE;\n",
              "      border: none;\n",
              "      border-radius: 50%;\n",
              "      cursor: pointer;\n",
              "      display: none;\n",
              "      fill: #1967D2;\n",
              "      height: 32px;\n",
              "      padding: 0 0 0 0;\n",
              "      width: 32px;\n",
              "    }\n",
              "\n",
              "    .colab-df-convert:hover {\n",
              "      background-color: #E2EBFA;\n",
              "      box-shadow: 0px 1px 2px rgba(60, 64, 67, 0.3), 0px 1px 3px 1px rgba(60, 64, 67, 0.15);\n",
              "      fill: #174EA6;\n",
              "    }\n",
              "\n",
              "    [theme=dark] .colab-df-convert {\n",
              "      background-color: #3B4455;\n",
              "      fill: #D2E3FC;\n",
              "    }\n",
              "\n",
              "    [theme=dark] .colab-df-convert:hover {\n",
              "      background-color: #434B5C;\n",
              "      box-shadow: 0px 1px 3px 1px rgba(0, 0, 0, 0.15);\n",
              "      filter: drop-shadow(0px 1px 2px rgba(0, 0, 0, 0.3));\n",
              "      fill: #FFFFFF;\n",
              "    }\n",
              "  </style>\n",
              "\n",
              "      <script>\n",
              "        const buttonEl =\n",
              "          document.querySelector('#df-664e7991-f647-40ff-b62f-578c5b7a4116 button.colab-df-convert');\n",
              "        buttonEl.style.display =\n",
              "          google.colab.kernel.accessAllowed ? 'block' : 'none';\n",
              "\n",
              "        async function convertToInteractive(key) {\n",
              "          const element = document.querySelector('#df-664e7991-f647-40ff-b62f-578c5b7a4116');\n",
              "          const dataTable =\n",
              "            await google.colab.kernel.invokeFunction('convertToInteractive',\n",
              "                                                     [key], {});\n",
              "          if (!dataTable) return;\n",
              "\n",
              "          const docLinkHtml = 'Like what you see? Visit the ' +\n",
              "            '<a target=\"_blank\" href=https://colab.research.google.com/notebooks/data_table.ipynb>data table notebook</a>'\n",
              "            + ' to learn more about interactive tables.';\n",
              "          element.innerHTML = '';\n",
              "          dataTable['output_type'] = 'display_data';\n",
              "          await google.colab.output.renderOutput(dataTable, element);\n",
              "          const docLink = document.createElement('div');\n",
              "          docLink.innerHTML = docLinkHtml;\n",
              "          element.appendChild(docLink);\n",
              "        }\n",
              "      </script>\n",
              "    </div>\n",
              "  </div>\n",
              "  "
            ],
            "text/plain": [
              "    Vehicle_id          Vehicle_Name   Category Transmission  Base_Price  \\\n",
              "258  644881578  Ford Mustang  Cabrio   Standard    Automatic      208.88   \n",
              "260  636479908   Ford Mustang Cabrio   Standard    Automatic      201.93   \n",
              "259  646119363   Ford Mustang Cabrio   Standard    Automatic      196.13   \n",
              "245  658131758          Nissan Quest  Full-size    Automatic      195.33   \n",
              "244  658184283          Nissan Quest  Full-size    Automatic      194.06   \n",
              "..         ...                   ...        ...          ...         ...   \n",
              "5    735847001   Mitsubishi Mirage      Economy    Automatic       52.94   \n",
              "3    735842301        Nissan Versa      Compact    Automatic       52.94   \n",
              "2    663369008             Wild Card    Special    Automatic       52.80   \n",
              "1    644837523             Wild Card    Special    Automatic       50.24   \n",
              "0    662722818             Wild Card    Special    Automatic       50.24   \n",
              "\n",
              "      Price Date_Pickup Date_Dropoff  \n",
              "258  217.35  2022-11-19   2022-11-20  \n",
              "260  210.12  2022-11-19   2022-11-20  \n",
              "259  204.08  2022-11-19   2022-11-20  \n",
              "245  203.25  2022-11-19   2022-11-20  \n",
              "244  201.93  2022-11-19   2022-11-20  \n",
              "..      ...         ...          ...  \n",
              "5     55.09  2022-11-19   2022-11-20  \n",
              "3     55.09  2022-11-19   2022-11-20  \n",
              "2     54.94  2022-11-19   2022-11-20  \n",
              "1     52.28  2022-11-19   2022-11-20  \n",
              "0     52.28  2022-11-19   2022-11-20  \n",
              "\n",
              "[266 rows x 8 columns]"
            ]
          },
          "execution_count": 12,
          "metadata": {},
          "output_type": "execute_result"
        }
      ],
      "source": [
        "get_bookings_multiple_dates('2022-11-19', '2022-11-20')\n"
      ]
    },
    {
      "cell_type": "code",
      "execution_count": null,
      "metadata": {
        "id": "Pi7PlMSpyyW2"
      },
      "outputs": [],
      "source": [
        "df_next_60_days = get_bookings_multiple_dates(get_date(1), get_date(60))\n",
        "df_next_60_days"
      ]
    },
    {
      "cell_type": "code",
      "execution_count": null,
      "metadata": {
        "id": "3nWBRBNoq_dK"
      },
      "outputs": [],
      "source": [
        "cars_available = df_next_60_days.groupby('Date Pickup')['Vehicle Name'].count()\n",
        "cars_available"
      ]
    },
    {
      "cell_type": "code",
      "execution_count": null,
      "metadata": {
        "id": "OjfmyWDYegw4"
      },
      "outputs": [],
      "source": [
        "cars_available.plot()"
      ]
    },
    {
      "cell_type": "markdown",
      "metadata": {
        "id": "u6F8_xjszAhZ"
      },
      "source": [
        "It seems like they usually have 24 such vehicles on hand, so can subtract from 24 to see how many are already reserved for each day (although several days have 13, which may mean they set aside a certain number for those days or contractually lease a certain number and are outside the pool for reservations). Of note, this max number is 2 less than when I checked yesterday for all time points, which may indicate that 2 cars have left the fleet.\n"
      ]
    },
    {
      "cell_type": "code",
      "execution_count": null,
      "metadata": {
        "id": "1TxUX-movNuU"
      },
      "outputs": [],
      "source": [
        "#checking to see if the same car has different prices depending on the date\n",
        "\n",
        "cars_prices = df_next_60_days.groupby(['Vehicle_id', 'Date Pickup'])['Price'].mean()\n",
        "cars_prices"
      ]
    },
    {
      "cell_type": "code",
      "execution_count": null,
      "metadata": {
        "id": "3ZxRL6J7eB0r"
      },
      "outputs": [],
      "source": [
        "price_each_day = df_next_60_days.groupby('Date Pickup')['Price'].mean()\n",
        "price_each_day.plot()"
      ]
    },
    {
      "cell_type": "code",
      "execution_count": null,
      "metadata": {
        "id": "W1PUnehIHvmo"
      },
      "outputs": [],
      "source": [
        "def create_df_for_model(df):\n",
        "  df1=df.copy()\n",
        "  df1['cars_available'] = df1.groupby('Date Pickup')['Vehicle Name'].transform('count')\n",
        "  fleet_size = df1['cars_available'].max()\n",
        "  df1['Reservations'] = df1['cars_available'].apply(lambda x: fleet_size-x)\n",
        "  df1['Individual_car_prices'] = df1.groupby(['Vehicle_id', 'Date Pickup'])['Price'].transform('mean')\n",
        "  df1['Avg_type_car_prices'] = df1.groupby(['Vehicle Name', 'Date Pickup'])['Price'].transform('mean')\n",
        "  df1['Date Pickup'] = pd.to_datetime(df1['Date Pickup'])\n",
        "\n",
        "  return df1\n"
      ]
    },
    {
      "cell_type": "code",
      "execution_count": null,
      "metadata": {
        "id": "8oLhEa-oXYqV"
      },
      "outputs": [],
      "source": [
        "data = create_df_for_model(df_next_60_days)\n",
        "data"
      ]
    },
    {
      "cell_type": "code",
      "execution_count": null,
      "metadata": {
        "id": "HBWWVTKTWxYW"
      },
      "outputs": [],
      "source": []
    },
    {
      "cell_type": "code",
      "execution_count": null,
      "metadata": {
        "id": "UD6TnaW7aadG"
      },
      "outputs": [],
      "source": []
    },
    {
      "cell_type": "code",
      "execution_count": null,
      "metadata": {
        "id": "Dv7Zx2mMacW-"
      },
      "outputs": [],
      "source": []
    }
  ],
  "metadata": {
    "colab": {
      "include_colab_link": true,
      "provenance": []
    },
    "kernelspec": {
      "display_name": "Python 3.9.12 ('base')",
      "language": "python",
      "name": "python3"
    },
    "language_info": {
      "name": "python",
      "version": "3.9.12"
    },
    "vscode": {
      "interpreter": {
        "hash": "3071ee50c89c1c794c04ecbcb4eb8f9585468a45756c3a74d8e9479e4a2bc436"
      }
    }
  },
  "nbformat": 4,
  "nbformat_minor": 0
}
