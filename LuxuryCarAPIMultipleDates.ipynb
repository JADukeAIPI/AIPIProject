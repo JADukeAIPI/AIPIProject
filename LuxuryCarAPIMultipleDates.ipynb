{
  "nbformat": 4,
  "nbformat_minor": 0,
  "metadata": {
    "colab": {
      "provenance": [],
      "authorship_tag": "ABX9TyOCuypzt3aupUVNAepamNIQ",
      "include_colab_link": true
    },
    "kernelspec": {
      "name": "python3",
      "display_name": "Python 3"
    },
    "language_info": {
      "name": "python"
    }
  },
  "cells": [
    {
      "cell_type": "markdown",
      "metadata": {
        "id": "view-in-github",
        "colab_type": "text"
      },
      "source": [
        "<a href=\"https://colab.research.google.com/github/JADukeAIPI/AIPIProject/blob/main/LuxuryCarAPIMultipleDates.ipynb\" target=\"_parent\"><img src=\"https://colab.research.google.com/assets/colab-badge.svg\" alt=\"Open In Colab\"/></a>"
      ]
    },
    {
      "cell_type": "markdown",
      "metadata": {
        "id": "MdSCRVaHDoLR"
      },
      "source": [
        "AIPI 510 PROJECT"
      ]
    },
    {
      "cell_type": "markdown",
      "source": [
        "This will allow for generating a dataframe of 'luxury' cars for several dates (currently set up to start from today and checks for 24 hour bookings for each day for next x days). The groupby at the end shows the number of vehicles available for each day, which could indirectly give us how many reservations if we assume the cars are picked up and returned in atlanta and the fleet inventory is stable."
      ],
      "metadata": {
        "id": "Z0Dpk55fxTxd"
      }
    },
    {
      "cell_type": "code",
      "execution_count": 1,
      "metadata": {
        "id": "uDvvBsV0DoLU"
      },
      "outputs": [],
      "source": [
        "from bs4 import BeautifulSoup\n",
        "import pandas as pd\n",
        "import numpy as np\n",
        "import requests\n",
        "import matplotlib.pyplot as plt\n",
        "import requests\n",
        "import datetime\n",
        "from datetime import datetime, timedelta\n",
        "\n"
      ]
    },
    {
      "cell_type": "code",
      "source": [
        "today_date = datetime.today().strftime('%Y-%m-%d')\n",
        "\n",
        "def get_date(number_days_from_today):\n",
        "\n",
        "  end_date = datetime.today() + timedelta(days=number_days_from_today)\n",
        "  end_date=end_date.strftime('%Y-%m-%d')\n",
        "  return end_date\n",
        "\n"
      ],
      "metadata": {
        "id": "EpLpfGtomlVi"
      },
      "execution_count": 2,
      "outputs": []
    },
    {
      "cell_type": "markdown",
      "metadata": {
        "id": "PnMbuw8YDoLW"
      },
      "source": [
        "Getting Booking.com Rental Car API:\n"
      ]
    },
    {
      "cell_type": "code",
      "execution_count": 3,
      "metadata": {
        "id": "HQCUd8HuDoLX"
      },
      "outputs": [],
      "source": [
        "def get_booking_data(start_date, end_date):\n",
        "\turl = \"https://booking-com.p.rapidapi.com/v1/car-rental/search\"\n",
        "\tquerystring = {\"drop_off_longitude\":\"-84.419853\",\"currency\":\"USD\",\"sort_by\":\"recommended\",\"drop_off_datetime\":end_date + ' 12:00:00',\"drop_off_latitude\":\"33.640411\",\"from_country\":\"it\",\"pick_up_longitude\":\"-84.419853\",\"locale\":\"en-gb\",\"pick_up_datetime\":start_date + \" 12:00:00\",\"pick_up_latitude\":\"33.640411\"}\n",
        "\n",
        "\theaders = {\n",
        "\t\t\"X-RapidAPI-Key\": \"8bbb18c5b5mshcb2649ca8814f86p1d30a3jsn5a338ac42c22\",\n",
        "\t\t\"X-RapidAPI-Host\": \"booking-com.p.rapidapi.com\"}\n",
        "\n",
        "\tresponse = requests.request(\"GET\", url, headers=headers, params=querystring)\n",
        "\tresults = response.json()\n",
        "\tdf = pd.json_normalize(results, record_path =['search_results'])\n",
        "\n",
        "\treturn df\n"
      ]
    },
    {
      "cell_type": "code",
      "execution_count": 4,
      "metadata": {
        "id": "blRx5SNfDoLY"
      },
      "outputs": [],
      "source": [
        "def clean_api_df(data_df):\n",
        "  df_cleaned = data_df.copy()\n",
        "  \n",
        "  #filter to the columns we want to keep\n",
        "  columns_to_keep = ['vehicle_info.v_id', 'vehicle_info.v_name', 'vehicle_info.group', 'vehicle_info.transmission', 'route_info.dropoff.city', 'pricing_info.base_price', 'pricing_info.price', 'route_info.pickup.city']\n",
        "  #filter to the types of vehicles in vehicle.group\n",
        "  vehicle_groups_to_keep = ['Luxury']\n",
        "  df_cleaned=df_cleaned[columns_to_keep]\n",
        "  df_cleaned=df_cleaned[df_cleaned['vehicle_info.group'].isin(vehicle_groups_to_keep)]\n",
        "  df_cleaned.rename(columns={'vehicle_info.v_id':'Vehicle_id', 'vehicle_info.v_name': 'Vehicle Name', 'vehicle_info.group': 'Category', 'pricing_info.base_price': 'Base Price', 'pricing_info.price': 'Price', 'vehicle_info.transmission': 'Transmission', 'route_info.dropoff.city': 'Dropoff City', 'route_info.pickup.city': 'Pickup City'}, inplace=True)\n",
        "  df_cleaned.sort_values(by='Base Price', ascending=False, inplace=True)\n",
        "  return df_cleaned"
      ]
    },
    {
      "cell_type": "code",
      "source": [],
      "metadata": {
        "id": "ZamyjbNUp_3D"
      },
      "execution_count": 4,
      "outputs": []
    },
    {
      "cell_type": "code",
      "source": [
        "#data_trial = get_booking_data('2022-11-20', '2022-11-21')\n",
        "#clean_api_df(get_booking_data('2022-11-30', '2022-12-01'))\n"
      ],
      "metadata": {
        "id": "bWnPQkS5nVNy"
      },
      "execution_count": 5,
      "outputs": []
    },
    {
      "cell_type": "code",
      "source": [
        "def get_bookings_multiple_dates(days=30):\n",
        "  dfs = []\n",
        "  for day in range(days):\n",
        "    date_tuple = (get_date(day), get_date(day+1))\n",
        "    #print(date_tuple)\n",
        "    df_partial = clean_api_df(get_booking_data(*date_tuple))\n",
        "    df_partial['Date Pickup']=date_tuple[0]\n",
        "    df_partial['Date Dropoff'] = date_tuple[1]\n",
        "    dfs.append(df_partial)\n",
        "\n",
        "  df = pd.concat([dfs[i] for i in range(len(dfs))], axis=0) \n",
        "\n",
        "  return df\n",
        "\n"
      ],
      "metadata": {
        "id": "cGDACzi5ofbC"
      },
      "execution_count": 6,
      "outputs": []
    },
    {
      "cell_type": "code",
      "source": [
        "df_next_40_days = get_bookings_multiple_dates(40)\n",
        "df_next_40_days"
      ],
      "metadata": {
        "colab": {
          "base_uri": "https://localhost:8080/",
          "height": 419
        },
        "id": "0HSsP8APq4zG",
        "outputId": "69c1220e-41a2-4687-a5f9-1beefdc05f32"
      },
      "execution_count": 7,
      "outputs": [
        {
          "output_type": "execute_result",
          "data": {
            "text/plain": [
              "    Vehicle_id    Vehicle Name Category Transmission Dropoff City  Base Price  \\\n",
              "236  644881573  Cadillac XTS     Luxury    Automatic                   146.40   \n",
              "234  636479888  Cadillac XTS     Luxury    Automatic                   139.50   \n",
              "221  646119413    Cadillac XTS   Luxury    Automatic                   133.53   \n",
              "209  644901168  Cadillac XTS     Luxury    Automatic                   128.33   \n",
              "214  636492688  Cadillac XTS     Luxury    Automatic                   121.58   \n",
              "..         ...             ...      ...          ...          ...         ...   \n",
              "31   644841863  Cadillac XTS     Luxury    Automatic                   124.04   \n",
              "32   735898091  Cadillac XTS     Luxury    Automatic                   123.27   \n",
              "44   646141193    Cadillac XTS   Luxury    Automatic                   123.27   \n",
              "28   636464758  Cadillac XTS     Luxury    Automatic                   117.50   \n",
              "24   735895261  Cadillac XTS     Luxury    Automatic                   111.74   \n",
              "\n",
              "      Price Pickup City Date Pickup Date Dropoff  \n",
              "236  151.25              2022-11-16   2022-11-17  \n",
              "234  144.12              2022-11-16   2022-11-17  \n",
              "221  137.96              2022-11-16   2022-11-17  \n",
              "209  132.58              2022-11-16   2022-11-17  \n",
              "214  125.61              2022-11-16   2022-11-17  \n",
              "..      ...         ...         ...          ...  \n",
              "31   128.15              2022-12-24   2022-12-25  \n",
              "32   127.36              2022-12-24   2022-12-25  \n",
              "44   127.36              2022-12-24   2022-12-25  \n",
              "28   121.40              2022-12-24   2022-12-25  \n",
              "24   115.44              2022-12-24   2022-12-25  \n",
              "\n",
              "[748 rows x 10 columns]"
            ],
            "text/html": [
              "\n",
              "  <div id=\"df-1651d235-1f3f-4c03-9614-c46a994ab876\">\n",
              "    <div class=\"colab-df-container\">\n",
              "      <div>\n",
              "<style scoped>\n",
              "    .dataframe tbody tr th:only-of-type {\n",
              "        vertical-align: middle;\n",
              "    }\n",
              "\n",
              "    .dataframe tbody tr th {\n",
              "        vertical-align: top;\n",
              "    }\n",
              "\n",
              "    .dataframe thead th {\n",
              "        text-align: right;\n",
              "    }\n",
              "</style>\n",
              "<table border=\"1\" class=\"dataframe\">\n",
              "  <thead>\n",
              "    <tr style=\"text-align: right;\">\n",
              "      <th></th>\n",
              "      <th>Vehicle_id</th>\n",
              "      <th>Vehicle Name</th>\n",
              "      <th>Category</th>\n",
              "      <th>Transmission</th>\n",
              "      <th>Dropoff City</th>\n",
              "      <th>Base Price</th>\n",
              "      <th>Price</th>\n",
              "      <th>Pickup City</th>\n",
              "      <th>Date Pickup</th>\n",
              "      <th>Date Dropoff</th>\n",
              "    </tr>\n",
              "  </thead>\n",
              "  <tbody>\n",
              "    <tr>\n",
              "      <th>236</th>\n",
              "      <td>644881573</td>\n",
              "      <td>Cadillac XTS</td>\n",
              "      <td>Luxury</td>\n",
              "      <td>Automatic</td>\n",
              "      <td></td>\n",
              "      <td>146.40</td>\n",
              "      <td>151.25</td>\n",
              "      <td></td>\n",
              "      <td>2022-11-16</td>\n",
              "      <td>2022-11-17</td>\n",
              "    </tr>\n",
              "    <tr>\n",
              "      <th>234</th>\n",
              "      <td>636479888</td>\n",
              "      <td>Cadillac XTS</td>\n",
              "      <td>Luxury</td>\n",
              "      <td>Automatic</td>\n",
              "      <td></td>\n",
              "      <td>139.50</td>\n",
              "      <td>144.12</td>\n",
              "      <td></td>\n",
              "      <td>2022-11-16</td>\n",
              "      <td>2022-11-17</td>\n",
              "    </tr>\n",
              "    <tr>\n",
              "      <th>221</th>\n",
              "      <td>646119413</td>\n",
              "      <td>Cadillac XTS</td>\n",
              "      <td>Luxury</td>\n",
              "      <td>Automatic</td>\n",
              "      <td></td>\n",
              "      <td>133.53</td>\n",
              "      <td>137.96</td>\n",
              "      <td></td>\n",
              "      <td>2022-11-16</td>\n",
              "      <td>2022-11-17</td>\n",
              "    </tr>\n",
              "    <tr>\n",
              "      <th>209</th>\n",
              "      <td>644901168</td>\n",
              "      <td>Cadillac XTS</td>\n",
              "      <td>Luxury</td>\n",
              "      <td>Automatic</td>\n",
              "      <td></td>\n",
              "      <td>128.33</td>\n",
              "      <td>132.58</td>\n",
              "      <td></td>\n",
              "      <td>2022-11-16</td>\n",
              "      <td>2022-11-17</td>\n",
              "    </tr>\n",
              "    <tr>\n",
              "      <th>214</th>\n",
              "      <td>636492688</td>\n",
              "      <td>Cadillac XTS</td>\n",
              "      <td>Luxury</td>\n",
              "      <td>Automatic</td>\n",
              "      <td></td>\n",
              "      <td>121.58</td>\n",
              "      <td>125.61</td>\n",
              "      <td></td>\n",
              "      <td>2022-11-16</td>\n",
              "      <td>2022-11-17</td>\n",
              "    </tr>\n",
              "    <tr>\n",
              "      <th>...</th>\n",
              "      <td>...</td>\n",
              "      <td>...</td>\n",
              "      <td>...</td>\n",
              "      <td>...</td>\n",
              "      <td>...</td>\n",
              "      <td>...</td>\n",
              "      <td>...</td>\n",
              "      <td>...</td>\n",
              "      <td>...</td>\n",
              "      <td>...</td>\n",
              "    </tr>\n",
              "    <tr>\n",
              "      <th>31</th>\n",
              "      <td>644841863</td>\n",
              "      <td>Cadillac XTS</td>\n",
              "      <td>Luxury</td>\n",
              "      <td>Automatic</td>\n",
              "      <td></td>\n",
              "      <td>124.04</td>\n",
              "      <td>128.15</td>\n",
              "      <td></td>\n",
              "      <td>2022-12-24</td>\n",
              "      <td>2022-12-25</td>\n",
              "    </tr>\n",
              "    <tr>\n",
              "      <th>32</th>\n",
              "      <td>735898091</td>\n",
              "      <td>Cadillac XTS</td>\n",
              "      <td>Luxury</td>\n",
              "      <td>Automatic</td>\n",
              "      <td></td>\n",
              "      <td>123.27</td>\n",
              "      <td>127.36</td>\n",
              "      <td></td>\n",
              "      <td>2022-12-24</td>\n",
              "      <td>2022-12-25</td>\n",
              "    </tr>\n",
              "    <tr>\n",
              "      <th>44</th>\n",
              "      <td>646141193</td>\n",
              "      <td>Cadillac XTS</td>\n",
              "      <td>Luxury</td>\n",
              "      <td>Automatic</td>\n",
              "      <td></td>\n",
              "      <td>123.27</td>\n",
              "      <td>127.36</td>\n",
              "      <td></td>\n",
              "      <td>2022-12-24</td>\n",
              "      <td>2022-12-25</td>\n",
              "    </tr>\n",
              "    <tr>\n",
              "      <th>28</th>\n",
              "      <td>636464758</td>\n",
              "      <td>Cadillac XTS</td>\n",
              "      <td>Luxury</td>\n",
              "      <td>Automatic</td>\n",
              "      <td></td>\n",
              "      <td>117.50</td>\n",
              "      <td>121.40</td>\n",
              "      <td></td>\n",
              "      <td>2022-12-24</td>\n",
              "      <td>2022-12-25</td>\n",
              "    </tr>\n",
              "    <tr>\n",
              "      <th>24</th>\n",
              "      <td>735895261</td>\n",
              "      <td>Cadillac XTS</td>\n",
              "      <td>Luxury</td>\n",
              "      <td>Automatic</td>\n",
              "      <td></td>\n",
              "      <td>111.74</td>\n",
              "      <td>115.44</td>\n",
              "      <td></td>\n",
              "      <td>2022-12-24</td>\n",
              "      <td>2022-12-25</td>\n",
              "    </tr>\n",
              "  </tbody>\n",
              "</table>\n",
              "<p>748 rows × 10 columns</p>\n",
              "</div>\n",
              "      <button class=\"colab-df-convert\" onclick=\"convertToInteractive('df-1651d235-1f3f-4c03-9614-c46a994ab876')\"\n",
              "              title=\"Convert this dataframe to an interactive table.\"\n",
              "              style=\"display:none;\">\n",
              "        \n",
              "  <svg xmlns=\"http://www.w3.org/2000/svg\" height=\"24px\"viewBox=\"0 0 24 24\"\n",
              "       width=\"24px\">\n",
              "    <path d=\"M0 0h24v24H0V0z\" fill=\"none\"/>\n",
              "    <path d=\"M18.56 5.44l.94 2.06.94-2.06 2.06-.94-2.06-.94-.94-2.06-.94 2.06-2.06.94zm-11 1L8.5 8.5l.94-2.06 2.06-.94-2.06-.94L8.5 2.5l-.94 2.06-2.06.94zm10 10l.94 2.06.94-2.06 2.06-.94-2.06-.94-.94-2.06-.94 2.06-2.06.94z\"/><path d=\"M17.41 7.96l-1.37-1.37c-.4-.4-.92-.59-1.43-.59-.52 0-1.04.2-1.43.59L10.3 9.45l-7.72 7.72c-.78.78-.78 2.05 0 2.83L4 21.41c.39.39.9.59 1.41.59.51 0 1.02-.2 1.41-.59l7.78-7.78 2.81-2.81c.8-.78.8-2.07 0-2.86zM5.41 20L4 18.59l7.72-7.72 1.47 1.35L5.41 20z\"/>\n",
              "  </svg>\n",
              "      </button>\n",
              "      \n",
              "  <style>\n",
              "    .colab-df-container {\n",
              "      display:flex;\n",
              "      flex-wrap:wrap;\n",
              "      gap: 12px;\n",
              "    }\n",
              "\n",
              "    .colab-df-convert {\n",
              "      background-color: #E8F0FE;\n",
              "      border: none;\n",
              "      border-radius: 50%;\n",
              "      cursor: pointer;\n",
              "      display: none;\n",
              "      fill: #1967D2;\n",
              "      height: 32px;\n",
              "      padding: 0 0 0 0;\n",
              "      width: 32px;\n",
              "    }\n",
              "\n",
              "    .colab-df-convert:hover {\n",
              "      background-color: #E2EBFA;\n",
              "      box-shadow: 0px 1px 2px rgba(60, 64, 67, 0.3), 0px 1px 3px 1px rgba(60, 64, 67, 0.15);\n",
              "      fill: #174EA6;\n",
              "    }\n",
              "\n",
              "    [theme=dark] .colab-df-convert {\n",
              "      background-color: #3B4455;\n",
              "      fill: #D2E3FC;\n",
              "    }\n",
              "\n",
              "    [theme=dark] .colab-df-convert:hover {\n",
              "      background-color: #434B5C;\n",
              "      box-shadow: 0px 1px 3px 1px rgba(0, 0, 0, 0.15);\n",
              "      filter: drop-shadow(0px 1px 2px rgba(0, 0, 0, 0.3));\n",
              "      fill: #FFFFFF;\n",
              "    }\n",
              "  </style>\n",
              "\n",
              "      <script>\n",
              "        const buttonEl =\n",
              "          document.querySelector('#df-1651d235-1f3f-4c03-9614-c46a994ab876 button.colab-df-convert');\n",
              "        buttonEl.style.display =\n",
              "          google.colab.kernel.accessAllowed ? 'block' : 'none';\n",
              "\n",
              "        async function convertToInteractive(key) {\n",
              "          const element = document.querySelector('#df-1651d235-1f3f-4c03-9614-c46a994ab876');\n",
              "          const dataTable =\n",
              "            await google.colab.kernel.invokeFunction('convertToInteractive',\n",
              "                                                     [key], {});\n",
              "          if (!dataTable) return;\n",
              "\n",
              "          const docLinkHtml = 'Like what you see? Visit the ' +\n",
              "            '<a target=\"_blank\" href=https://colab.research.google.com/notebooks/data_table.ipynb>data table notebook</a>'\n",
              "            + ' to learn more about interactive tables.';\n",
              "          element.innerHTML = '';\n",
              "          dataTable['output_type'] = 'display_data';\n",
              "          await google.colab.output.renderOutput(dataTable, element);\n",
              "          const docLink = document.createElement('div');\n",
              "          docLink.innerHTML = docLinkHtml;\n",
              "          element.appendChild(docLink);\n",
              "        }\n",
              "      </script>\n",
              "    </div>\n",
              "  </div>\n",
              "  "
            ]
          },
          "metadata": {},
          "execution_count": 7
        }
      ]
    },
    {
      "cell_type": "code",
      "source": [
        "cars_available = df_next_40_days.groupby('Date Pickup')['Vehicle Name'].count()\n",
        "cars_available"
      ],
      "metadata": {
        "colab": {
          "base_uri": "https://localhost:8080/"
        },
        "id": "3nWBRBNoq_dK",
        "outputId": "94a58d65-fe0f-48e1-f8de-59c7ae6f0339"
      },
      "execution_count": 8,
      "outputs": [
        {
          "output_type": "execute_result",
          "data": {
            "text/plain": [
              "Date Pickup\n",
              "2022-11-16    13\n",
              "2022-11-17    15\n",
              "2022-11-18    14\n",
              "2022-11-19    14\n",
              "2022-11-20    14\n",
              "2022-11-21    26\n",
              "2022-11-22    15\n",
              "2022-11-23     1\n",
              "2022-11-24     1\n",
              "2022-11-25    14\n",
              "2022-11-26    14\n",
              "2022-11-27    26\n",
              "2022-11-28    26\n",
              "2022-11-29    26\n",
              "2022-11-30    26\n",
              "2022-12-01    15\n",
              "2022-12-02    15\n",
              "2022-12-03    15\n",
              "2022-12-04    26\n",
              "2022-12-05    26\n",
              "2022-12-06    26\n",
              "2022-12-07    26\n",
              "2022-12-08    15\n",
              "2022-12-09    15\n",
              "2022-12-10    15\n",
              "2022-12-11    26\n",
              "2022-12-12    26\n",
              "2022-12-13    26\n",
              "2022-12-14    26\n",
              "2022-12-15    15\n",
              "2022-12-16    15\n",
              "2022-12-17    15\n",
              "2022-12-18    26\n",
              "2022-12-19    26\n",
              "2022-12-20    26\n",
              "2022-12-21    26\n",
              "2022-12-22    26\n",
              "2022-12-23    15\n",
              "2022-12-24    15\n",
              "Name: Vehicle Name, dtype: int64"
            ]
          },
          "metadata": {},
          "execution_count": 8
        }
      ]
    },
    {
      "cell_type": "markdown",
      "source": [
        "It seems like they usually have 26 such vehicles on hand, so can subtract from 26 to see how many are already reserved for each day\n"
      ],
      "metadata": {
        "id": "u6F8_xjszAhZ"
      }
    },
    {
      "cell_type": "code",
      "source": [
        "#checking to see if the same car has different prices depending on the date\n",
        "\n",
        "cars_prices = df_next_40_days.groupby(['Vehicle_id', 'Date Pickup'])['Price'].mean()\n",
        "cars_prices"
      ],
      "metadata": {
        "colab": {
          "base_uri": "https://localhost:8080/"
        },
        "id": "1TxUX-movNuU",
        "outputId": "73ec2c3e-ed00-4b2e-a6c6-e2deb6a6645d"
      },
      "execution_count": 19,
      "outputs": [
        {
          "output_type": "execute_result",
          "data": {
            "text/plain": [
              "Vehicle_id  Date Pickup\n",
              "585207183   2022-11-21     124.39\n",
              "            2022-11-27      65.54\n",
              "            2022-11-28      65.54\n",
              "            2022-11-29      65.54\n",
              "            2022-11-30      65.54\n",
              "                            ...  \n",
              "735898091   2022-12-20      86.63\n",
              "            2022-12-21     121.73\n",
              "            2022-12-22     122.50\n",
              "            2022-12-23     139.92\n",
              "            2022-12-24     127.36\n",
              "Name: Price, Length: 748, dtype: float64"
            ]
          },
          "metadata": {},
          "execution_count": 19
        }
      ]
    },
    {
      "cell_type": "code",
      "source": [],
      "metadata": {
        "id": "W1PUnehIHvmo"
      },
      "execution_count": null,
      "outputs": []
    }
  ]
}