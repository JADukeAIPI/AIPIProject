{
  "cells": [
    {
      "cell_type": "markdown",
      "metadata": {
        "colab_type": "text",
        "id": "view-in-github"
      },
      "source": [
        "<a href=\"https://colab.research.google.com/github/JADukeAIPI/AIPIProject/blob/main/LuxuryCarAPIMultipleDates.ipynb\" target=\"_parent\"><img src=\"https://colab.research.google.com/assets/colab-badge.svg\" alt=\"Open In Colab\"/></a>"
      ]
    },
    {
      "cell_type": "markdown",
      "metadata": {
        "id": "MdSCRVaHDoLR"
      },
      "source": [
        "AIPI 510 PROJECT"
      ]
    },
    {
      "cell_type": "markdown",
      "metadata": {
        "id": "Z0Dpk55fxTxd"
      },
      "source": [
        "This will allow for generating a dataframe of 'luxury' cars for several dates (currently set up to start from today and checks for 24 hour bookings for each day for next x days). The groupby at the end shows the number of vehicles available for each day, which could indirectly give us how many reservations if we assume the cars are picked up and returned in atlanta and the fleet inventory is stable."
      ]
    },
    {
      "cell_type": "code",
      "execution_count": null,
      "metadata": {
        "id": "uDvvBsV0DoLU"
      },
      "outputs": [],
      "source": [
        "from bs4 import BeautifulSoup\n",
        "import pandas as pd\n",
        "import numpy as np\n",
        "import requests\n",
        "import matplotlib.pyplot as plt\n",
        "import requests\n",
        "import datetime\n",
        "from datetime import datetime, timedelta, date"
      ]
    },
    {
      "cell_type": "code",
      "execution_count": null,
      "metadata": {
        "id": "EpLpfGtomlVi"
      },
      "outputs": [],
      "source": [
        "today_date = datetime.today().strftime('%Y-%m-%d')\n",
        "\n",
        "def get_date(number_days_from_today):\n",
        "\n",
        "  end_date = datetime.today() + timedelta(days=number_days_from_today)\n",
        "  end_date=end_date.strftime('%Y-%m-%d')\n",
        "  return end_date\n",
        "\n"
      ]
    },
    {
      "cell_type": "markdown",
      "metadata": {
        "id": "PnMbuw8YDoLW"
      },
      "source": [
        "Getting Booking.com Rental Car API:\n"
      ]
    },
    {
      "cell_type": "code",
      "execution_count": null,
      "metadata": {
        "id": "HQCUd8HuDoLX"
      },
      "outputs": [],
      "source": [
        "def get_booking_data(start_date, end_date):\n",
        "\turl = \"https://booking-com.p.rapidapi.com/v1/car-rental/search\"\n",
        "\tquerystring = {\"drop_off_longitude\":\"-84.419853\",\"currency\":\"USD\",\"sort_by\":\"recommended\",\"drop_off_datetime\":end_date + ' 15:00:00',\"drop_off_latitude\":\"33.640411\",\"from_country\":\"it\",\"pick_up_longitude\":\"-84.419853\",\"locale\":\"en-gb\",\"pick_up_datetime\":start_date + \" 15:00:00\",\"pick_up_latitude\":\"33.640411\"}\n",
        "\n",
        "\theaders = {\n",
        "\t\t\"X-RapidAPI-Key\": \"3662501eefmsh25ecd880f1ff146p15a604jsn7f50708cd702\",\n",
        "\t\t\"X-RapidAPI-Host\": \"booking-com.p.rapidapi.com\"}\n",
        "\n",
        "\tresponse = requests.request(\"GET\", url, headers=headers, params=querystring)\n",
        "\tresults = response.json()\n",
        "\tdf = pd.json_normalize(results, record_path =['search_results'])\n",
        "\n",
        "\treturn df\n"
      ]
    },
    {
      "cell_type": "code",
      "execution_count": null,
      "metadata": {
        "id": "blRx5SNfDoLY"
      },
      "outputs": [],
      "source": [
        "def clean_api_df(data_df):\n",
        "  df_cleaned = data_df.copy()\n",
        "  \n",
        "  #filter to the columns we want to keep\n",
        "  columns_to_keep = ['vehicle_info.v_id', 'vehicle_info.v_name', 'vehicle_info.group', 'vehicle_info.transmission', 'pricing_info.base_price', 'pricing_info.price']\n",
        "  #filter to the types of vehicles in vehicle.group\n",
        "  vehicle_groups_to_keep = ['Luxury']\n",
        "  df_cleaned=df_cleaned[columns_to_keep]\n",
        "  df_cleaned=df_cleaned[df_cleaned['vehicle_info.group'].isin(vehicle_groups_to_keep)]\n",
        "  df_cleaned.rename(columns={'vehicle_info.v_id':'Vehicle_id', 'vehicle_info.v_name': 'Vehicle_Name', 'vehicle_info.group': 'Category', 'pricing_info.base_price': 'Base_Price', 'pricing_info.price': 'Price', 'vehicle_info.transmission': 'Transmission'}, inplace=True)\n",
        "  df_cleaned.sort_values(by='Base Price', ascending=False, inplace=True)\n",
        "  return df_cleaned"
      ]
    },
    {
      "cell_type": "code",
      "execution_count": null,
      "metadata": {
        "id": "cGDACzi5ofbC"
      },
      "outputs": [],
      "source": [
        "def get_bookings_multiple_dates(start_date = get_date(1), end_date = get_date(30)):\n",
        "  dfs = []\n",
        "  \n",
        "\n",
        "  day = datetime.strptime(start_date, '%Y-%m-%d')\n",
        "  last_day = datetime.strptime(end_date, '%Y-%m-%d')\n",
        "  iterator=0\n",
        "  while day<last_day:\n",
        "    date_tuple = (day.strftime('%Y-%m-%d'), (day+timedelta(days=1)).strftime('%Y-%m-%d'))\n",
        "\n",
        "    df_partial = clean_api_df(get_booking_data(*date_tuple))\n",
        "    df_partial['Date Pickup']=date_tuple[0]\n",
        "    df_partial['Date Dropoff'] = date_tuple[1]\n",
        "    dfs.append(df_partial)\n",
        "    day=day+timedelta(days=1)\n",
        "\n",
        "\n",
        "  df = pd.concat([dfs[i] for i in range(len(dfs))], axis=0) \n",
        "\n",
        "  return df\n",
        "\n"
      ]
    },
    {
      "cell_type": "code",
      "execution_count": null,
      "metadata": {
        "colab": {
          "base_uri": "https://localhost:8080/",
          "height": 497
        },
        "id": "0HSsP8APq4zG",
        "outputId": "09679b1a-72cd-427e-be6a-82b0d7a4d550"
      },
      "outputs": [],
      "source": [
        "get_bookings_multiple_dates('2022-11-18', '2022-11-22')\n"
      ]
    },
    {
      "cell_type": "code",
      "execution_count": null,
      "metadata": {
        "colab": {
          "base_uri": "https://localhost:8080/",
          "height": 497
        },
        "id": "Pi7PlMSpyyW2",
        "outputId": "bc3ac00a-8895-4deb-ba2e-33e0afdb8288"
      },
      "outputs": [],
      "source": [
        "df_next_60_days = get_bookings_multiple_dates(get_date(1), get_date(60))\n",
        "df_next_60_days"
      ]
    },
    {
      "cell_type": "code",
      "execution_count": null,
      "metadata": {
        "colab": {
          "base_uri": "https://localhost:8080/"
        },
        "id": "3nWBRBNoq_dK",
        "outputId": "203d5345-5cc0-45f4-dfd4-6cf52ff199ab"
      },
      "outputs": [],
      "source": [
        "cars_available = df_next_60_days.groupby('Date Pickup')['Vehicle Name'].count()\n",
        "cars_available"
      ]
    },
    {
      "cell_type": "code",
      "execution_count": null,
      "metadata": {
        "colab": {
          "base_uri": "https://localhost:8080/",
          "height": 296
        },
        "id": "OjfmyWDYegw4",
        "outputId": "63a5bec0-fcc6-43a5-bbe9-f24e92814c07"
      },
      "outputs": [],
      "source": [
        "cars_available.plot()"
      ]
    },
    {
      "cell_type": "markdown",
      "metadata": {
        "id": "u6F8_xjszAhZ"
      },
      "source": [
        "It seems like they usually have 24 such vehicles on hand, so can subtract from 24 to see how many are already reserved for each day (although several days have 13, which may mean they set aside a certain number for those days or contractually lease a certain number and are outside the pool for reservations). Of note, this max number is 2 less than when I checked yesterday for all time points, which may indicate that 2 cars have left the fleet.\n"
      ]
    },
    {
      "cell_type": "code",
      "execution_count": null,
      "metadata": {
        "colab": {
          "base_uri": "https://localhost:8080/"
        },
        "id": "1TxUX-movNuU",
        "outputId": "5b6bc297-b93f-470a-aab4-c650cb56b0b1"
      },
      "outputs": [],
      "source": [
        "#checking to see if the same car has different prices depending on the date\n",
        "\n",
        "cars_prices = df_next_60_days.groupby(['Vehicle_id', 'Date Pickup'])['Price'].mean()\n",
        "cars_prices"
      ]
    },
    {
      "cell_type": "code",
      "execution_count": null,
      "metadata": {
        "colab": {
          "base_uri": "https://localhost:8080/",
          "height": 296
        },
        "id": "3ZxRL6J7eB0r",
        "outputId": "41f14d9c-4cf7-40fd-f0d9-c17c89d41f8b"
      },
      "outputs": [],
      "source": [
        "price_each_day = df_next_60_days.groupby('Date Pickup')['Price'].mean()\n",
        "price_each_day.plot()"
      ]
    },
    {
      "cell_type": "code",
      "execution_count": null,
      "metadata": {
        "id": "W1PUnehIHvmo"
      },
      "outputs": [],
      "source": [
        "def create_df_for_model(df):\n",
        "  df1=df.copy()\n",
        "  df1['cars_available'] = df1.groupby('Date Pickup')['Vehicle Name'].transform('count')\n",
        "  fleet_size = df1['cars_available'].max()\n",
        "  df1['Reservations'] = df1['cars_available'].apply(lambda x: fleet_size-x)\n",
        "  df1['Individual_car_prices'] = df1.groupby(['Vehicle_id', 'Date Pickup'])['Price'].transform('mean')\n",
        "  df1['Avg_type_car_prices'] = df1.groupby(['Vehicle Name', 'Date Pickup'])['Price'].transform('mean')\n",
        "  df1['Date Pickup'] = pd.to_datetime(df1['Date Pickup'])\n",
        "\n",
        "  return df1\n"
      ]
    },
    {
      "cell_type": "code",
      "execution_count": null,
      "metadata": {
        "colab": {
          "base_uri": "https://localhost:8080/",
          "height": 670
        },
        "id": "8oLhEa-oXYqV",
        "outputId": "f1cd1e57-e52a-4787-c571-83f29e861607"
      },
      "outputs": [],
      "source": [
        "data = create_df_for_model(df_next_60_days)\n",
        "data"
      ]
    },
    {
      "cell_type": "code",
      "execution_count": null,
      "metadata": {
        "id": "HBWWVTKTWxYW"
      },
      "outputs": [],
      "source": []
    },
    {
      "cell_type": "code",
      "execution_count": null,
      "metadata": {
        "id": "UD6TnaW7aadG"
      },
      "outputs": [],
      "source": []
    },
    {
      "cell_type": "code",
      "execution_count": null,
      "metadata": {
        "id": "Dv7Zx2mMacW-"
      },
      "outputs": [],
      "source": []
    }
  ],
  "metadata": {
    "colab": {
      "authorship_tag": "ABX9TyOY6r5jCRTKHr+1fVqAfGc4",
      "include_colab_link": true,
      "provenance": []
    },
    "kernelspec": {
      "display_name": "Python 3",
      "name": "python3"
    },
    "language_info": {
      "name": "python"
    }
  },
  "nbformat": 4,
  "nbformat_minor": 0
}
