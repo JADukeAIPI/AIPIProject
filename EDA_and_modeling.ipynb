{
  "nbformat": 4,
  "nbformat_minor": 0,
  "metadata": {
    "colab": {
      "provenance": [],
      "authorship_tag": "ABX9TyOt/ueZ4PL2CNDCVEt7IJGq",
      "include_colab_link": true
    },
    "kernelspec": {
      "name": "python3",
      "display_name": "Python 3"
    },
    "language_info": {
      "name": "python"
    }
  },
  "cells": [
    {
      "cell_type": "markdown",
      "metadata": {
        "id": "view-in-github",
        "colab_type": "text"
      },
      "source": [
        "<a href=\"https://colab.research.google.com/github/JADukeAIPI/AIPIProject/blob/main/EDA_and_modeling.ipynb\" target=\"_parent\"><img src=\"https://colab.research.google.com/assets/colab-badge.svg\" alt=\"Open In Colab\"/></a>"
      ]
    },
    {
      "cell_type": "code",
      "execution_count": 3,
      "metadata": {
        "id": "lA3UczHjaXlk"
      },
      "outputs": [],
      "source": [
        "\n",
        "import pandas as pd\n",
        "import numpy as np\n",
        "import requests\n",
        "import matplotlib.pyplot as plt\n",
        "import seaborn as sns\n",
        "import requests\n",
        "import datetime\n",
        "from datetime import datetime, timedelta, date\n",
        "from sklearn.model_selection import train_test_split\n",
        "from sklearn.linear_model import LinearRegressioncars\n",
        "from sklearn.metrics import roc_auc_score,accuracy_score,confusion_matrix\n",
        "from sklearn.model_selection import KFold\n",
        "from sklearn.model_selection import cross_val_score\n",
        "from matplotlib.colors import ListedColormap\n",
        "\n",
        "\n"
      ]
    },
    {
      "cell_type": "code",
      "source": [
        "##clone the repo and import the data files\n",
        "!git clone https://github.com/JADukeAIPI/AIPIProject.git\n"
      ],
      "metadata": {
        "colab": {
          "base_uri": "https://localhost:8080/"
        },
        "id": "UuOoSzsTbut4",
        "outputId": "17c3be67-87cd-4891-b933-2ef3081f486a"
      },
      "execution_count": 13,
      "outputs": [
        {
          "output_type": "stream",
          "name": "stdout",
          "text": [
            "fatal: destination path 'AIPIProject' already exists and is not an empty directory.\n"
          ]
        }
      ]
    },
    {
      "cell_type": "code",
      "source": [
        "#getting data. Note that this could come through the SQL query on the database\n",
        "#but still in process, so using the archived csv files for this\n",
        "\n",
        "#get events data\n",
        "all_events_df = pd.read_csv('AIPIProject/all_events.csv')\n",
        "large_events_df = pd.read_csv('AIPIProject/large_events.csv')\n",
        "\n",
        "#get kaggle cars data\n",
        "car_rental_data_df = pd.read_csv('AIPIProject/CarRentalDataV1.csv')\n",
        "\n",
        "#get rental car data from the API\n",
        "all_cars_df = pd.read_csv('AIPIProject/AllCarsAPI.csv')\n",
        "luxury_cars_df = pd.read_csv('AIPIProject/LuxuryAPI.csv') \n"
      ],
      "metadata": {
        "id": "p3pmfsRccpg-"
      },
      "execution_count": 79,
      "outputs": []
    },
    {
      "cell_type": "code",
      "source": [
        "atlanta_car_rental_data_df = car_rental_data_df[car_rental_data_df['location.city']=='Atlanta']\n",
        "atlanta_car_rental_data_df"
      ],
      "metadata": {
        "colab": {
          "base_uri": "https://localhost:8080/",
          "height": 500
        },
        "id": "5Uxczbw_cKH4",
        "outputId": "ff9a98f6-0126-4394-cffe-0a18ed2e4a19"
      },
      "execution_count": 80,
      "outputs": [
        {
          "output_type": "execute_result",
          "data": {
            "text/plain": [
              "     fuelType  rating  renterTripsTaken  reviewCount location.city  \\\n",
              "38   GASOLINE    5.00                52           44       Atlanta   \n",
              "42   GASOLINE    5.00                 2            2       Atlanta   \n",
              "43   GASOLINE    4.93                18           14       Atlanta   \n",
              "45   GASOLINE    4.89                94           80       Atlanta   \n",
              "49   ELECTRIC    5.00                15           11       Atlanta   \n",
              "..        ...     ...               ...          ...           ...   \n",
              "214  GASOLINE    5.00                 3            3       Atlanta   \n",
              "223       NaN    5.00                10            8       Atlanta   \n",
              "225  GASOLINE    4.91                36           34       Atlanta   \n",
              "229  GASOLINE    4.70               100           81       Atlanta   \n",
              "232  GASOLINE    4.73                52           37       Atlanta   \n",
              "\n",
              "    location.country  location.latitude  location.longitude location.state  \\\n",
              "38                US          33.640717          -84.427580             GA   \n",
              "42                US          33.891295          -84.453929             GA   \n",
              "43                US          33.903877          -84.277873             GA   \n",
              "45                US          33.927403          -84.342767             GA   \n",
              "49                US          33.746442          -84.372238             GA   \n",
              "..               ...                ...                 ...            ...   \n",
              "214               US          33.605798          -84.501351             GA   \n",
              "223               US          33.753282          -84.466572             GA   \n",
              "225               US          33.811329          -84.375881             GA   \n",
              "229               US          33.772969          -84.419985             GA   \n",
              "232               US          33.772143          -84.418645             GA   \n",
              "\n",
              "     owner.id  rate.daily   vehicle.make        vehicle.model vehicle.type  \\\n",
              "38    6025007         144     Land Rover          Range Rover          suv   \n",
              "42   12796797         200            BMW             7 Series          car   \n",
              "43      53029          98  Mercedes-benz              C-Class          car   \n",
              "45     511103         150        Porsche             Panamera          car   \n",
              "49    2253859         134          Tesla              Model 3          car   \n",
              "..        ...         ...            ...                  ...          ...   \n",
              "214  15622497          48           Jeep              Patriot          suv   \n",
              "223   1886829         299     Land Rover          Range Rover          suv   \n",
              "225   3659271          99            BMW  4 Series Gran Coupe          car   \n",
              "229   7221030          50          Buick             LaCrosse          car   \n",
              "232   7221030          58     Volkswagen               Tiguan          suv   \n",
              "\n",
              "     vehicle.year airportcity  \n",
              "38           2016     Atlanta  \n",
              "42           2018     Atlanta  \n",
              "43           2019     Atlanta  \n",
              "45           2011     Atlanta  \n",
              "49           2018     Atlanta  \n",
              "..            ...         ...  \n",
              "214          2015     Atlanta  \n",
              "223          2020     Atlanta  \n",
              "225          2016     Atlanta  \n",
              "229          2016     Atlanta  \n",
              "232          2011     Atlanta  \n",
              "\n",
              "[96 rows x 16 columns]"
            ],
            "text/html": [
              "\n",
              "  <div id=\"df-6bbb5b36-9369-41ec-b9e5-8989c6b989ad\">\n",
              "    <div class=\"colab-df-container\">\n",
              "      <div>\n",
              "<style scoped>\n",
              "    .dataframe tbody tr th:only-of-type {\n",
              "        vertical-align: middle;\n",
              "    }\n",
              "\n",
              "    .dataframe tbody tr th {\n",
              "        vertical-align: top;\n",
              "    }\n",
              "\n",
              "    .dataframe thead th {\n",
              "        text-align: right;\n",
              "    }\n",
              "</style>\n",
              "<table border=\"1\" class=\"dataframe\">\n",
              "  <thead>\n",
              "    <tr style=\"text-align: right;\">\n",
              "      <th></th>\n",
              "      <th>fuelType</th>\n",
              "      <th>rating</th>\n",
              "      <th>renterTripsTaken</th>\n",
              "      <th>reviewCount</th>\n",
              "      <th>location.city</th>\n",
              "      <th>location.country</th>\n",
              "      <th>location.latitude</th>\n",
              "      <th>location.longitude</th>\n",
              "      <th>location.state</th>\n",
              "      <th>owner.id</th>\n",
              "      <th>rate.daily</th>\n",
              "      <th>vehicle.make</th>\n",
              "      <th>vehicle.model</th>\n",
              "      <th>vehicle.type</th>\n",
              "      <th>vehicle.year</th>\n",
              "      <th>airportcity</th>\n",
              "    </tr>\n",
              "  </thead>\n",
              "  <tbody>\n",
              "    <tr>\n",
              "      <th>38</th>\n",
              "      <td>GASOLINE</td>\n",
              "      <td>5.00</td>\n",
              "      <td>52</td>\n",
              "      <td>44</td>\n",
              "      <td>Atlanta</td>\n",
              "      <td>US</td>\n",
              "      <td>33.640717</td>\n",
              "      <td>-84.427580</td>\n",
              "      <td>GA</td>\n",
              "      <td>6025007</td>\n",
              "      <td>144</td>\n",
              "      <td>Land Rover</td>\n",
              "      <td>Range Rover</td>\n",
              "      <td>suv</td>\n",
              "      <td>2016</td>\n",
              "      <td>Atlanta</td>\n",
              "    </tr>\n",
              "    <tr>\n",
              "      <th>42</th>\n",
              "      <td>GASOLINE</td>\n",
              "      <td>5.00</td>\n",
              "      <td>2</td>\n",
              "      <td>2</td>\n",
              "      <td>Atlanta</td>\n",
              "      <td>US</td>\n",
              "      <td>33.891295</td>\n",
              "      <td>-84.453929</td>\n",
              "      <td>GA</td>\n",
              "      <td>12796797</td>\n",
              "      <td>200</td>\n",
              "      <td>BMW</td>\n",
              "      <td>7 Series</td>\n",
              "      <td>car</td>\n",
              "      <td>2018</td>\n",
              "      <td>Atlanta</td>\n",
              "    </tr>\n",
              "    <tr>\n",
              "      <th>43</th>\n",
              "      <td>GASOLINE</td>\n",
              "      <td>4.93</td>\n",
              "      <td>18</td>\n",
              "      <td>14</td>\n",
              "      <td>Atlanta</td>\n",
              "      <td>US</td>\n",
              "      <td>33.903877</td>\n",
              "      <td>-84.277873</td>\n",
              "      <td>GA</td>\n",
              "      <td>53029</td>\n",
              "      <td>98</td>\n",
              "      <td>Mercedes-benz</td>\n",
              "      <td>C-Class</td>\n",
              "      <td>car</td>\n",
              "      <td>2019</td>\n",
              "      <td>Atlanta</td>\n",
              "    </tr>\n",
              "    <tr>\n",
              "      <th>45</th>\n",
              "      <td>GASOLINE</td>\n",
              "      <td>4.89</td>\n",
              "      <td>94</td>\n",
              "      <td>80</td>\n",
              "      <td>Atlanta</td>\n",
              "      <td>US</td>\n",
              "      <td>33.927403</td>\n",
              "      <td>-84.342767</td>\n",
              "      <td>GA</td>\n",
              "      <td>511103</td>\n",
              "      <td>150</td>\n",
              "      <td>Porsche</td>\n",
              "      <td>Panamera</td>\n",
              "      <td>car</td>\n",
              "      <td>2011</td>\n",
              "      <td>Atlanta</td>\n",
              "    </tr>\n",
              "    <tr>\n",
              "      <th>49</th>\n",
              "      <td>ELECTRIC</td>\n",
              "      <td>5.00</td>\n",
              "      <td>15</td>\n",
              "      <td>11</td>\n",
              "      <td>Atlanta</td>\n",
              "      <td>US</td>\n",
              "      <td>33.746442</td>\n",
              "      <td>-84.372238</td>\n",
              "      <td>GA</td>\n",
              "      <td>2253859</td>\n",
              "      <td>134</td>\n",
              "      <td>Tesla</td>\n",
              "      <td>Model 3</td>\n",
              "      <td>car</td>\n",
              "      <td>2018</td>\n",
              "      <td>Atlanta</td>\n",
              "    </tr>\n",
              "    <tr>\n",
              "      <th>...</th>\n",
              "      <td>...</td>\n",
              "      <td>...</td>\n",
              "      <td>...</td>\n",
              "      <td>...</td>\n",
              "      <td>...</td>\n",
              "      <td>...</td>\n",
              "      <td>...</td>\n",
              "      <td>...</td>\n",
              "      <td>...</td>\n",
              "      <td>...</td>\n",
              "      <td>...</td>\n",
              "      <td>...</td>\n",
              "      <td>...</td>\n",
              "      <td>...</td>\n",
              "      <td>...</td>\n",
              "      <td>...</td>\n",
              "    </tr>\n",
              "    <tr>\n",
              "      <th>214</th>\n",
              "      <td>GASOLINE</td>\n",
              "      <td>5.00</td>\n",
              "      <td>3</td>\n",
              "      <td>3</td>\n",
              "      <td>Atlanta</td>\n",
              "      <td>US</td>\n",
              "      <td>33.605798</td>\n",
              "      <td>-84.501351</td>\n",
              "      <td>GA</td>\n",
              "      <td>15622497</td>\n",
              "      <td>48</td>\n",
              "      <td>Jeep</td>\n",
              "      <td>Patriot</td>\n",
              "      <td>suv</td>\n",
              "      <td>2015</td>\n",
              "      <td>Atlanta</td>\n",
              "    </tr>\n",
              "    <tr>\n",
              "      <th>223</th>\n",
              "      <td>NaN</td>\n",
              "      <td>5.00</td>\n",
              "      <td>10</td>\n",
              "      <td>8</td>\n",
              "      <td>Atlanta</td>\n",
              "      <td>US</td>\n",
              "      <td>33.753282</td>\n",
              "      <td>-84.466572</td>\n",
              "      <td>GA</td>\n",
              "      <td>1886829</td>\n",
              "      <td>299</td>\n",
              "      <td>Land Rover</td>\n",
              "      <td>Range Rover</td>\n",
              "      <td>suv</td>\n",
              "      <td>2020</td>\n",
              "      <td>Atlanta</td>\n",
              "    </tr>\n",
              "    <tr>\n",
              "      <th>225</th>\n",
              "      <td>GASOLINE</td>\n",
              "      <td>4.91</td>\n",
              "      <td>36</td>\n",
              "      <td>34</td>\n",
              "      <td>Atlanta</td>\n",
              "      <td>US</td>\n",
              "      <td>33.811329</td>\n",
              "      <td>-84.375881</td>\n",
              "      <td>GA</td>\n",
              "      <td>3659271</td>\n",
              "      <td>99</td>\n",
              "      <td>BMW</td>\n",
              "      <td>4 Series Gran Coupe</td>\n",
              "      <td>car</td>\n",
              "      <td>2016</td>\n",
              "      <td>Atlanta</td>\n",
              "    </tr>\n",
              "    <tr>\n",
              "      <th>229</th>\n",
              "      <td>GASOLINE</td>\n",
              "      <td>4.70</td>\n",
              "      <td>100</td>\n",
              "      <td>81</td>\n",
              "      <td>Atlanta</td>\n",
              "      <td>US</td>\n",
              "      <td>33.772969</td>\n",
              "      <td>-84.419985</td>\n",
              "      <td>GA</td>\n",
              "      <td>7221030</td>\n",
              "      <td>50</td>\n",
              "      <td>Buick</td>\n",
              "      <td>LaCrosse</td>\n",
              "      <td>car</td>\n",
              "      <td>2016</td>\n",
              "      <td>Atlanta</td>\n",
              "    </tr>\n",
              "    <tr>\n",
              "      <th>232</th>\n",
              "      <td>GASOLINE</td>\n",
              "      <td>4.73</td>\n",
              "      <td>52</td>\n",
              "      <td>37</td>\n",
              "      <td>Atlanta</td>\n",
              "      <td>US</td>\n",
              "      <td>33.772143</td>\n",
              "      <td>-84.418645</td>\n",
              "      <td>GA</td>\n",
              "      <td>7221030</td>\n",
              "      <td>58</td>\n",
              "      <td>Volkswagen</td>\n",
              "      <td>Tiguan</td>\n",
              "      <td>suv</td>\n",
              "      <td>2011</td>\n",
              "      <td>Atlanta</td>\n",
              "    </tr>\n",
              "  </tbody>\n",
              "</table>\n",
              "<p>96 rows × 16 columns</p>\n",
              "</div>\n",
              "      <button class=\"colab-df-convert\" onclick=\"convertToInteractive('df-6bbb5b36-9369-41ec-b9e5-8989c6b989ad')\"\n",
              "              title=\"Convert this dataframe to an interactive table.\"\n",
              "              style=\"display:none;\">\n",
              "        \n",
              "  <svg xmlns=\"http://www.w3.org/2000/svg\" height=\"24px\"viewBox=\"0 0 24 24\"\n",
              "       width=\"24px\">\n",
              "    <path d=\"M0 0h24v24H0V0z\" fill=\"none\"/>\n",
              "    <path d=\"M18.56 5.44l.94 2.06.94-2.06 2.06-.94-2.06-.94-.94-2.06-.94 2.06-2.06.94zm-11 1L8.5 8.5l.94-2.06 2.06-.94-2.06-.94L8.5 2.5l-.94 2.06-2.06.94zm10 10l.94 2.06.94-2.06 2.06-.94-2.06-.94-.94-2.06-.94 2.06-2.06.94z\"/><path d=\"M17.41 7.96l-1.37-1.37c-.4-.4-.92-.59-1.43-.59-.52 0-1.04.2-1.43.59L10.3 9.45l-7.72 7.72c-.78.78-.78 2.05 0 2.83L4 21.41c.39.39.9.59 1.41.59.51 0 1.02-.2 1.41-.59l7.78-7.78 2.81-2.81c.8-.78.8-2.07 0-2.86zM5.41 20L4 18.59l7.72-7.72 1.47 1.35L5.41 20z\"/>\n",
              "  </svg>\n",
              "      </button>\n",
              "      \n",
              "  <style>\n",
              "    .colab-df-container {\n",
              "      display:flex;\n",
              "      flex-wrap:wrap;\n",
              "      gap: 12px;\n",
              "    }\n",
              "\n",
              "    .colab-df-convert {\n",
              "      background-color: #E8F0FE;\n",
              "      border: none;\n",
              "      border-radius: 50%;\n",
              "      cursor: pointer;\n",
              "      display: none;\n",
              "      fill: #1967D2;\n",
              "      height: 32px;\n",
              "      padding: 0 0 0 0;\n",
              "      width: 32px;\n",
              "    }\n",
              "\n",
              "    .colab-df-convert:hover {\n",
              "      background-color: #E2EBFA;\n",
              "      box-shadow: 0px 1px 2px rgba(60, 64, 67, 0.3), 0px 1px 3px 1px rgba(60, 64, 67, 0.15);\n",
              "      fill: #174EA6;\n",
              "    }\n",
              "\n",
              "    [theme=dark] .colab-df-convert {\n",
              "      background-color: #3B4455;\n",
              "      fill: #D2E3FC;\n",
              "    }\n",
              "\n",
              "    [theme=dark] .colab-df-convert:hover {\n",
              "      background-color: #434B5C;\n",
              "      box-shadow: 0px 1px 3px 1px rgba(0, 0, 0, 0.15);\n",
              "      filter: drop-shadow(0px 1px 2px rgba(0, 0, 0, 0.3));\n",
              "      fill: #FFFFFF;\n",
              "    }\n",
              "  </style>\n",
              "\n",
              "      <script>\n",
              "        const buttonEl =\n",
              "          document.querySelector('#df-6bbb5b36-9369-41ec-b9e5-8989c6b989ad button.colab-df-convert');\n",
              "        buttonEl.style.display =\n",
              "          google.colab.kernel.accessAllowed ? 'block' : 'none';\n",
              "\n",
              "        async function convertToInteractive(key) {\n",
              "          const element = document.querySelector('#df-6bbb5b36-9369-41ec-b9e5-8989c6b989ad');\n",
              "          const dataTable =\n",
              "            await google.colab.kernel.invokeFunction('convertToInteractive',\n",
              "                                                     [key], {});\n",
              "          if (!dataTable) return;\n",
              "\n",
              "          const docLinkHtml = 'Like what you see? Visit the ' +\n",
              "            '<a target=\"_blank\" href=https://colab.research.google.com/notebooks/data_table.ipynb>data table notebook</a>'\n",
              "            + ' to learn more about interactive tables.';\n",
              "          element.innerHTML = '';\n",
              "          dataTable['output_type'] = 'display_data';\n",
              "          await google.colab.output.renderOutput(dataTable, element);\n",
              "          const docLink = document.createElement('div');\n",
              "          docLink.innerHTML = docLinkHtml;\n",
              "          element.appendChild(docLink);\n",
              "        }\n",
              "      </script>\n",
              "    </div>\n",
              "  </div>\n",
              "  "
            ]
          },
          "metadata": {},
          "execution_count": 80
        }
      ]
    },
    {
      "cell_type": "code",
      "source": [
        "\n",
        "all_cars_df"
      ],
      "metadata": {
        "colab": {
          "base_uri": "https://localhost:8080/",
          "height": 463
        },
        "id": "-YONJdV6fCoW",
        "outputId": "be01049f-8817-41db-a277-f5a7dea97a70"
      },
      "execution_count": 81,
      "outputs": [
        {
          "output_type": "execute_result",
          "data": {
            "text/plain": [
              "       Unnamed: 0  Vehicle_id          Vehicle_Name      Category  \\\n",
              "0              85   644881578  Ford Mustang  Cabrio      Standard   \n",
              "1              92   646119363   Ford Mustang Cabrio      Standard   \n",
              "2              81   644901178  Ford Mustang  Cabrio      Standard   \n",
              "3              79   644861498  Ford Mustang  Cabrio      Standard   \n",
              "4              87   646151248   Ford Mustang Cabrio      Standard   \n",
              "...           ...         ...                   ...           ...   \n",
              "33471           3   636464748     Hyundai Elantra    Intermediate   \n",
              "33472           6   631553748        Toyota Corolla  Intermediate   \n",
              "33473           1   631938668      Toyota Corolla    Intermediate   \n",
              "33474           4   585207153       Nissan Sentra    Intermediate   \n",
              "33475           0   735884601     Hyundai Elantra    Intermediate   \n",
              "\n",
              "      Transmission  Base_Price   Price Date_Pickup Date_Dropoff  \n",
              "0        Automatic      244.83  252.90  2022-11-18   2022-11-19  \n",
              "1        Automatic      231.37  238.99  2022-11-18   2022-11-19  \n",
              "2        Automatic      226.77  234.24  2022-11-18   2022-11-19  \n",
              "3        Automatic      214.75  221.83  2022-11-18   2022-11-19  \n",
              "4        Automatic      213.43  220.46  2022-11-18   2022-11-19  \n",
              "...            ...         ...     ...         ...          ...  \n",
              "33471    Automatic      114.29  118.06  2023-03-02   2023-03-03  \n",
              "33472    Automatic      114.28  118.05  2023-03-02   2023-03-03  \n",
              "33473    Automatic      112.25  115.95  2023-03-02   2023-03-03  \n",
              "33474    Automatic      112.25  115.95  2023-03-02   2023-03-03  \n",
              "33475    Automatic      108.54  112.12  2023-03-02   2023-03-03  \n",
              "\n",
              "[33476 rows x 9 columns]"
            ],
            "text/html": [
              "\n",
              "  <div id=\"df-fe2a2891-ed5d-4148-af35-0d8c3980721a\">\n",
              "    <div class=\"colab-df-container\">\n",
              "      <div>\n",
              "<style scoped>\n",
              "    .dataframe tbody tr th:only-of-type {\n",
              "        vertical-align: middle;\n",
              "    }\n",
              "\n",
              "    .dataframe tbody tr th {\n",
              "        vertical-align: top;\n",
              "    }\n",
              "\n",
              "    .dataframe thead th {\n",
              "        text-align: right;\n",
              "    }\n",
              "</style>\n",
              "<table border=\"1\" class=\"dataframe\">\n",
              "  <thead>\n",
              "    <tr style=\"text-align: right;\">\n",
              "      <th></th>\n",
              "      <th>Unnamed: 0</th>\n",
              "      <th>Vehicle_id</th>\n",
              "      <th>Vehicle_Name</th>\n",
              "      <th>Category</th>\n",
              "      <th>Transmission</th>\n",
              "      <th>Base_Price</th>\n",
              "      <th>Price</th>\n",
              "      <th>Date_Pickup</th>\n",
              "      <th>Date_Dropoff</th>\n",
              "    </tr>\n",
              "  </thead>\n",
              "  <tbody>\n",
              "    <tr>\n",
              "      <th>0</th>\n",
              "      <td>85</td>\n",
              "      <td>644881578</td>\n",
              "      <td>Ford Mustang  Cabrio</td>\n",
              "      <td>Standard</td>\n",
              "      <td>Automatic</td>\n",
              "      <td>244.83</td>\n",
              "      <td>252.90</td>\n",
              "      <td>2022-11-18</td>\n",
              "      <td>2022-11-19</td>\n",
              "    </tr>\n",
              "    <tr>\n",
              "      <th>1</th>\n",
              "      <td>92</td>\n",
              "      <td>646119363</td>\n",
              "      <td>Ford Mustang Cabrio</td>\n",
              "      <td>Standard</td>\n",
              "      <td>Automatic</td>\n",
              "      <td>231.37</td>\n",
              "      <td>238.99</td>\n",
              "      <td>2022-11-18</td>\n",
              "      <td>2022-11-19</td>\n",
              "    </tr>\n",
              "    <tr>\n",
              "      <th>2</th>\n",
              "      <td>81</td>\n",
              "      <td>644901178</td>\n",
              "      <td>Ford Mustang  Cabrio</td>\n",
              "      <td>Standard</td>\n",
              "      <td>Automatic</td>\n",
              "      <td>226.77</td>\n",
              "      <td>234.24</td>\n",
              "      <td>2022-11-18</td>\n",
              "      <td>2022-11-19</td>\n",
              "    </tr>\n",
              "    <tr>\n",
              "      <th>3</th>\n",
              "      <td>79</td>\n",
              "      <td>644861498</td>\n",
              "      <td>Ford Mustang  Cabrio</td>\n",
              "      <td>Standard</td>\n",
              "      <td>Automatic</td>\n",
              "      <td>214.75</td>\n",
              "      <td>221.83</td>\n",
              "      <td>2022-11-18</td>\n",
              "      <td>2022-11-19</td>\n",
              "    </tr>\n",
              "    <tr>\n",
              "      <th>4</th>\n",
              "      <td>87</td>\n",
              "      <td>646151248</td>\n",
              "      <td>Ford Mustang Cabrio</td>\n",
              "      <td>Standard</td>\n",
              "      <td>Automatic</td>\n",
              "      <td>213.43</td>\n",
              "      <td>220.46</td>\n",
              "      <td>2022-11-18</td>\n",
              "      <td>2022-11-19</td>\n",
              "    </tr>\n",
              "    <tr>\n",
              "      <th>...</th>\n",
              "      <td>...</td>\n",
              "      <td>...</td>\n",
              "      <td>...</td>\n",
              "      <td>...</td>\n",
              "      <td>...</td>\n",
              "      <td>...</td>\n",
              "      <td>...</td>\n",
              "      <td>...</td>\n",
              "      <td>...</td>\n",
              "    </tr>\n",
              "    <tr>\n",
              "      <th>33471</th>\n",
              "      <td>3</td>\n",
              "      <td>636464748</td>\n",
              "      <td>Hyundai Elantra</td>\n",
              "      <td>Intermediate</td>\n",
              "      <td>Automatic</td>\n",
              "      <td>114.29</td>\n",
              "      <td>118.06</td>\n",
              "      <td>2023-03-02</td>\n",
              "      <td>2023-03-03</td>\n",
              "    </tr>\n",
              "    <tr>\n",
              "      <th>33472</th>\n",
              "      <td>6</td>\n",
              "      <td>631553748</td>\n",
              "      <td>Toyota Corolla</td>\n",
              "      <td>Intermediate</td>\n",
              "      <td>Automatic</td>\n",
              "      <td>114.28</td>\n",
              "      <td>118.05</td>\n",
              "      <td>2023-03-02</td>\n",
              "      <td>2023-03-03</td>\n",
              "    </tr>\n",
              "    <tr>\n",
              "      <th>33473</th>\n",
              "      <td>1</td>\n",
              "      <td>631938668</td>\n",
              "      <td>Toyota Corolla</td>\n",
              "      <td>Intermediate</td>\n",
              "      <td>Automatic</td>\n",
              "      <td>112.25</td>\n",
              "      <td>115.95</td>\n",
              "      <td>2023-03-02</td>\n",
              "      <td>2023-03-03</td>\n",
              "    </tr>\n",
              "    <tr>\n",
              "      <th>33474</th>\n",
              "      <td>4</td>\n",
              "      <td>585207153</td>\n",
              "      <td>Nissan Sentra</td>\n",
              "      <td>Intermediate</td>\n",
              "      <td>Automatic</td>\n",
              "      <td>112.25</td>\n",
              "      <td>115.95</td>\n",
              "      <td>2023-03-02</td>\n",
              "      <td>2023-03-03</td>\n",
              "    </tr>\n",
              "    <tr>\n",
              "      <th>33475</th>\n",
              "      <td>0</td>\n",
              "      <td>735884601</td>\n",
              "      <td>Hyundai Elantra</td>\n",
              "      <td>Intermediate</td>\n",
              "      <td>Automatic</td>\n",
              "      <td>108.54</td>\n",
              "      <td>112.12</td>\n",
              "      <td>2023-03-02</td>\n",
              "      <td>2023-03-03</td>\n",
              "    </tr>\n",
              "  </tbody>\n",
              "</table>\n",
              "<p>33476 rows × 9 columns</p>\n",
              "</div>\n",
              "      <button class=\"colab-df-convert\" onclick=\"convertToInteractive('df-fe2a2891-ed5d-4148-af35-0d8c3980721a')\"\n",
              "              title=\"Convert this dataframe to an interactive table.\"\n",
              "              style=\"display:none;\">\n",
              "        \n",
              "  <svg xmlns=\"http://www.w3.org/2000/svg\" height=\"24px\"viewBox=\"0 0 24 24\"\n",
              "       width=\"24px\">\n",
              "    <path d=\"M0 0h24v24H0V0z\" fill=\"none\"/>\n",
              "    <path d=\"M18.56 5.44l.94 2.06.94-2.06 2.06-.94-2.06-.94-.94-2.06-.94 2.06-2.06.94zm-11 1L8.5 8.5l.94-2.06 2.06-.94-2.06-.94L8.5 2.5l-.94 2.06-2.06.94zm10 10l.94 2.06.94-2.06 2.06-.94-2.06-.94-.94-2.06-.94 2.06-2.06.94z\"/><path d=\"M17.41 7.96l-1.37-1.37c-.4-.4-.92-.59-1.43-.59-.52 0-1.04.2-1.43.59L10.3 9.45l-7.72 7.72c-.78.78-.78 2.05 0 2.83L4 21.41c.39.39.9.59 1.41.59.51 0 1.02-.2 1.41-.59l7.78-7.78 2.81-2.81c.8-.78.8-2.07 0-2.86zM5.41 20L4 18.59l7.72-7.72 1.47 1.35L5.41 20z\"/>\n",
              "  </svg>\n",
              "      </button>\n",
              "      \n",
              "  <style>\n",
              "    .colab-df-container {\n",
              "      display:flex;\n",
              "      flex-wrap:wrap;\n",
              "      gap: 12px;\n",
              "    }\n",
              "\n",
              "    .colab-df-convert {\n",
              "      background-color: #E8F0FE;\n",
              "      border: none;\n",
              "      border-radius: 50%;\n",
              "      cursor: pointer;\n",
              "      display: none;\n",
              "      fill: #1967D2;\n",
              "      height: 32px;\n",
              "      padding: 0 0 0 0;\n",
              "      width: 32px;\n",
              "    }\n",
              "\n",
              "    .colab-df-convert:hover {\n",
              "      background-color: #E2EBFA;\n",
              "      box-shadow: 0px 1px 2px rgba(60, 64, 67, 0.3), 0px 1px 3px 1px rgba(60, 64, 67, 0.15);\n",
              "      fill: #174EA6;\n",
              "    }\n",
              "\n",
              "    [theme=dark] .colab-df-convert {\n",
              "      background-color: #3B4455;\n",
              "      fill: #D2E3FC;\n",
              "    }\n",
              "\n",
              "    [theme=dark] .colab-df-convert:hover {\n",
              "      background-color: #434B5C;\n",
              "      box-shadow: 0px 1px 3px 1px rgba(0, 0, 0, 0.15);\n",
              "      filter: drop-shadow(0px 1px 2px rgba(0, 0, 0, 0.3));\n",
              "      fill: #FFFFFF;\n",
              "    }\n",
              "  </style>\n",
              "\n",
              "      <script>\n",
              "        const buttonEl =\n",
              "          document.querySelector('#df-fe2a2891-ed5d-4148-af35-0d8c3980721a button.colab-df-convert');\n",
              "        buttonEl.style.display =\n",
              "          google.colab.kernel.accessAllowed ? 'block' : 'none';\n",
              "\n",
              "        async function convertToInteractive(key) {\n",
              "          const element = document.querySelector('#df-fe2a2891-ed5d-4148-af35-0d8c3980721a');\n",
              "          const dataTable =\n",
              "            await google.colab.kernel.invokeFunction('convertToInteractive',\n",
              "                                                     [key], {});\n",
              "          if (!dataTable) return;\n",
              "\n",
              "          const docLinkHtml = 'Like what you see? Visit the ' +\n",
              "            '<a target=\"_blank\" href=https://colab.research.google.com/notebooks/data_table.ipynb>data table notebook</a>'\n",
              "            + ' to learn more about interactive tables.';\n",
              "          element.innerHTML = '';\n",
              "          dataTable['output_type'] = 'display_data';\n",
              "          await google.colab.output.renderOutput(dataTable, element);\n",
              "          const docLink = document.createElement('div');\n",
              "          docLink.innerHTML = docLinkHtml;\n",
              "          element.appendChild(docLink);\n",
              "        }\n",
              "      </script>\n",
              "    </div>\n",
              "  </div>\n",
              "  "
            ]
          },
          "metadata": {},
          "execution_count": 81
        }
      ]
    },
    {
      "cell_type": "code",
      "source": [
        "luxury_cars_df"
      ],
      "metadata": {
        "colab": {
          "base_uri": "https://localhost:8080/",
          "height": 463
        },
        "id": "Ir4wtogwfjQS",
        "outputId": "d37bf70a-d964-470e-ce30-ff42e352b076"
      },
      "execution_count": 82,
      "outputs": [
        {
          "output_type": "execute_result",
          "data": {
            "text/plain": [
              "      Unnamed: 0  Vehicle_id         Vehicle_Name Category Transmission  \\\n",
              "0             82   644881573       Cadillac XTS     Luxury    Automatic   \n",
              "1             84   646119413         Cadillac XTS   Luxury    Automatic   \n",
              "2             93   644901168       Cadillac XTS     Luxury    Automatic   \n",
              "3             90   644861493       Cadillac XTS     Luxury    Automatic   \n",
              "4             89   646151293         Cadillac XTS   Luxury    Automatic   \n",
              "...          ...         ...                  ...      ...          ...   \n",
              "2636          76   636464758       Cadillac XTS     Luxury    Automatic   \n",
              "2637          48   631938698     Buick LaCrosse     Luxury    Automatic   \n",
              "2638          94   585207183       Chrysler 300     Luxury    Automatic   \n",
              "2639          58   735895261       Cadillac XTS     Luxury    Automatic   \n",
              "2640          92   631553768  Lincoln Continental   Luxury    Automatic   \n",
              "\n",
              "      Base_Price   Price Date_Pickup Date_Dropoff  \n",
              "0         176.95  182.78  2022-11-18   2022-11-19  \n",
              "1         163.90  169.30  2022-11-18   2022-11-19  \n",
              "2         158.89  164.13  2022-11-18   2022-11-19  \n",
              "3         146.87  151.71  2022-11-18   2022-11-19  \n",
              "4         145.96  150.77  2022-11-18   2022-11-19  \n",
              "...          ...     ...         ...          ...  \n",
              "2636      156.08  161.22  2023-03-02   2023-03-03  \n",
              "2637      155.49  160.61  2023-03-02   2023-03-03  \n",
              "2638      155.49  160.61  2023-03-02   2023-03-03  \n",
              "2639      150.33  155.28  2023-03-02   2023-03-03  \n",
              "2640      149.49  154.42  2023-03-02   2023-03-03  \n",
              "\n",
              "[2641 rows x 9 columns]"
            ],
            "text/html": [
              "\n",
              "  <div id=\"df-1875468d-bcf4-426a-8354-f4c222e906e5\">\n",
              "    <div class=\"colab-df-container\">\n",
              "      <div>\n",
              "<style scoped>\n",
              "    .dataframe tbody tr th:only-of-type {\n",
              "        vertical-align: middle;\n",
              "    }\n",
              "\n",
              "    .dataframe tbody tr th {\n",
              "        vertical-align: top;\n",
              "    }\n",
              "\n",
              "    .dataframe thead th {\n",
              "        text-align: right;\n",
              "    }\n",
              "</style>\n",
              "<table border=\"1\" class=\"dataframe\">\n",
              "  <thead>\n",
              "    <tr style=\"text-align: right;\">\n",
              "      <th></th>\n",
              "      <th>Unnamed: 0</th>\n",
              "      <th>Vehicle_id</th>\n",
              "      <th>Vehicle_Name</th>\n",
              "      <th>Category</th>\n",
              "      <th>Transmission</th>\n",
              "      <th>Base_Price</th>\n",
              "      <th>Price</th>\n",
              "      <th>Date_Pickup</th>\n",
              "      <th>Date_Dropoff</th>\n",
              "    </tr>\n",
              "  </thead>\n",
              "  <tbody>\n",
              "    <tr>\n",
              "      <th>0</th>\n",
              "      <td>82</td>\n",
              "      <td>644881573</td>\n",
              "      <td>Cadillac XTS</td>\n",
              "      <td>Luxury</td>\n",
              "      <td>Automatic</td>\n",
              "      <td>176.95</td>\n",
              "      <td>182.78</td>\n",
              "      <td>2022-11-18</td>\n",
              "      <td>2022-11-19</td>\n",
              "    </tr>\n",
              "    <tr>\n",
              "      <th>1</th>\n",
              "      <td>84</td>\n",
              "      <td>646119413</td>\n",
              "      <td>Cadillac XTS</td>\n",
              "      <td>Luxury</td>\n",
              "      <td>Automatic</td>\n",
              "      <td>163.90</td>\n",
              "      <td>169.30</td>\n",
              "      <td>2022-11-18</td>\n",
              "      <td>2022-11-19</td>\n",
              "    </tr>\n",
              "    <tr>\n",
              "      <th>2</th>\n",
              "      <td>93</td>\n",
              "      <td>644901168</td>\n",
              "      <td>Cadillac XTS</td>\n",
              "      <td>Luxury</td>\n",
              "      <td>Automatic</td>\n",
              "      <td>158.89</td>\n",
              "      <td>164.13</td>\n",
              "      <td>2022-11-18</td>\n",
              "      <td>2022-11-19</td>\n",
              "    </tr>\n",
              "    <tr>\n",
              "      <th>3</th>\n",
              "      <td>90</td>\n",
              "      <td>644861493</td>\n",
              "      <td>Cadillac XTS</td>\n",
              "      <td>Luxury</td>\n",
              "      <td>Automatic</td>\n",
              "      <td>146.87</td>\n",
              "      <td>151.71</td>\n",
              "      <td>2022-11-18</td>\n",
              "      <td>2022-11-19</td>\n",
              "    </tr>\n",
              "    <tr>\n",
              "      <th>4</th>\n",
              "      <td>89</td>\n",
              "      <td>646151293</td>\n",
              "      <td>Cadillac XTS</td>\n",
              "      <td>Luxury</td>\n",
              "      <td>Automatic</td>\n",
              "      <td>145.96</td>\n",
              "      <td>150.77</td>\n",
              "      <td>2022-11-18</td>\n",
              "      <td>2022-11-19</td>\n",
              "    </tr>\n",
              "    <tr>\n",
              "      <th>...</th>\n",
              "      <td>...</td>\n",
              "      <td>...</td>\n",
              "      <td>...</td>\n",
              "      <td>...</td>\n",
              "      <td>...</td>\n",
              "      <td>...</td>\n",
              "      <td>...</td>\n",
              "      <td>...</td>\n",
              "      <td>...</td>\n",
              "    </tr>\n",
              "    <tr>\n",
              "      <th>2636</th>\n",
              "      <td>76</td>\n",
              "      <td>636464758</td>\n",
              "      <td>Cadillac XTS</td>\n",
              "      <td>Luxury</td>\n",
              "      <td>Automatic</td>\n",
              "      <td>156.08</td>\n",
              "      <td>161.22</td>\n",
              "      <td>2023-03-02</td>\n",
              "      <td>2023-03-03</td>\n",
              "    </tr>\n",
              "    <tr>\n",
              "      <th>2637</th>\n",
              "      <td>48</td>\n",
              "      <td>631938698</td>\n",
              "      <td>Buick LaCrosse</td>\n",
              "      <td>Luxury</td>\n",
              "      <td>Automatic</td>\n",
              "      <td>155.49</td>\n",
              "      <td>160.61</td>\n",
              "      <td>2023-03-02</td>\n",
              "      <td>2023-03-03</td>\n",
              "    </tr>\n",
              "    <tr>\n",
              "      <th>2638</th>\n",
              "      <td>94</td>\n",
              "      <td>585207183</td>\n",
              "      <td>Chrysler 300</td>\n",
              "      <td>Luxury</td>\n",
              "      <td>Automatic</td>\n",
              "      <td>155.49</td>\n",
              "      <td>160.61</td>\n",
              "      <td>2023-03-02</td>\n",
              "      <td>2023-03-03</td>\n",
              "    </tr>\n",
              "    <tr>\n",
              "      <th>2639</th>\n",
              "      <td>58</td>\n",
              "      <td>735895261</td>\n",
              "      <td>Cadillac XTS</td>\n",
              "      <td>Luxury</td>\n",
              "      <td>Automatic</td>\n",
              "      <td>150.33</td>\n",
              "      <td>155.28</td>\n",
              "      <td>2023-03-02</td>\n",
              "      <td>2023-03-03</td>\n",
              "    </tr>\n",
              "    <tr>\n",
              "      <th>2640</th>\n",
              "      <td>92</td>\n",
              "      <td>631553768</td>\n",
              "      <td>Lincoln Continental</td>\n",
              "      <td>Luxury</td>\n",
              "      <td>Automatic</td>\n",
              "      <td>149.49</td>\n",
              "      <td>154.42</td>\n",
              "      <td>2023-03-02</td>\n",
              "      <td>2023-03-03</td>\n",
              "    </tr>\n",
              "  </tbody>\n",
              "</table>\n",
              "<p>2641 rows × 9 columns</p>\n",
              "</div>\n",
              "      <button class=\"colab-df-convert\" onclick=\"convertToInteractive('df-1875468d-bcf4-426a-8354-f4c222e906e5')\"\n",
              "              title=\"Convert this dataframe to an interactive table.\"\n",
              "              style=\"display:none;\">\n",
              "        \n",
              "  <svg xmlns=\"http://www.w3.org/2000/svg\" height=\"24px\"viewBox=\"0 0 24 24\"\n",
              "       width=\"24px\">\n",
              "    <path d=\"M0 0h24v24H0V0z\" fill=\"none\"/>\n",
              "    <path d=\"M18.56 5.44l.94 2.06.94-2.06 2.06-.94-2.06-.94-.94-2.06-.94 2.06-2.06.94zm-11 1L8.5 8.5l.94-2.06 2.06-.94-2.06-.94L8.5 2.5l-.94 2.06-2.06.94zm10 10l.94 2.06.94-2.06 2.06-.94-2.06-.94-.94-2.06-.94 2.06-2.06.94z\"/><path d=\"M17.41 7.96l-1.37-1.37c-.4-.4-.92-.59-1.43-.59-.52 0-1.04.2-1.43.59L10.3 9.45l-7.72 7.72c-.78.78-.78 2.05 0 2.83L4 21.41c.39.39.9.59 1.41.59.51 0 1.02-.2 1.41-.59l7.78-7.78 2.81-2.81c.8-.78.8-2.07 0-2.86zM5.41 20L4 18.59l7.72-7.72 1.47 1.35L5.41 20z\"/>\n",
              "  </svg>\n",
              "      </button>\n",
              "      \n",
              "  <style>\n",
              "    .colab-df-container {\n",
              "      display:flex;\n",
              "      flex-wrap:wrap;\n",
              "      gap: 12px;\n",
              "    }\n",
              "\n",
              "    .colab-df-convert {\n",
              "      background-color: #E8F0FE;\n",
              "      border: none;\n",
              "      border-radius: 50%;\n",
              "      cursor: pointer;\n",
              "      display: none;\n",
              "      fill: #1967D2;\n",
              "      height: 32px;\n",
              "      padding: 0 0 0 0;\n",
              "      width: 32px;\n",
              "    }\n",
              "\n",
              "    .colab-df-convert:hover {\n",
              "      background-color: #E2EBFA;\n",
              "      box-shadow: 0px 1px 2px rgba(60, 64, 67, 0.3), 0px 1px 3px 1px rgba(60, 64, 67, 0.15);\n",
              "      fill: #174EA6;\n",
              "    }\n",
              "\n",
              "    [theme=dark] .colab-df-convert {\n",
              "      background-color: #3B4455;\n",
              "      fill: #D2E3FC;\n",
              "    }\n",
              "\n",
              "    [theme=dark] .colab-df-convert:hover {\n",
              "      background-color: #434B5C;\n",
              "      box-shadow: 0px 1px 3px 1px rgba(0, 0, 0, 0.15);\n",
              "      filter: drop-shadow(0px 1px 2px rgba(0, 0, 0, 0.3));\n",
              "      fill: #FFFFFF;\n",
              "    }\n",
              "  </style>\n",
              "\n",
              "      <script>\n",
              "        const buttonEl =\n",
              "          document.querySelector('#df-1875468d-bcf4-426a-8354-f4c222e906e5 button.colab-df-convert');\n",
              "        buttonEl.style.display =\n",
              "          google.colab.kernel.accessAllowed ? 'block' : 'none';\n",
              "\n",
              "        async function convertToInteractive(key) {\n",
              "          const element = document.querySelector('#df-1875468d-bcf4-426a-8354-f4c222e906e5');\n",
              "          const dataTable =\n",
              "            await google.colab.kernel.invokeFunction('convertToInteractive',\n",
              "                                                     [key], {});\n",
              "          if (!dataTable) return;\n",
              "\n",
              "          const docLinkHtml = 'Like what you see? Visit the ' +\n",
              "            '<a target=\"_blank\" href=https://colab.research.google.com/notebooks/data_table.ipynb>data table notebook</a>'\n",
              "            + ' to learn more about interactive tables.';\n",
              "          element.innerHTML = '';\n",
              "          dataTable['output_type'] = 'display_data';\n",
              "          await google.colab.output.renderOutput(dataTable, element);\n",
              "          const docLink = document.createElement('div');\n",
              "          docLink.innerHTML = docLinkHtml;\n",
              "          element.appendChild(docLink);\n",
              "        }\n",
              "      </script>\n",
              "    </div>\n",
              "  </div>\n",
              "  "
            ]
          },
          "metadata": {},
          "execution_count": 82
        }
      ]
    },
    {
      "cell_type": "code",
      "source": [
        "#cleaning our archived rental data for next 3 months by getting rid of the old index column, \n",
        "#and changing the current index to the Date_Pickup changed to datetime\n",
        "\n",
        "def clean_cars(df):\n",
        "  df1=df.copy()\n",
        "  df1.drop('Unnamed: 0', axis=1, inplace=True)\n",
        "  df1.set_index('Date_Pickup', inplace=True)\n",
        "\n",
        "  df1.index = pd.to_datetime(df1.index, format=('%Y-%m-%d'))\n",
        "  #removing dropoff date since arbitrarily chosen to be 1 day after pickup date\n",
        "  df1.drop('Date_Dropoff', axis=1, inplace = True)\n",
        "\n",
        "  return(df1)\n",
        " "
      ],
      "metadata": {
        "id": "wKGVZ1JlftCU"
      },
      "execution_count": 83,
      "outputs": []
    },
    {
      "cell_type": "code",
      "source": [
        "#luxury_cars_df.columns\n",
        "\n",
        "clean_luxury_cars_df = clean_cars(luxury_cars_df)\n",
        "clean_all_cars_df = clean_cars(all_cars_df)"
      ],
      "metadata": {
        "id": "QErHgJG3hVMQ"
      },
      "execution_count": 84,
      "outputs": []
    },
    {
      "cell_type": "code",
      "source": [
        "#get total counts of all cars in dataframes for each day\n",
        "luxury_count = clean_luxury_cars_df.groupby(clean_luxury_cars_df.index)['Vehicle_id'].count()\n",
        "all_car_count = clean_all_cars_df.groupby(clean_all_cars_df.index)['Vehicle_id'].count()"
      ],
      "metadata": {
        "id": "xrodJSRDhalh"
      },
      "execution_count": 88,
      "outputs": []
    },
    {
      "cell_type": "code",
      "source": [
        "luxury_count.plot()"
      ],
      "metadata": {
        "colab": {
          "base_uri": "https://localhost:8080/",
          "height": 309
        },
        "id": "MReH1Agklffh",
        "outputId": "98c6a47f-16c9-4605-c75d-668701420c80"
      },
      "execution_count": 91,
      "outputs": [
        {
          "output_type": "execute_result",
          "data": {
            "text/plain": [
              "<matplotlib.axes._subplots.AxesSubplot at 0x7f62d25181d0>"
            ]
          },
          "metadata": {},
          "execution_count": 91
        },
        {
          "output_type": "display_data",
          "data": {
            "text/plain": [
              "<Figure size 432x288 with 1 Axes>"
            ],
            "image/png": "[encoded data removed]"
          },
          "metadata": {
            "needs_background": "light"
          }
        }
      ]
    },
    {
      "cell_type": "code",
      "source": [
        "all_car_count.plot()"
      ],
      "metadata": {
        "colab": {
          "base_uri": "https://localhost:8080/",
          "height": 310
        },
        "id": "z2WZGbr8nkoA",
        "outputId": "4dc912d0-d3db-49d5-a8a4-4567cedcb011"
      },
      "execution_count": 92,
      "outputs": [
        {
          "output_type": "execute_result",
          "data": {
            "text/plain": [
              "<matplotlib.axes._subplots.AxesSubplot at 0x7f62d1eff4d0>"
            ]
          },
          "metadata": {},
          "execution_count": 92
        },
        {
          "output_type": "display_data",
          "data": {
            "text/plain": [
              "<Figure size 432x288 with 1 Axes>"
            ],
            "image/png": "[encoded data removed]"
          },
          "metadata": {
            "needs_background": "light"
          }
        }
      ]
    },
    {
      "cell_type": "code",
      "source": [
        "all_car_count.idxmin(), all_car_count.min(), all_car_count.max(), luxury_count.min(), luxury_count.max()"
      ],
      "metadata": {
        "colab": {
          "base_uri": "https://localhost:8080/"
        },
        "id": "5lJaIhyqoceB",
        "outputId": "c9f7eeb9-2289-43dd-dbdb-ddc9af6cecd5"
      },
      "execution_count": 96,
      "outputs": [
        {
          "output_type": "execute_result",
          "data": {
            "text/plain": [
              "(Timestamp('2022-11-24 00:00:00'), 26, 339, 2, 26)"
            ]
          },
          "metadata": {},
          "execution_count": 96
        }
      ]
    },
    {
      "cell_type": "markdown",
      "source": [
        "A couple things to note:\n",
        "1. There is low inventory for both call cars and luxury cars on the dates around 2022-11-24 due to Thanksgiving holiday. \n",
        "2. For luxury cars there is fairly flat inventory after late november, at about 26 cars.\n",
        "3. For all cars, there is some variation in the inventory until shortly after january 1st due to rentals, which appears to have some weekly seasonality. The maximum inventory for all cars is 339 cars, with the mininum being 26 cars at Thanksgiving.\n",
        "4. For all and luxury cars, there is also a relatively low inventory of cars in the next ady or two, which suggests that the majority of cars may be reserved close to when they are needed rather than several weeks away; this seems particularly true for luxury cars. "
      ],
      "metadata": {
        "id": "qjGb4ToVoTKU"
      }
    },
    {
      "cell_type": "code",
      "source": [
        "##look at prices over time for all and luxury cars\n",
        "\n",
        "car_prices = clean_all_cars_df.groupby([clean_all_cars_df.index, 'Vehicle_Name'])['Price'].mean()\n",
        "car_prices"
      ],
      "metadata": {
        "colab": {
          "base_uri": "https://localhost:8080/"
        },
        "id": "nylxi0gloHT_",
        "outputId": "6e96c0af-e981-418c-a7a3-91e0c1e76017"
      },
      "execution_count": 97,
      "outputs": [
        {
          "output_type": "execute_result",
          "data": {
            "text/plain": [
              "Date_Pickup  Vehicle_Name      \n",
              "2022-11-18   Cadillac XTS          152.823333\n",
              "             Cadillac XTS          150.390000\n",
              "             Chevrolet Tahoe       149.440000\n",
              "             Dodge Challenger      115.440000\n",
              "             Ford Expedition       122.060000\n",
              "                                      ...    \n",
              "2023-03-02   Toyota Tacoma         171.070000\n",
              "             Volkswagen Atlas      242.680000\n",
              "             Volkswagen Jetta      187.384286\n",
              "             Volkswagen Jetta      166.288235\n",
              "             Wild Card             222.456667\n",
              "Name: Price, Length: 7314, dtype: float64"
            ]
          },
          "metadata": {},
          "execution_count": 97
        }
      ]
    },
    {
      "cell_type": "code",
      "source": [
        "car_prices.loc['2022-11-18'], car_prices.loc['2022-11-24']"
      ],
      "metadata": {
        "colab": {
          "base_uri": "https://localhost:8080/"
        },
        "id": "hox36vEqrJcj",
        "outputId": "464c9bba-0ff6-4a54-8f35-4a08ed46ed0f"
      },
      "execution_count": 103,
      "outputs": [
        {
          "output_type": "execute_result",
          "data": {
            "text/plain": [
              "(Date_Pickup  Vehicle_Name        \n",
              " 2022-11-18   Cadillac XTS            152.823333\n",
              "              Cadillac XTS            150.390000\n",
              "              Chevrolet Tahoe         149.440000\n",
              "              Dodge Challenger        115.440000\n",
              "              Ford Expedition         122.060000\n",
              "              Ford F150               136.090000\n",
              "              Ford Fusion             113.150000\n",
              "              Ford Fusion              82.168333\n",
              "              Ford Mustang  Cabrio    229.587500\n",
              "              Ford Mustang Cabrio     215.822500\n",
              "              Hyundai Elantra          88.270000\n",
              "              Hyundai Santa Fe        119.860000\n",
              "              Mitsubishi Mirage        82.996250\n",
              "              Nissan Frontier          94.018333\n",
              "              Nissan Maxima           137.266667\n",
              "              Nissan Maxima           134.770000\n",
              "              Nissan Pathfinder       106.767500\n",
              "              Nissan Rogue            113.242500\n",
              "              Nissan Versa             82.996250\n",
              "              Toyota RAV4             107.920000\n",
              "              Toyota RAV4              92.470000\n",
              "              Volkswagen Jetta        112.825000\n",
              "              Volkswagen Jetta         81.850000\n",
              " Name: Price, dtype: float64, Date_Pickup  Vehicle_Name                \n",
              " 2022-11-24   BMW 2 Series                    313.900000\n",
              "              BMW 3 Series                    328.430000\n",
              "              BMW 5 Series                    348.610000\n",
              "              Ford F150                       186.880000\n",
              "              Jeep Grand Cherokee             355.310000\n",
              "              Land Rover Range Rover Velar    416.520000\n",
              "              Mazda CX 5                      300.780000\n",
              "              Mercedes-Benz GLA               361.410000\n",
              "              Mercedes-Benz GLC               379.630000\n",
              "              Nissan Frontier                 124.711667\n",
              "              Nissan Sentra                   273.440000\n",
              "              Nissan Versa                    271.500000\n",
              "              Toyota Camry                    277.200000\n",
              "              Toyota Tacoma                   301.270000\n",
              "              Volkswagen Atlas                429.850000\n",
              "              Volkswagen Jetta                275.380000\n",
              " Name: Price, dtype: float64)"
            ]
          },
          "metadata": {},
          "execution_count": 103
        }
      ]
    },
    {
      "cell_type": "markdown",
      "source": [
        "As a snapshot, here are rental rates for various cars in inventory (averaged by car type) for two dates: today and Thanksgiving. One, the shift is towards more high end cars available on thanksgiving, but also for cars that are available on both days (e.g., Volkswagen Jetter, Nissan Versa), the prices are much higher on Thanksgiving due to the high demand. "
      ],
      "metadata": {
        "id": "xsu_hsW1sLLi"
      }
    },
    {
      "cell_type": "markdown",
      "source": [
        "Let's explore the prices over time for 3 vehicles: Nissan Pathfinder, BMW 5 Series, and Cadillac XTS"
      ],
      "metadata": {
        "id": "KtLfShkjs7sr"
      }
    },
    {
      "cell_type": "code",
      "source": [
        "Pathfinder = clean_all_cars_df[clean_all_cars_df['Vehicle_Name']=='Nissan Pathfinder']['Price']\n",
        "BMW5 = clean_all_cars_df[clean_all_cars_df['Vehicle_Name']=='BMW 5 Series']['Price']\n",
        "Caddy = clean_all_cars_df[clean_all_cars_df['Vehicle_Name']=='Cadillac XTS']['Price']\n"
      ],
      "metadata": {
        "id": "I7-sYXSgrcis"
      },
      "execution_count": 128,
      "outputs": []
    },
    {
      "cell_type": "code",
      "source": [
        "Pathfinder.plot(title='Pathfinder Prices')"
      ],
      "metadata": {
        "colab": {
          "base_uri": "https://localhost:8080/",
          "height": 319
        },
        "id": "ndI0y_GRtnHr",
        "outputId": "ee613b03-d106-402f-e619-fe894c462e3f"
      },
      "execution_count": 132,
      "outputs": [
        {
          "output_type": "execute_result",
          "data": {
            "text/plain": [
              "<matplotlib.axes._subplots.AxesSubplot at 0x7f62d1913d50>"
            ]
          },
          "metadata": {},
          "execution_count": 132
        },
        {
          "output_type": "display_data",
          "data": {
            "text/plain": [
              "<Figure size 432x288 with 1 Axes>"
            ],
            "image/png": "[encoded data removed]"
          },
          "metadata": {
            "needs_background": "light"
          }
        }
      ]
    },
    {
      "cell_type": "code",
      "source": [
        "BMW5.plot(title='BMW 5 Series Prices')"
      ],
      "metadata": {
        "colab": {
          "base_uri": "https://localhost:8080/",
          "height": 325
        },
        "id": "hvhEPAkAxLM0",
        "outputId": "69b07d86-54bd-4100-a8f3-aa1a191e741a"
      },
      "execution_count": 131,
      "outputs": [
        {
          "output_type": "execute_result",
          "data": {
            "text/plain": [
              "<matplotlib.axes._subplots.AxesSubplot at 0x7f62d19f6490>"
            ]
          },
          "metadata": {},
          "execution_count": 131
        },
        {
          "output_type": "display_data",
          "data": {
            "text/plain": [
              "<Figure size 432x288 with 1 Axes>"
            ],
            "image/png": "[encoded data removed]"
          },
          "metadata": {
            "needs_background": "light"
          }
        }
      ]
    },
    {
      "cell_type": "code",
      "source": [
        "Caddy.plot(title = 'Cadillac XTS Prices')"
      ],
      "metadata": {
        "colab": {
          "base_uri": "https://localhost:8080/",
          "height": 319
        },
        "id": "IYxBAWVxyDQj",
        "outputId": "3c02119a-57cf-45d9-de7e-a8634964021a"
      },
      "execution_count": 133,
      "outputs": [
        {
          "output_type": "execute_result",
          "data": {
            "text/plain": [
              "<matplotlib.axes._subplots.AxesSubplot at 0x7f62d189c6d0>"
            ]
          },
          "metadata": {},
          "execution_count": 133
        },
        {
          "output_type": "display_data",
          "data": {
            "text/plain": [
              "<Figure size 432x288 with 1 Axes>"
            ],
            "image/png": "[encoded data removed]"
          },
          "metadata": {
            "needs_background": "light"
          }
        }
      ]
    },
    {
      "cell_type": "code",
      "source": [
        "BMW5.describe()\n"
      ],
      "metadata": {
        "colab": {
          "base_uri": "https://localhost:8080/"
        },
        "id": "FnrtlMcZyvm9",
        "outputId": "6fa6c589-1c70-4a86-d05c-161c5935ec7b"
      },
      "execution_count": 137,
      "outputs": [
        {
          "output_type": "execute_result",
          "data": {
            "text/plain": [
              "count    102.000000\n",
              "mean     241.542059\n",
              "std       43.156775\n",
              "min      156.300000\n",
              "25%      197.420000\n",
              "50%      249.910000\n",
              "75%      262.030000\n",
              "max      365.650000\n",
              "Name: Price, dtype: float64"
            ]
          },
          "metadata": {},
          "execution_count": 137
        }
      ]
    },
    {
      "cell_type": "code",
      "source": [
        "sns.boxplot(BMW5).set_title='BMW 5 Series Price Distribution'"
      ],
      "metadata": {
        "colab": {
          "base_uri": "https://localhost:8080/",
          "height": 333
        },
        "id": "Tmp6hSRG4hjU",
        "outputId": "d3447485-d44d-4fcf-d603-b6b4edd60f34"
      },
      "execution_count": 141,
      "outputs": [
        {
          "output_type": "stream",
          "name": "stderr",
          "text": [
            "/usr/local/lib/python3.7/dist-packages/seaborn/_decorators.py:43: FutureWarning: Pass the following variable as a keyword arg: x. From version 0.12, the only valid positional argument will be `data`, and passing other arguments without an explicit keyword will result in an error or misinterpretation.\n",
            "  FutureWarning\n"
          ]
        },
        {
          "output_type": "display_data",
          "data": {
            "text/plain": [
              "<Figure size 432x288 with 1 Axes>"
            ],
            "image/png": "[encoded data removed]"
          },
          "metadata": {
            "needs_background": "light"
          }
        }
      ]
    },
    {
      "cell_type": "markdown",
      "source": [
        "A couple things to note:\n",
        "1. High demand pricing for all cars over Thanksgiving and then between/around Christmas to New Years. \n",
        "2. There is some weekly seasonality as well, most notable for the BMW (corresponding to the weekends).\n",
        "3. BMW 5 series prices are skewed (left skewed) but with more high price outliers (ie, there are price spikes)\n",
        "4. There are high prices for all the cars in the latter half of February into early March...we will look at the events to see if there is an explanation. "
      ],
      "metadata": {
        "id": "-PaYTwn3y4Zw"
      }
    },
    {
      "cell_type": "code",
      "source": [],
      "metadata": {
        "id": "GoaDDVPJ4R1c"
      },
      "execution_count": null,
      "outputs": []
    }
  ]
}